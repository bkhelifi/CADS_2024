{
 "cells": [
  {
   "cell_type": "markdown",
   "id": "4b02a1f5-d47b-4cbb-93ca-56f913c46b4e",
   "metadata": {},
   "source": [
    "# 1D Spectral analysis"
   ]
  },
  {
   "cell_type": "markdown",
   "id": "164a5407-9460-4662-82ba-9aeb2eae08a3",
   "metadata": {},
   "source": [
    "In this tutorial, we present the basics steps for a 1D spectral analysis. The main aim is to perform a spectral analysis of a point-like source. A spectral analysis consist in stacking all events in the region of interest. Doing this we forget about the spatial information of the source. This is why the 1D analysis is best suited for point-like sources. \n",
    "\n",
    "To estimate the background, we will use off regions taken on the data using reflected regions. "
   ]
  },
  {
   "cell_type": "markdown",
   "id": "5c3a0d59-219f-4824-a307-ce8e4527e58c",
   "metadata": {},
   "source": [
    "## 1. Crab Nebula"
   ]
  },
  {
   "cell_type": "markdown",
   "id": "c12a6711-adf2-4993-9c77-20b366732ff6",
   "metadata": {},
   "source": [
    "### 1.1 Full containment IRFs: H.E.S.S. data"
   ]
  },
  {
   "cell_type": "markdown",
   "id": "ecc9bb23-689a-4a82-9b0e-b56989e3ebef",
   "metadata": {},
   "source": [
    "We are going to analyse the data from the High Energy Stereoscopic System (H.E.S.S.) towards the Crab nebula.  \n",
    "\n",
    "Let's start with some basic imports:"
   ]
  },
  {
   "cell_type": "code",
   "execution_count": 177,
   "id": "bb6874cc-d978-47ff-9d89-969fdcf0b815",
   "metadata": {},
   "outputs": [],
   "source": [
    "from gammapy.data import DataStore\n",
    "from gammapy.maps import MapAxis, RegionGeom, WcsGeom\n",
    "from gammapy.makers import SpectrumDatasetMaker, ReflectedRegionsBackgroundMaker, SafeMaskMaker, WobbleRegionsFinder\n",
    "from gammapy.datasets import SpectrumDataset, Datasets\n",
    "from gammapy.modeling.models import PowerLawSpectralModel, SkyModel, ExpCutoffPowerLawSpectralModel, LogParabolaSpectralModel\n",
    "from gammapy.modeling import Fit\n",
    "from gammapy.estimators import FluxPointsEstimator\n",
    "from gammapy.visualization import plot_spectrum_datasets_off_regions\n",
    "\n",
    "from astropy.coordinates import SkyCoord\n",
    "import astropy.units as u\n",
    "from regions import CircleSkyRegion, PointSkyRegion\n",
    "\n",
    "import matplotlib.pyplot as plt\n",
    "import numpy as np"
   ]
  },
  {
   "cell_type": "markdown",
   "id": "0056707f-d77e-4ccb-a7b0-14b9f5809c33",
   "metadata": {},
   "source": [
    "Create a DataStore instance using the following path to H.E.S.S. data: `$GAMMAPY_DATA/hess-dl3-dr1`."
   ]
  },
  {
   "cell_type": "code",
   "execution_count": 178,
   "id": "bc45f3d6-abe5-428d-94b2-4b5aa88c0412",
   "metadata": {},
   "outputs": [],
   "source": [
    "data_store = DataStore.from_dir(\"$GAMMAPY_DATA/hess-dl3-dr1\")"
   ]
  },
  {
   "cell_type": "markdown",
   "id": "06672082-ef01-45f2-b344-8228847c71f3",
   "metadata": {},
   "source": [
    "Get the Crab coordinates using astropy `SkyCoord`."
   ]
  },
  {
   "cell_type": "code",
   "execution_count": 188,
   "id": "3a052a2d-192f-4007-8f0c-6977bbc72caa",
   "metadata": {},
   "outputs": [],
   "source": [
    "target_position = SkyCoord.from_name(\"Crab\")"
   ]
  },
  {
   "cell_type": "markdown",
   "id": "3a50da57-a075-47f1-ad89-cb949f233af9",
   "metadata": {},
   "source": [
    "To select the relevant runs, we can use the `obs_table` associated to the `DataStore`."
   ]
  },
  {
   "cell_type": "code",
   "execution_count": 180,
   "id": "1e27d7eb-458b-41a0-94b0-b7420c1198aa",
   "metadata": {},
   "outputs": [],
   "source": [
    "obs_table = data_store.obs_table"
   ]
  },
  {
   "cell_type": "markdown",
   "id": "eca42133-2ff3-45b5-8009-a6f51bd70c64",
   "metadata": {},
   "source": [
    "Using `select_sky_circle` method of `obs_table`, select run that are at most at 2.2 deg from the Crab Nebula."
   ]
  },
  {
   "cell_type": "code",
   "execution_count": 181,
   "id": "70390b73-449a-4ede-b8cd-45f9096e6702",
   "metadata": {},
   "outputs": [],
   "source": [
    "obs_table = obs_table.select_sky_circle(target_position, 2.2*u.deg)"
   ]
  },
  {
   "cell_type": "markdown",
   "id": "b5313572-69b3-4e6e-a8ec-92fa0bf67dc9",
   "metadata": {},
   "source": [
    "We can then get the observations using the `get_observations` method of `DataStore`."
   ]
  },
  {
   "cell_type": "code",
   "execution_count": 182,
   "id": "e9ab1fbf-b5ac-46be-b92d-628d1d52b60f",
   "metadata": {},
   "outputs": [],
   "source": [
    "observations = data_store.get_observations(obs_table[\"OBS_ID\"])"
   ]
  },
  {
   "cell_type": "code",
   "execution_count": 183,
   "id": "570ad81a-28b4-458c-86c7-7822ceb1e388",
   "metadata": {},
   "outputs": [
    {
     "name": "stdout",
     "output_type": "stream",
     "text": [
      "Observations\n",
      "Number of observations: 4\n",
      "Observation\n",
      "\n",
      "\tobs id            : 23523 \n",
      " \ttstart            : 53343.92\n",
      "\ttstop             : 53343.94\n",
      "\tduration          : 1687.00 s\n",
      "\tpointing (icrs)   : 83.6 deg, 21.5 deg\n",
      "\n",
      "\tdeadtime fraction : 6.2%\n",
      "Observation\n",
      "\n",
      "\tobs id            : 23526 \n",
      " \ttstart            : 53343.95\n",
      "\ttstop             : 53343.97\n",
      "\tduration          : 1683.00 s\n",
      "\tpointing (icrs)   : 83.6 deg, 22.5 deg\n",
      "\n",
      "\tdeadtime fraction : 6.6%\n",
      "Observation\n",
      "\n",
      "\tobs id            : 23559 \n",
      " \ttstart            : 53345.96\n",
      "\ttstop             : 53345.98\n",
      "\tduration          : 1686.00 s\n",
      "\tpointing (icrs)   : 85.3 deg, 22.0 deg\n",
      "\n",
      "\tdeadtime fraction : 6.4%\n",
      "Observation\n",
      "\n",
      "\tobs id            : 23592 \n",
      " \ttstart            : 53347.91\n",
      "\ttstop             : 53347.93\n",
      "\tduration          : 1686.00 s\n",
      "\tpointing (icrs)   : 82.0 deg, 22.0 deg\n",
      "\n",
      "\tdeadtime fraction : 6.2%\n",
      "\n"
     ]
    }
   ],
   "source": [
    "print(observations)"
   ]
  },
  {
   "cell_type": "markdown",
   "id": "b1cec7d2-f182-4ef7-a0da-2b54ad6fd80b",
   "metadata": {},
   "source": [
    "Define a energy axis using `MapAxis.from_energy_bounds` between 0.1 and 40 TeV. \n",
    "\n",
    "Then define a relevant true energy axis. Remember that the true energy axis should have more bins that the reco energy axis and over a wider range. "
   ]
  },
  {
   "cell_type": "code",
   "execution_count": 184,
   "id": "95d11539-10e9-45cf-b956-5bada466ce97",
   "metadata": {},
   "outputs": [],
   "source": [
    "energy_axis = MapAxis.from_energy_bounds(0.1, 40, 10, per_decade=True, unit=\"TeV\")\n",
    "\n",
    "energy_axis_true = MapAxis.from_energy_bounds(\n",
    "    0.01, 100, 20, unit=\"TeV\", name=\"energy_true\", per_decade=True\n",
    ")"
   ]
  },
  {
   "cell_type": "markdown",
   "id": "6339636f-8417-4a93-92d1-ffc18ff5cdfb",
   "metadata": {},
   "source": [
    "Define a region of interest:"
   ]
  },
  {
   "cell_type": "code",
   "execution_count": 39,
   "id": "3f41503f-10d4-4448-b8c7-54cc1fd5d8bc",
   "metadata": {},
   "outputs": [],
   "source": [
    "on_region = CircleSkyRegion(target_position, 0.1*u.deg)"
   ]
  },
  {
   "cell_type": "markdown",
   "id": "038f53e7-e8b2-4480-a95a-01b2c8d5b796",
   "metadata": {},
   "source": [
    "For the crab, we have to create a exclusion mask. "
   ]
  },
  {
   "cell_type": "code",
   "execution_count": null,
   "id": "1d68e035-56c5-4310-9554-04ac936f5e5b",
   "metadata": {},
   "outputs": [],
   "source": [
    "exclusion_region = CircleSkyRegion(\n",
    "    center=SkyCoord(183.604, -8.708, unit=\"deg\", frame=\"galactic\"),\n",
    "    radius=0.5 * u.deg,\n",
    ")"
   ]
  },
  {
   "cell_type": "markdown",
   "id": "f151f9c1-45e0-44ec-8aa4-fd1015148d7f",
   "metadata": {},
   "source": [
    "Plot the exclusion mask:"
   ]
  },
  {
   "cell_type": "code",
   "execution_count": 198,
   "id": "63428a1e-e707-4883-b855-7c8bae638266",
   "metadata": {},
   "outputs": [
    {
     "data": {
      "image/png": "[encoded data removed]",
      "text/plain": [
       "<Figure size 640x480 with 1 Axes>"
      ]
     },
     "metadata": {},
     "output_type": "display_data"
    }
   ],
   "source": [
    "skydir = target_position.galactic\n",
    "geom = WcsGeom.create(\n",
    "    npix=(150, 150), binsz=0.05, skydir=skydir, proj=\"TAN\", frame=\"icrs\"\n",
    ")\n",
    "\n",
    "exclusion_mask = ~geom.region_mask([exclusion_region])\n",
    "ax = exclusion_mask.plot()\n",
    "ax.scatter(target_position.ra, target_position.dec, transform=ax.get_transform(\"icrs\"), label=\"Crab Nebula\")\n",
    "plt.show()"
   ]
  },
  {
   "cell_type": "markdown",
   "id": "0455940e-d27e-4c8a-b99d-83239ffb9aa2",
   "metadata": {},
   "source": [
    "Create a geometry using `RegionGeom`."
   ]
  },
  {
   "cell_type": "code",
   "execution_count": null,
   "id": "bdae09b1-f051-42b9-8385-09296c76a84c",
   "metadata": {},
   "outputs": [],
   "source": [
    "geom = RegionGeom.create(region=on_region, axes=[energy_axis])"
   ]
  },
  {
   "cell_type": "markdown",
   "id": "23898faa-5003-4810-bc53-97cec199064d",
   "metadata": {},
   "source": [
    "Create an empty `SpectrumDataset`."
   ]
  },
  {
   "cell_type": "code",
   "execution_count": null,
   "id": "fcf0a687-3a60-4d09-8d69-29bc9abec1ed",
   "metadata": {},
   "outputs": [],
   "source": [
    "dataset_empty = SpectrumDataset.create(geom=geom, energy_axis_true=energy_axis_true)"
   ]
  },
  {
   "cell_type": "markdown",
   "id": "d555f641-754e-4a2e-a9f0-7924cfbf1c95",
   "metadata": {},
   "source": [
    "Create the Maker instance that we are going to need for the data reduction.\n",
    "\n",
    "`SpectrumDatasetMaker` will \"fill\" the dataset with reduces IRFs and counts.\n",
    "\n",
    "`ReflectedRegionsBackgroundMaker` will get the off counts from reflected regions.\n",
    "\n",
    "`SafeMaskMaker` will define the safe mask for each dataset."
   ]
  },
  {
   "cell_type": "code",
   "execution_count": null,
   "id": "0a6909a9-bae3-463c-ba34-1bfe5389e9c0",
   "metadata": {},
   "outputs": [],
   "source": [
    "dataset_maker = SpectrumDatasetMaker(\n",
    "    containment_correction=True, selection=[\"counts\", \"exposure\", \"edisp\"]\n",
    ")\n",
    "bkg_maker = ReflectedRegionsBackgroundMaker(exclusion_mask=exclusion_mask)\n",
    "safe_mask_maker = SafeMaskMaker(methods=[\"aeff-max\"], aeff_percent=10)"
   ]
  },
  {
   "cell_type": "markdown",
   "id": "e88c0253-9738-48d3-b7c7-4eb71ac1cc15",
   "metadata": {},
   "source": [
    "Run the data reduction loop. "
   ]
  },
  {
   "cell_type": "code",
   "execution_count": 42,
   "id": "25105a08-fef0-4a52-869a-86be9fa0b550",
   "metadata": {
    "scrolled": true
   },
   "outputs": [
    {
     "name": "stdout",
     "output_type": "stream",
     "text": [
      "Datasets\n",
      "--------\n",
      "\n",
      "Dataset 0: \n",
      "\n",
      "  Type       : SpectrumDatasetOnOff\n",
      "  Name       : 23523\n",
      "  Instrument : HESS\n",
      "  Models     : \n",
      "\n",
      "Dataset 1: \n",
      "\n",
      "  Type       : SpectrumDatasetOnOff\n",
      "  Name       : 23526\n",
      "  Instrument : HESS\n",
      "  Models     : \n",
      "\n",
      "Dataset 2: \n",
      "\n",
      "  Type       : SpectrumDatasetOnOff\n",
      "  Name       : 23559\n",
      "  Instrument : HESS\n",
      "  Models     : \n",
      "\n",
      "Dataset 3: \n",
      "\n",
      "  Type       : SpectrumDatasetOnOff\n",
      "  Name       : 23592\n",
      "  Instrument : HESS\n",
      "  Models     : \n",
      "\n",
      "\n"
     ]
    }
   ],
   "source": [
    "datasets = Datasets()\n",
    "\n",
    "for obs, obs_id in zip(observations, observations.ids):\n",
    "    dataset = dataset_maker.run(dataset_empty.copy(name=obs_id), obs)\n",
    "    dataset_on_off = bkg_maker.run(dataset, obs)\n",
    "    dataset_on_off = safe_mask_maker.run(dataset_on_off, obs)\n",
    "    datasets.append(dataset_on_off)\n",
    "\n",
    "print(datasets)"
   ]
  },
  {
   "cell_type": "markdown",
   "id": "2730eeed-500a-4c39-ac74-e1f45ae45dc2",
   "metadata": {},
   "source": [
    "Info table:"
   ]
  },
  {
   "cell_type": "code",
   "execution_count": 43,
   "id": "b81a7256-e79e-4a90-a9bf-ea9dfb1203dc",
   "metadata": {},
   "outputs": [],
   "source": [
    "info_table = datasets.info_table(cumulative=True)"
   ]
  },
  {
   "cell_type": "code",
   "execution_count": 44,
   "id": "cb6445b3-ee92-4f79-a1ed-ae6ef4990ec7",
   "metadata": {},
   "outputs": [
    {
     "data": {
      "text/html": [
       "<div><i>Table length=4</i>\n",
       "<table id=\"table6213487920\" class=\"table-striped table-bordered table-condensed\">\n",
       "<thead><tr><th>name</th><th>counts</th><th>excess</th><th>sqrt_ts</th><th>background</th><th>npred</th><th>npred_background</th><th>npred_signal</th><th>exposure_min</th><th>exposure_max</th><th>livetime</th><th>ontime</th><th>counts_rate</th><th>background_rate</th><th>excess_rate</th><th>n_bins</th><th>n_fit_bins</th><th>stat_type</th><th>stat_sum</th><th>counts_off</th><th>acceptance</th><th>acceptance_off</th><th>alpha</th></tr></thead>\n",
       "<thead><tr><th></th><th></th><th></th><th></th><th></th><th></th><th></th><th></th><th>m2 s</th><th>m2 s</th><th>s</th><th>s</th><th>1 / s</th><th>1 / s</th><th>1 / s</th><th></th><th></th><th></th><th></th><th></th><th></th><th></th><th></th></tr></thead>\n",
       "<thead><tr><th>str7</th><th>int64</th><th>float64</th><th>float64</th><th>float64</th><th>float64</th><th>float64</th><th>float64</th><th>float64</th><th>float64</th><th>float64</th><th>float64</th><th>float64</th><th>float64</th><th>float64</th><th>int64</th><th>int64</th><th>str5</th><th>float64</th><th>int64</th><th>float64</th><th>float64</th><th>float64</th></tr></thead>\n",
       "<tr><td>stacked</td><td>138</td><td>129.64285278320312</td><td>20.292670756437655</td><td>8.35714340209961</td><td>17.00000070929527</td><td>17.00000070929527</td><td>nan</td><td>261125.234375</td><td>812781824.0</td><td>1581.736764695497</td><td>1687.0000000000016</td><td>0.08724586990716286</td><td>0.005283523522138311</td><td>0.08196234397331019</td><td>27</td><td>18</td><td>wstat</td><td>429.14752802630784</td><td>117</td><td>18.0</td><td>251.99998474121094</td><td>0.0714285746216774</td></tr>\n",
       "<tr><td>stacked</td><td>278</td><td>259.78570556640625</td><td>28.336551725200557</td><td>18.21428680419922</td><td>35.53333481589952</td><td>35.53333481589952</td><td>nan</td><td>1219494.25</td><td>1525205120.0</td><td>3154.4235137812757</td><td>3369.9999999999964</td><td>0.0881302078764799</td><td>0.005774204612862956</td><td>0.0823560008449834</td><td>27</td><td>19</td><td>wstat</td><td>816.8062547635578</td><td>255</td><td>19.0</td><td>266.0</td><td>0.0714285746216774</td></tr>\n",
       "<tr><td>stacked</td><td>406</td><td>381.1987609863281</td><td>36.05074858609181</td><td>24.80124282836914</td><td>41.60576037780791</td><td>41.60576037780791</td><td>nan</td><td>1746170.375</td><td>2010911488.0</td><td>4732.546993609518</td><td>5056.000000000001</td><td>0.08578889983516962</td><td>0.0052405697950509336</td><td>0.08054833084617455</td><td>27</td><td>19</td><td>wstat</td><td>1316.932244361559</td><td>558</td><td>19.0</td><td>427.47857666015625</td><td>0.0444466732442379</td></tr>\n",
       "<tr><td>stacked</td><td>509</td><td>477.9679870605469</td><td>40.72510616549709</td><td>31.032012939453125</td><td>49.173435297609366</td><td>49.173435297609366</td><td>nan</td><td>1906861.875</td><td>2551171840.0</td><td>6313.811659421768</td><td>6741.999999999996</td><td>0.08061691216912467</td><td>0.004914941181868434</td><td>0.07570197098725624</td><td>27</td><td>19</td><td>wstat</td><td>1688.3443102128654</td><td>801</td><td>19.0</td><td>490.4290466308594</td><td>0.0387415885925293</td></tr>\n",
       "</table></div>"
      ],
      "text/plain": [
       "<Table length=4>\n",
       "  name  counts       excess            sqrt_ts           background     ...      stat_sum      counts_off acceptance   acceptance_off         alpha       \n",
       "                                                                        ...                                                                               \n",
       "  str7  int64       float64            float64            float64       ...      float64         int64     float64        float64            float64      \n",
       "------- ------ ------------------ ------------------ ------------------ ... ------------------ ---------- ---------- ------------------ ------------------\n",
       "stacked    138 129.64285278320312 20.292670756437655   8.35714340209961 ... 429.14752802630784        117       18.0 251.99998474121094 0.0714285746216774\n",
       "stacked    278 259.78570556640625 28.336551725200557  18.21428680419922 ...  816.8062547635578        255       19.0              266.0 0.0714285746216774\n",
       "stacked    406  381.1987609863281  36.05074858609181  24.80124282836914 ...  1316.932244361559        558       19.0 427.47857666015625 0.0444466732442379\n",
       "stacked    509  477.9679870605469  40.72510616549709 31.032012939453125 ... 1688.3443102128654        801       19.0  490.4290466308594 0.0387415885925293"
      ]
     },
     "execution_count": 44,
     "metadata": {},
     "output_type": "execute_result"
    }
   ],
   "source": [
    "info_table"
   ]
  },
  {
   "cell_type": "markdown",
   "id": "0b3c6b01-80e6-4af3-b9c5-c086e83edc0d",
   "metadata": {},
   "source": [
    "Plot the reflected regions:"
   ]
  },
  {
   "cell_type": "code",
   "execution_count": 45,
   "id": "7c87a67f-8b1d-4642-83fb-8e8d8429a01f",
   "metadata": {},
   "outputs": [
    {
     "name": "stderr",
     "output_type": "stream",
     "text": [
      "/Users/mregeard/anaconda3/envs/gammapy-1.2/lib/python3.10/site-packages/regions/shapes/circle.py:161: UserWarning: Setting the 'color' property will override the edgecolor or facecolor properties.\n",
      "  return Circle(xy=xy, radius=radius, **mpl_kwargs)\n",
      "/Users/mregeard/anaconda3/envs/gammapy-1.2/lib/python3.10/site-packages/gammapy/visualization/datasets.py:84: UserWarning: Setting the 'color' property will override the edgecolor or facecolor properties.\n",
      "  handle = Patch(**plot_kwargs)\n"
     ]
    },
    {
     "data": {
      "image/png": "[encoded data removed]",
      "text/plain": [
       "<Figure size 640x480 with 1 Axes>"
      ]
     },
     "metadata": {},
     "output_type": "display_data"
    }
   ],
   "source": [
    "plt.figure()\n",
    "ax = exclusion_mask.plot()\n",
    "on_region.to_pixel(ax.wcs).plot(ax=ax, edgecolor=\"k\")\n",
    "plot_spectrum_datasets_off_regions(ax=ax, datasets=datasets)\n",
    "plt.show()"
   ]
  },
  {
   "cell_type": "markdown",
   "id": "b160196f-46e2-424f-8f81-b6144cb5824b",
   "metadata": {},
   "source": [
    "Stack the dataset using `stack_reduce`."
   ]
  },
  {
   "cell_type": "code",
   "execution_count": 46,
   "id": "877d9ae0-11e1-4ea1-9159-5e9ce6fc1bb9",
   "metadata": {},
   "outputs": [],
   "source": [
    "stacked = datasets.stack_reduce(name=\"stacked\")"
   ]
  },
  {
   "cell_type": "markdown",
   "id": "bdbfe18c-b4aa-4be3-82c6-672ab39bc0eb",
   "metadata": {},
   "source": [
    "Create a power-law using the `PowerLawSpectralModel`."
   ]
  },
  {
   "cell_type": "code",
   "execution_count": 47,
   "id": "b5058ac1-9c33-46e7-9f3f-f4b837aa726a",
   "metadata": {},
   "outputs": [],
   "source": [
    "spectral_model = PowerLawSpectralModel(\n",
    "    index=2, \n",
    "    amplitude=2e-11 * u.Unit(\"cm-2 s-1 TeV-1\"), \n",
    "    reference=1*u.TeV\n",
    ")"
   ]
  },
  {
   "cell_type": "markdown",
   "id": "bf8503f0-251e-44b9-8f1a-01c382c8db70",
   "metadata": {},
   "source": [
    "Create a `SkyModel`."
   ]
  },
  {
   "cell_type": "code",
   "execution_count": 48,
   "id": "2533a59d-1de4-4bc9-b734-81503fff4714",
   "metadata": {},
   "outputs": [],
   "source": [
    "sky_model = SkyModel(spectral_model=spectral_model, name=\"Crab\")"
   ]
  },
  {
   "cell_type": "markdown",
   "id": "4f233543-3ff7-40db-8dd2-3f3cd75c9e6f",
   "metadata": {},
   "source": [
    "Fit the model to the stacked dataset."
   ]
  },
  {
   "cell_type": "code",
   "execution_count": 49,
   "id": "2622929a-bfe2-4596-8eac-4484022d4109",
   "metadata": {},
   "outputs": [],
   "source": [
    "stacked.models = sky_model"
   ]
  },
  {
   "cell_type": "code",
   "execution_count": 50,
   "id": "9dcc1bbc-4b4e-4409-84c0-356936b1870a",
   "metadata": {},
   "outputs": [],
   "source": [
    "fit = Fit()\n",
    "result = fit.run(datasets=stacked)"
   ]
  },
  {
   "cell_type": "code",
   "execution_count": 51,
   "id": "a31a059d-566a-49ba-9eb6-dc73753896e5",
   "metadata": {},
   "outputs": [
    {
     "name": "stdout",
     "output_type": "stream",
     "text": [
      "OptimizeResult\n",
      "\n",
      "\tbackend    : minuit\n",
      "\tmethod     : migrad\n",
      "\tsuccess    : True\n",
      "\tmessage    : Optimization terminated successfully.\n",
      "\tnfev       : 47\n",
      "\ttotal stat : 14.13\n",
      "\n",
      "CovarianceResult\n",
      "\n",
      "\tbackend    : minuit\n",
      "\tmethod     : hesse\n",
      "\tsuccess    : True\n",
      "\tmessage    : Hesse terminated successfully.\n",
      "\n"
     ]
    }
   ],
   "source": [
    "print(result)"
   ]
  },
  {
   "cell_type": "code",
   "execution_count": 52,
   "id": "c7783889-efcb-4e57-ae51-cf3d0383e5cd",
   "metadata": {},
   "outputs": [
    {
     "data": {
      "text/html": [
       "<pre>DatasetModels\n",
       "\n",
       "Component 0: SkyModel\n",
       "\n",
       "  Name                      : Crab\n",
       "  Datasets names            : None\n",
       "  Spectral model type       : PowerLawSpectralModel\n",
       "  Spatial  model type       : \n",
       "  Temporal model type       : \n",
       "  Parameters:\n",
       "    index                         :      2.637   +/-    0.07             \n",
       "    amplitude                     :   4.27e-11   +/- 2.3e-12 1 / (TeV s cm2)\n",
       "    reference             (frozen):      1.000       TeV         \n",
       "\n",
       "</pre>"
      ],
      "text/plain": [
       "<gammapy.modeling.models.core.DatasetModels at 0x1726578b0>"
      ]
     },
     "execution_count": 52,
     "metadata": {},
     "output_type": "execute_result"
    }
   ],
   "source": [
    "stacked.models"
   ]
  },
  {
   "cell_type": "markdown",
   "id": "5949efba-82e6-4fa5-a47d-f864594a88f1",
   "metadata": {},
   "source": [
    "Print the residuals:"
   ]
  },
  {
   "cell_type": "code",
   "execution_count": 53,
   "id": "ed5a8c23-f80e-4a12-963c-84e2dd34ae17",
   "metadata": {},
   "outputs": [
    {
     "data": {
      "text/plain": [
       "<Axes: xlabel='Energy [$\\\\mathrm{TeV}$]', ylabel='Residuals ((data - model) / sqrt(model))'>"
      ]
     },
     "execution_count": 53,
     "metadata": {},
     "output_type": "execute_result"
    },
    {
     "data": {
      "image/png": "[encoded data removed]",
      "text/plain": [
       "<Figure size 640x480 with 1 Axes>"
      ]
     },
     "metadata": {},
     "output_type": "display_data"
    }
   ],
   "source": [
    "stacked.plot_residuals_spectral(method=\"diff/sqrt(model)\")"
   ]
  },
  {
   "cell_type": "markdown",
   "id": "933242dd-de5c-4268-91a7-6d70f3fea7d9",
   "metadata": {},
   "source": [
    "Extract flux points:"
   ]
  },
  {
   "cell_type": "code",
   "execution_count": 54,
   "id": "e21d2c24-51b2-4821-8b41-e824d89e646b",
   "metadata": {},
   "outputs": [],
   "source": [
    "fp = FluxPointsEstimator(\n",
    "     energy_edges=energy_axis.edges, \n",
    "    source=\"Crab\", \n",
    "    selection_optional=\"all\"\n",
    ").run(datasets=stacked)"
   ]
  },
  {
   "cell_type": "markdown",
   "id": "8597c3a9-8872-4aa1-9fd1-24c1f6c7c6fc",
   "metadata": {},
   "source": [
    "Plot the model and flux points."
   ]
  },
  {
   "cell_type": "code",
   "execution_count": 55,
   "id": "3ec739b3-1555-4fc5-9921-9c8801f4147d",
   "metadata": {},
   "outputs": [
    {
     "data": {
      "text/plain": [
       "<Axes: xlabel='Energy [$\\\\mathrm{TeV}$]', ylabel='e2dnde [$\\\\mathrm{erg\\\\,s^{-1}\\\\,cm^{-2}}$]'>"
      ]
     },
     "execution_count": 55,
     "metadata": {},
     "output_type": "execute_result"
    },
    {
     "data": {
      "image/png": "[encoded data removed]",
      "text/plain": [
       "<Figure size 640x480 with 1 Axes>"
      ]
     },
     "metadata": {},
     "output_type": "display_data"
    }
   ],
   "source": [
    "sed_type = \"e2dnde\"\n",
    "energy_bounds = [0.4, 40]*u.TeV\n",
    "\n",
    "stacked.models[0].spectral_model.plot(energy_bounds=energy_bounds, sed_type=sed_type, label=\"Best fit\")\n",
    "stacked.models[0].spectral_model.plot_error(energy_bounds=energy_bounds, sed_type=sed_type)\n",
    "fp.plot(sed_type=sed_type, label=\"Flux Points\")"
   ]
  },
  {
   "cell_type": "markdown",
   "id": "6f0fc38d-9c05-4e6a-852b-d0d12ef87c90",
   "metadata": {},
   "source": [
    "#### Model significance\n",
    "\n",
    "Exercise: Is a power-law the best model to describe the data ? \n",
    "\n",
    "To answer this question, we propose to use a likelihood ratio test (see Jonathan lecture) test both a `LogParabolaSpectralModel` and an `ExpCutoffPowerLawSpectralModel`.\n",
    "\n",
    "Are those two models nested models to a power-law respectively ?\n",
    "\n",
    "Can we apply Wilk's theorem ? \n",
    "\n",
    "Knowing that the \"total stat\" of the fit result is $-2\\ln(\\mathcal{L})$, where $\\mathcal{L}$ is the likelihood, compute the significance of the exponentially cutoff power-law and the log-parabola against the power-law. \n",
    "\n",
    "Can you do the same likelihood ratio test to distinguish the exponentially cutoff power-law and the log-parabola ?"
   ]
  },
  {
   "cell_type": "code",
   "execution_count": 56,
   "id": "1f90f768-344e-42bf-9b1b-4662c76fa933",
   "metadata": {},
   "outputs": [],
   "source": [
    "spectral_model_exp = ExpCutoffPowerLawSpectralModel(\n",
    "    index=2, \n",
    "    amplitude=2e-11 * u.Unit(\"cm-2 s-1 TeV-1\"), \n",
    "    reference=1*u.TeV,\n",
    "    lambda_ = (1/10)/u.TeV,\n",
    ")"
   ]
  },
  {
   "cell_type": "code",
   "execution_count": 57,
   "id": "0103aa57-2f17-4b22-bdfd-b3eb0e13aa80",
   "metadata": {},
   "outputs": [],
   "source": [
    "sky_model_exp = SkyModel(spectral_model=spectral_model_exp, name=\"Crab exp\")"
   ]
  },
  {
   "cell_type": "code",
   "execution_count": 58,
   "id": "4242b470-823d-4f67-9c32-3a0eea1d6d2a",
   "metadata": {},
   "outputs": [],
   "source": [
    "stacked.models = sky_model_exp"
   ]
  },
  {
   "cell_type": "code",
   "execution_count": 59,
   "id": "dd122116-4cc8-4437-9f5a-04a7dce611a6",
   "metadata": {},
   "outputs": [],
   "source": [
    "fit = Fit()\n",
    "result_exp = fit.run(datasets=stacked)"
   ]
  },
  {
   "cell_type": "code",
   "execution_count": 60,
   "id": "c4954596-26a7-4b3e-b600-c8014ff5a6b7",
   "metadata": {},
   "outputs": [
    {
     "name": "stdout",
     "output_type": "stream",
     "text": [
      "OptimizeResult\n",
      "\n",
      "\tbackend    : minuit\n",
      "\tmethod     : migrad\n",
      "\tsuccess    : True\n",
      "\tmessage    : Optimization terminated successfully.\n",
      "\tnfev       : 94\n",
      "\ttotal stat : 8.28\n",
      "\n",
      "CovarianceResult\n",
      "\n",
      "\tbackend    : minuit\n",
      "\tmethod     : hesse\n",
      "\tsuccess    : True\n",
      "\tmessage    : Hesse terminated successfully.\n",
      "\n"
     ]
    }
   ],
   "source": [
    "print(result_exp)"
   ]
  },
  {
   "cell_type": "code",
   "execution_count": 61,
   "id": "6a3ef254-e07e-4be5-ac60-fac6ad12940b",
   "metadata": {},
   "outputs": [
    {
     "data": {
      "text/html": [
       "<pre>DatasetModels\n",
       "\n",
       "Component 0: SkyModel\n",
       "\n",
       "  Name                      : Crab exp\n",
       "  Datasets names            : None\n",
       "  Spectral model type       : ExpCutoffPowerLawSpectralModel\n",
       "  Spatial  model type       : \n",
       "  Temporal model type       : \n",
       "  Parameters:\n",
       "    index                         :      2.338   +/-    0.15             \n",
       "    amplitude                     :   4.68e-11   +/- 3.4e-12 1 / (TeV s cm2)\n",
       "    reference             (frozen):      1.000       TeV         \n",
       "    lambda_                       :      0.098   +/-    0.05 1 / TeV     \n",
       "    alpha                 (frozen):      1.000                   \n",
       "\n",
       "</pre>"
      ],
      "text/plain": [
       "<gammapy.modeling.models.core.DatasetModels at 0x172299e40>"
      ]
     },
     "execution_count": 61,
     "metadata": {},
     "output_type": "execute_result"
    }
   ],
   "source": [
    "stacked.models"
   ]
  },
  {
   "cell_type": "code",
   "execution_count": 62,
   "id": "23f5df43-6058-4778-9db9-41a8f0d31d0a",
   "metadata": {},
   "outputs": [
    {
     "data": {
      "text/plain": [
       "<Axes: xlabel='Energy [$\\\\mathrm{TeV}$]', ylabel='Residuals ((data - model) / sqrt(model))'>"
      ]
     },
     "execution_count": 62,
     "metadata": {},
     "output_type": "execute_result"
    },
    {
     "data": {
      "image/png": "[encoded data removed]",
      "text/plain": [
       "<Figure size 640x480 with 1 Axes>"
      ]
     },
     "metadata": {},
     "output_type": "display_data"
    }
   ],
   "source": [
    "stacked.plot_residuals_spectral(method=\"diff/sqrt(model)\")"
   ]
  },
  {
   "cell_type": "code",
   "execution_count": 64,
   "id": "f8889747-7d21-44c7-9c59-0829f35a83d9",
   "metadata": {},
   "outputs": [],
   "source": [
    "h0 = result.optimize_result.total_stat\n",
    "h1 = result_exp.optimize_result.total_stat\n",
    "likelihood_ratio_ts = -(h1 - h0)"
   ]
  },
  {
   "cell_type": "code",
   "execution_count": 65,
   "id": "3318aad1-0485-4c23-9173-0b290580f0e9",
   "metadata": {},
   "outputs": [
    {
     "data": {
      "text/plain": [
       "2.4181040416882174"
      ]
     },
     "execution_count": 65,
     "metadata": {},
     "output_type": "execute_result"
    }
   ],
   "source": [
    "np.sqrt(likelihood_ratio_ts)"
   ]
  },
  {
   "cell_type": "code",
   "execution_count": 66,
   "id": "8d45ea3c-6bb8-44cc-ab6b-dd1171d33b8d",
   "metadata": {},
   "outputs": [],
   "source": [
    "fp_exp = FluxPointsEstimator(\n",
    "     energy_edges=energy_axis.edges, \n",
    "    source=\"Crab exp\", \n",
    "    selection_optional=\"all\"\n",
    ").run(datasets=stacked)"
   ]
  },
  {
   "cell_type": "code",
   "execution_count": 68,
   "id": "768521b2-eb2a-4aa7-9598-466fd3ba82fe",
   "metadata": {},
   "outputs": [
    {
     "data": {
      "text/plain": [
       "(0.4, 40)"
      ]
     },
     "execution_count": 68,
     "metadata": {},
     "output_type": "execute_result"
    },
    {
     "data": {
      "image/png": "[encoded data removed]",
      "text/plain": [
       "<Figure size 640x480 with 1 Axes>"
      ]
     },
     "metadata": {},
     "output_type": "display_data"
    }
   ],
   "source": [
    "sed_type = \"e2dnde\"\n",
    "energy_bounds = [0.4, 40]*u.TeV\n",
    "\n",
    "stacked.models[0].spectral_model.plot(energy_bounds=energy_bounds, sed_type=sed_type, label=\"Best fit\")\n",
    "stacked.models[0].spectral_model.plot_error(energy_bounds=energy_bounds, sed_type=sed_type)\n",
    "fp.plot(sed_type=sed_type, label=\"Flux Points\")\n",
    "\n",
    "plt.xlim(0.4, 40)"
   ]
  },
  {
   "cell_type": "code",
   "execution_count": 70,
   "id": "dc8d402f-5fe2-472f-8058-ab429e530786",
   "metadata": {},
   "outputs": [],
   "source": [
    "spectral_model_log = LogParabolaSpectralModel(\n",
    "    alpha=2, \n",
    "    amplitude=2e-11 * u.Unit(\"cm-2 s-1 TeV-1\"), \n",
    "    reference=1*u.TeV,\n",
    "    beta=1,\n",
    ")"
   ]
  },
  {
   "cell_type": "code",
   "execution_count": 71,
   "id": "0fb47e19-013b-4b41-a756-a69f8ad33921",
   "metadata": {},
   "outputs": [],
   "source": [
    "sky_model_log = SkyModel(spectral_model=spectral_model_log, name=\"Crab log\")"
   ]
  },
  {
   "cell_type": "code",
   "execution_count": 72,
   "id": "a3513171-5bb6-46e2-bd72-96001ab4d6e4",
   "metadata": {},
   "outputs": [],
   "source": [
    "stacked.models = sky_model_log"
   ]
  },
  {
   "cell_type": "code",
   "execution_count": 74,
   "id": "6c51ea1e-4d43-4886-9de7-14737c795d26",
   "metadata": {},
   "outputs": [],
   "source": [
    "fit = Fit()\n",
    "result_log = fit.run(datasets=stacked)"
   ]
  },
  {
   "cell_type": "code",
   "execution_count": 75,
   "id": "95b5ac70-dfeb-41c0-a5d2-5c2831de2ad6",
   "metadata": {},
   "outputs": [
    {
     "name": "stdout",
     "output_type": "stream",
     "text": [
      "OptimizeResult\n",
      "\n",
      "\tbackend    : minuit\n",
      "\tmethod     : migrad\n",
      "\tsuccess    : True\n",
      "\tmessage    : Optimization terminated successfully.\n",
      "\tnfev       : 141\n",
      "\ttotal stat : 9.52\n",
      "\n",
      "CovarianceResult\n",
      "\n",
      "\tbackend    : minuit\n",
      "\tmethod     : hesse\n",
      "\tsuccess    : True\n",
      "\tmessage    : Hesse terminated successfully.\n",
      "\n"
     ]
    }
   ],
   "source": [
    "print(result_exp)"
   ]
  },
  {
   "cell_type": "code",
   "execution_count": 76,
   "id": "292ccbc3-5d64-4f81-9db0-2d16ecda272c",
   "metadata": {},
   "outputs": [
    {
     "data": {
      "text/html": [
       "<pre>DatasetModels\n",
       "\n",
       "Component 0: SkyModel\n",
       "\n",
       "  Name                      : Crab log\n",
       "  Datasets names            : None\n",
       "  Spectral model type       : LogParabolaSpectralModel\n",
       "  Spatial  model type       : \n",
       "  Temporal model type       : \n",
       "  Parameters:\n",
       "    amplitude                     :   4.34e-11   +/- 2.4e-12 1 / (TeV s cm2)\n",
       "    reference             (frozen):      1.000       TeV         \n",
       "    alpha                         :      2.380   +/-    0.14             \n",
       "    beta                          :      0.158   +/-    0.08             \n",
       "\n",
       "</pre>"
      ],
      "text/plain": [
       "<gammapy.modeling.models.core.DatasetModels at 0x177829390>"
      ]
     },
     "execution_count": 76,
     "metadata": {},
     "output_type": "execute_result"
    }
   ],
   "source": [
    "stacked.models"
   ]
  },
  {
   "cell_type": "code",
   "execution_count": 77,
   "id": "da113569-9218-460e-9272-35b283ff84d5",
   "metadata": {},
   "outputs": [
    {
     "data": {
      "text/plain": [
       "<Axes: xlabel='Energy [$\\\\mathrm{TeV}$]', ylabel='Residuals ((data - model) / sqrt(model))'>"
      ]
     },
     "execution_count": 77,
     "metadata": {},
     "output_type": "execute_result"
    },
    {
     "data": {
      "image/png": "[encoded data removed]",
      "text/plain": [
       "<Figure size 640x480 with 1 Axes>"
      ]
     },
     "metadata": {},
     "output_type": "display_data"
    }
   ],
   "source": [
    "stacked.plot_residuals_spectral(method=\"diff/sqrt(model)\")"
   ]
  },
  {
   "cell_type": "code",
   "execution_count": 78,
   "id": "80f04f76-1497-4b18-9c6d-e7930e7a6774",
   "metadata": {},
   "outputs": [],
   "source": [
    "h0 = result.optimize_result.total_stat\n",
    "h1 = result_log.optimize_result.total_stat\n",
    "likelihood_ratio_ts = -(h1 - h0)"
   ]
  },
  {
   "cell_type": "code",
   "execution_count": 79,
   "id": "1072a5c5-62f5-4653-ba20-23d4298f41bd",
   "metadata": {},
   "outputs": [
    {
     "data": {
      "text/plain": [
       "2.147316860168191"
      ]
     },
     "execution_count": 79,
     "metadata": {},
     "output_type": "execute_result"
    }
   ],
   "source": [
    "np.sqrt(likelihood_ratio_ts)"
   ]
  },
  {
   "cell_type": "code",
   "execution_count": 81,
   "id": "14493e42-560e-4095-806f-45be60eefadb",
   "metadata": {},
   "outputs": [],
   "source": [
    "fp_log = FluxPointsEstimator(\n",
    "     energy_edges=energy_axis.edges, \n",
    "    source=\"Crab log\", \n",
    "    selection_optional=\"all\"\n",
    ").run(datasets=stacked)"
   ]
  },
  {
   "cell_type": "code",
   "execution_count": 82,
   "id": "5c18a88a-32c3-46c3-958c-87c5cebc42a1",
   "metadata": {},
   "outputs": [
    {
     "data": {
      "text/plain": [
       "(0.4, 40)"
      ]
     },
     "execution_count": 82,
     "metadata": {},
     "output_type": "execute_result"
    },
    {
     "data": {
      "image/png": "[encoded data removed]",
      "text/plain": [
       "<Figure size 640x480 with 1 Axes>"
      ]
     },
     "metadata": {},
     "output_type": "display_data"
    }
   ],
   "source": [
    "sed_type = \"e2dnde\"\n",
    "energy_bounds = [0.4, 40]*u.TeV\n",
    "\n",
    "stacked.models[0].spectral_model.plot(energy_bounds=energy_bounds, sed_type=sed_type, label=\"Best fit\")\n",
    "stacked.models[0].spectral_model.plot_error(energy_bounds=energy_bounds, sed_type=sed_type)\n",
    "fp.plot(sed_type=sed_type, label=\"Flux Points\")\n",
    "\n",
    "plt.xlim(0.4, 40)"
   ]
  },
  {
   "cell_type": "markdown",
   "id": "baf66e9c-6e37-458a-bb36-d06fce02dcd1",
   "metadata": {},
   "source": [
    "### 1.2 Point-like IRFs"
   ]
  },
  {
   "cell_type": "markdown",
   "id": "6083e11f-a8a4-46cc-9f28-61d78d6fe36b",
   "metadata": {},
   "source": [
    "#### Redo the Crab nebulae analysis using \"Point-like\" observations from MAGIC"
   ]
  },
  {
   "cell_type": "markdown",
   "id": "a20088d3-1edb-400a-b5a7-049ce39e09fd",
   "metadata": {},
   "source": [
    "For that you will have to get the data from `$GAMMAPY_DATA/magic/rad_max/data/`. \n",
    "\n",
    "To get the observations, `required_irf=\"point-like\"` has to be passed to `DataStore.get_observations`.\n",
    "\n",
    "Also note that MAGIC energy threshold is lower that H.E.S.S.. You can start your dataset reco energy axis at 50 GeV. Of course, you will have to adapt you true energy in consequences.\n",
    "\n",
    "Finally, using \"point-like\" IRFs, it is better to use Wobble regions for the off counts. You can define region_finder of `ReflectedRegionsBackgroundMaker` to `ReflectedRegionsBackgroundMaker`. "
   ]
  },
  {
   "cell_type": "code",
   "execution_count": 158,
   "id": "a89e4806-3e39-46a9-aab8-97287d2c1972",
   "metadata": {},
   "outputs": [],
   "source": [
    "data_store = DataStore.from_dir(\"$GAMMAPY_DATA/magic/rad_max/data/\")"
   ]
  },
  {
   "cell_type": "code",
   "execution_count": 159,
   "id": "07068a00-e46b-4e61-8b09-0ea28f720e22",
   "metadata": {},
   "outputs": [],
   "source": [
    "observations = data_store.get_observations(required_irf=\"point-like\")"
   ]
  },
  {
   "cell_type": "code",
   "execution_count": 160,
   "id": "8b4915d4-cd35-419f-bf0f-e8465406b85f",
   "metadata": {},
   "outputs": [],
   "source": [
    "on_region = PointSkyRegion(target_position)"
   ]
  },
  {
   "cell_type": "code",
   "execution_count": 161,
   "id": "fb2ded67-e678-4e80-9ed7-7de702dde4b1",
   "metadata": {},
   "outputs": [],
   "source": [
    "energy_axis = MapAxis.from_energy_bounds(\n",
    "    40, 2e4, nbin=5, per_decade=True, unit=\"GeV\", name=\"energy\"\n",
    ")\n",
    "energy_axis_true = MapAxis.from_energy_bounds(\n",
    "    10, 1e5, nbin=10, per_decade=True, unit=\"GeV\", name=\"energy_true\"\n",
    ")"
   ]
  },
  {
   "cell_type": "code",
   "execution_count": 162,
   "id": "a90ef1bd-648f-4a40-affd-e9d31389f25e",
   "metadata": {},
   "outputs": [],
   "source": [
    "geom = RegionGeom.create(region=on_region, axes=[energy_axis])\n",
    "\n",
    "dataset_empty = SpectrumDataset.create(geom=geom, energy_axis_true=energy_axis_true)\n",
    "\n",
    "dataset_maker = SpectrumDatasetMaker(\n",
    "    selection=[\"counts\", \"exposure\", \"edisp\"]\n",
    ")\n",
    "\n",
    "off_region_finder = ReflectedRegionsBackgroundMaker(n_off_regions=3)\n",
    "bkg_maker = ReflectedRegionsBackgroundMaker(region_finder=off_region_finder, exclusion_mask=exclusion_mask)\n",
    "safe_mask_maker = SafeMaskMaker(methods=[\"aeff-max\"], aeff_percent=10)"
   ]
  },
  {
   "cell_type": "code",
   "execution_count": 163,
   "id": "7ba5cff3-ba8e-4af2-9c76-ce862b4ec7db",
   "metadata": {},
   "outputs": [
    {
     "name": "stderr",
     "output_type": "stream",
     "text": [
      "'THETA' axis is stored as a scalar -- converting to 1D array.\n",
      "'THETA' axis is stored as a scalar -- converting to 1D array.\n",
      "'THETA' axis is stored as a scalar -- converting to 1D array.\n",
      "'THETA' axis is stored as a scalar -- converting to 1D array.\n",
      "'THETA' axis is stored as a scalar -- converting to 1D array.\n",
      "'THETA' axis is stored as a scalar -- converting to 1D array.\n",
      "'THETA' axis is stored as a scalar -- converting to 1D array.\n",
      "'THETA' axis is stored as a scalar -- converting to 1D array.\n",
      "'THETA' axis is stored as a scalar -- converting to 1D array.\n",
      "'THETA' axis is stored as a scalar -- converting to 1D array.\n",
      "'THETA' axis is stored as a scalar -- converting to 1D array.\n",
      "'THETA' axis is stored as a scalar -- converting to 1D array.\n",
      "'THETA' axis is stored as a scalar -- converting to 1D array.\n",
      "'THETA' axis is stored as a scalar -- converting to 1D array.\n"
     ]
    },
    {
     "name": "stdout",
     "output_type": "stream",
     "text": [
      "Datasets\n",
      "--------\n",
      "\n",
      "Dataset 0: \n",
      "\n",
      "  Type       : SpectrumDatasetOnOff\n",
      "  Name       : 5029747\n",
      "  Instrument : Unknown\n",
      "  Models     : \n",
      "\n",
      "Dataset 1: \n",
      "\n",
      "  Type       : SpectrumDatasetOnOff\n",
      "  Name       : 5029748\n",
      "  Instrument : Unknown\n",
      "  Models     : \n",
      "\n",
      "\n"
     ]
    }
   ],
   "source": [
    "datasets = Datasets()\n",
    "\n",
    "for obs, obs_id in zip(observations, observations.ids):\n",
    "    dataset = dataset_maker.run(dataset_empty.copy(name=obs_id), obs)\n",
    "    dataset_on_off = bkg_maker.run(dataset, obs)\n",
    "    dataset_on_off = safe_mask_maker.run(dataset_on_off, obs)\n",
    "    datasets.append(dataset_on_off)\n",
    "\n",
    "print(datasets)"
   ]
  },
  {
   "cell_type": "code",
   "execution_count": 164,
   "id": "f720646c-4c42-4e2e-a2e9-ae6e96b86107",
   "metadata": {},
   "outputs": [],
   "source": [
    "stacked = datasets.stack_reduce(name=\"stacked\")"
   ]
  },
  {
   "cell_type": "code",
   "execution_count": 165,
   "id": "b94f7e31-0723-4726-879f-dac63eeef7ba",
   "metadata": {},
   "outputs": [
    {
     "name": "stderr",
     "output_type": "stream",
     "text": [
      "/Users/mregeard/anaconda3/envs/gammapy-1.2/lib/python3.10/site-packages/gammapy/visualization/datasets.py:84: UserWarning: Setting the 'color' property will override the edgecolor or facecolor properties.\n",
      "  handle = Patch(**plot_kwargs)\n"
     ]
    },
    {
     "data": {
      "image/png": "[encoded data removed]",
      "text/plain": [
       "<Figure size 640x480 with 1 Axes>"
      ]
     },
     "metadata": {},
     "output_type": "display_data"
    }
   ],
   "source": [
    "plt.figure()\n",
    "ax = exclusion_mask.plot()\n",
    "on_region.to_pixel(ax.wcs).plot(ax=ax)\n",
    "plot_spectrum_datasets_off_regions(ax=ax, datasets=datasets)\n",
    "plt.show()"
   ]
  },
  {
   "cell_type": "code",
   "execution_count": 166,
   "id": "060902e2-bca4-4435-b6d3-ea9c9302531c",
   "metadata": {},
   "outputs": [],
   "source": [
    "spectral_model_exp = ExpCutoffPowerLawSpectralModel(\n",
    "    index=2, \n",
    "    amplitude=2e-11 * u.Unit(\"cm-2 s-1 TeV-1\"), \n",
    "    reference=1*u.TeV,\n",
    "    lambda_ = (1/10)/u.TeV,\n",
    ")"
   ]
  },
  {
   "cell_type": "code",
   "execution_count": 167,
   "id": "c2a618c8-8fd9-490b-b37f-61d621318215",
   "metadata": {},
   "outputs": [],
   "source": [
    "sky_model_exp = SkyModel(spectral_model=spectral_model_exp, name=\"Crab exp\")"
   ]
  },
  {
   "cell_type": "code",
   "execution_count": 168,
   "id": "ad47f3dd-dd76-4928-a914-f656a0af6019",
   "metadata": {},
   "outputs": [],
   "source": [
    "stacked.models = sky_model_exp"
   ]
  },
  {
   "cell_type": "code",
   "execution_count": 126,
   "id": "9314d8a6-6adf-476f-9c25-bc370217950c",
   "metadata": {},
   "outputs": [],
   "source": [
    "for d in datasets:\n",
    "    d.mask_fit = dataset.counts.geom.energy_mask(20*u.GeV, 20*u.TeV)"
   ]
  },
  {
   "cell_type": "code",
   "execution_count": 169,
   "id": "dc90db91-28be-487f-a379-21f98d6f36b9",
   "metadata": {},
   "outputs": [],
   "source": [
    "fit = Fit()\n",
    "result_exp = fit.run(datasets=stacked)"
   ]
  },
  {
   "cell_type": "code",
   "execution_count": 170,
   "id": "e7ee730f-55d7-4886-addc-cfb9c0ebb1c2",
   "metadata": {},
   "outputs": [
    {
     "name": "stdout",
     "output_type": "stream",
     "text": [
      "OptimizeResult\n",
      "\n",
      "\tbackend    : minuit\n",
      "\tmethod     : migrad\n",
      "\tsuccess    : True\n",
      "\tmessage    : Optimization terminated successfully.\n",
      "\tnfev       : 154\n",
      "\ttotal stat : 7.39\n",
      "\n",
      "CovarianceResult\n",
      "\n",
      "\tbackend    : minuit\n",
      "\tmethod     : hesse\n",
      "\tsuccess    : True\n",
      "\tmessage    : Hesse terminated successfully.\n",
      "\n"
     ]
    }
   ],
   "source": [
    "print(result_exp)"
   ]
  },
  {
   "cell_type": "code",
   "execution_count": 171,
   "id": "9b2ea176-671f-4d96-b9dd-9d6faa536f65",
   "metadata": {},
   "outputs": [
    {
     "name": "stdout",
     "output_type": "stream",
     "text": [
      "DatasetModels\n",
      "\n",
      "Component 0: SkyModel\n",
      "\n",
      "  Name                      : Crab exp\n",
      "  Datasets names            : None\n",
      "  Spectral model type       : ExpCutoffPowerLawSpectralModel\n",
      "  Spatial  model type       : \n",
      "  Temporal model type       : \n",
      "  Parameters:\n",
      "    index                         :      2.012   +/-    0.10             \n",
      "    amplitude                     :   6.63e-11   +/- 1.2e-11 1 / (TeV s cm2)\n",
      "    reference             (frozen):      1.000       TeV         \n",
      "    lambda_                       :      0.360   +/-    0.14 1 / TeV     \n",
      "    alpha                 (frozen):      1.000                   \n",
      "\n",
      "\n"
     ]
    }
   ],
   "source": [
    "print(stacked.models)"
   ]
  },
  {
   "cell_type": "code",
   "execution_count": 172,
   "id": "1affac2f-e27c-46bc-a4cb-faaa49202aec",
   "metadata": {},
   "outputs": [
    {
     "data": {
      "text/plain": [
       "<Axes: xlabel='Energy [$\\\\mathrm{GeV}$]', ylabel='Residuals ((data - model) / sqrt(model))'>"
      ]
     },
     "execution_count": 172,
     "metadata": {},
     "output_type": "execute_result"
    },
    {
     "data": {
      "image/png": "[encoded data removed]",
      "text/plain": [
       "<Figure size 640x480 with 1 Axes>"
      ]
     },
     "metadata": {},
     "output_type": "display_data"
    }
   ],
   "source": [
    "stacked.plot_residuals_spectral(method=\"diff/sqrt(model)\")"
   ]
  },
  {
   "cell_type": "code",
   "execution_count": 173,
   "id": "04fd7ba5-b29e-45f2-aa93-4c3d0f95dbd4",
   "metadata": {},
   "outputs": [],
   "source": [
    "fp_exp = FluxPointsEstimator(\n",
    "     energy_edges=energy_axis.edges, \n",
    "    source=\"Crab exp\", \n",
    "    selection_optional=\"all\"\n",
    ").run(datasets=stacked)"
   ]
  },
  {
   "cell_type": "code",
   "execution_count": 174,
   "id": "2cf2497c-0700-4822-9601-e3daca94390f",
   "metadata": {},
   "outputs": [
    {
     "data": {
      "text/plain": [
       "(2e-12, 2e-10)"
      ]
     },
     "execution_count": 174,
     "metadata": {},
     "output_type": "execute_result"
    },
    {
     "data": {
      "image/png": "[encoded data removed]",
      "text/plain": [
       "<Figure size 640x480 with 1 Axes>"
      ]
     },
     "metadata": {},
     "output_type": "display_data"
    }
   ],
   "source": [
    "sed_type = \"e2dnde\"\n",
    "energy_bounds = [0.08, 20]*u.TeV\n",
    "\n",
    "stacked.models[0].spectral_model.plot(energy_bounds=energy_bounds, sed_type=sed_type, label=\"Best fit\")\n",
    "stacked.models[0].spectral_model.plot_error(energy_bounds=energy_bounds, sed_type=sed_type)\n",
    "fp_exp.plot(sed_type=sed_type, label=\"Flux Points\")\n",
    "\n",
    "plt.xlim(0.08, 20)\n",
    "plt.ylim(2e-12, 2e-10)"
   ]
  },
  {
   "cell_type": "markdown",
   "id": "f8c79c82-817c-458d-b28b-b912be699a26",
   "metadata": {},
   "source": [
    "## Open problem: RX J1713.7-3946 1D"
   ]
  },
  {
   "cell_type": "markdown",
   "id": "ed2be6ca-9245-4594-9a0b-85228e22c32f",
   "metadata": {},
   "source": [
    "This morning we did the analysis of `RX J1713.7-3946` using the 3D anamysis. Do the same analysis with the using a spectral analisys.\n",
    "\n",
    "Questions to ask yourself: \n",
    " - What is the size of the region of interest for this source ?\n",
    " - Do you need an exclusion mask ?\n",
    " - Is your off regions correctly measured ?\n",
    " - Conclude !"
   ]
  },
  {
   "cell_type": "code",
   "execution_count": 4,
   "id": "c7f3bd5c-745a-42e1-8421-e3689ecc0553",
   "metadata": {},
   "outputs": [],
   "source": [
    "target_position = SkyCoord.from_name(\"RX J1713.7-3946\")"
   ]
  },
  {
   "cell_type": "code",
   "execution_count": 5,
   "id": "117be38d-64e2-4861-ad41-771113241ec0",
   "metadata": {},
   "outputs": [],
   "source": [
    "obs_table = data_store.obs_table"
   ]
  },
  {
   "cell_type": "code",
   "execution_count": 8,
   "id": "886a6cc9-819b-4bea-be5c-c81ea44a6133",
   "metadata": {},
   "outputs": [],
   "source": [
    "obs_table = obs_table.select_sky_circle(target_position, 2.2*u.deg)"
   ]
  },
  {
   "cell_type": "code",
   "execution_count": 10,
   "id": "7ee3b45c-1401-4372-a9e7-759a200cb844",
   "metadata": {},
   "outputs": [],
   "source": [
    "observations = data_store.get_observations(obs_table[\"OBS_ID\"])"
   ]
  },
  {
   "cell_type": "code",
   "execution_count": 11,
   "id": "4a5a56f1-c203-4dd9-94b2-c0dc9f4d6cdb",
   "metadata": {
    "scrolled": true
   },
   "outputs": [
    {
     "name": "stdout",
     "output_type": "stream",
     "text": [
      "Observations\n",
      "Number of observations: 15\n",
      "Observation\n",
      "\n",
      "\tobs id            : 20326 \n",
      " \ttstart            : 53112.06\n",
      "\ttstop             : 53112.08\n",
      "\tduration          : 1683.00 s\n",
      "\tpointing (icrs)   : 259.3 deg, -39.8 deg\n",
      "\n",
      "\tdeadtime fraction : 10.9%\n",
      "Observation\n",
      "\n",
      "\tobs id            : 20327 \n",
      " \ttstart            : 53112.09\n",
      "\ttstop             : 53112.10\n",
      "\tduration          : 1683.00 s\n",
      "\tpointing (icrs)   : 257.5 deg, -39.8 deg\n",
      "\n",
      "\tdeadtime fraction : 11.0%\n",
      "Observation\n",
      "\n",
      "\tobs id            : 20349 \n",
      " \ttstart            : 53113.10\n",
      "\ttstop             : 53113.12\n",
      "\tduration          : 1682.00 s\n",
      "\tpointing (icrs)   : 259.3 deg, -39.8 deg\n",
      "\n",
      "\tdeadtime fraction : 11.1%\n",
      "Observation\n",
      "\n",
      "\tobs id            : 20350 \n",
      " \ttstart            : 53113.12\n",
      "\ttstop             : 53113.14\n",
      "\tduration          : 1682.00 s\n",
      "\tpointing (icrs)   : 257.5 deg, -39.8 deg\n",
      "\n",
      "\tdeadtime fraction : 11.0%\n",
      "Observation\n",
      "\n",
      "\tobs id            : 20396 \n",
      " \ttstart            : 53115.10\n",
      "\ttstop             : 53115.12\n",
      "\tduration          : 1683.00 s\n",
      "\tpointing (icrs)   : 258.4 deg, -39.1 deg\n",
      "\n",
      "\tdeadtime fraction : 10.9%\n",
      "Observation\n",
      "\n",
      "\tobs id            : 20397 \n",
      " \ttstart            : 53115.12\n",
      "\ttstop             : 53115.14\n",
      "\tduration          : 1682.00 s\n",
      "\tpointing (icrs)   : 258.4 deg, -40.5 deg\n",
      "\n",
      "\tdeadtime fraction : 10.5%\n",
      "Observation\n",
      "\n",
      "\tobs id            : 20421 \n",
      " \ttstart            : 53116.09\n",
      "\ttstop             : 53116.11\n",
      "\tduration          : 1683.00 s\n",
      "\tpointing (icrs)   : 258.4 deg, -40.5 deg\n",
      "\n",
      "\tdeadtime fraction : 10.8%\n",
      "Observation\n",
      "\n",
      "\tobs id            : 20422 \n",
      " \ttstart            : 53116.11\n",
      "\ttstop             : 53116.13\n",
      "\tduration          : 1683.00 s\n",
      "\tpointing (icrs)   : 258.4 deg, -39.1 deg\n",
      "\n",
      "\tdeadtime fraction : 10.7%\n",
      "Observation\n",
      "\n",
      "\tobs id            : 20517 \n",
      " \ttstart            : 53119.04\n",
      "\ttstop             : 53119.06\n",
      "\tduration          : 1683.00 s\n",
      "\tpointing (icrs)   : 257.5 deg, -39.8 deg\n",
      "\n",
      "\tdeadtime fraction : 10.4%\n",
      "Observation\n",
      "\n",
      "\tobs id            : 20518 \n",
      " \ttstart            : 53119.06\n",
      "\ttstop             : 53119.08\n",
      "\tduration          : 1682.00 s\n",
      "\tpointing (icrs)   : 258.4 deg, -39.1 deg\n",
      "\n",
      "\tdeadtime fraction : 10.5%\n",
      "Observation\n",
      "\n",
      "\tobs id            : 20519 \n",
      " \ttstart            : 53119.09\n",
      "\ttstop             : 53119.11\n",
      "\tduration          : 1682.00 s\n",
      "\tpointing (icrs)   : 258.4 deg, -40.5 deg\n",
      "\n",
      "\tdeadtime fraction : 10.2%\n",
      "Observation\n",
      "\n",
      "\tobs id            : 20521 \n",
      " \ttstart            : 53119.13\n",
      "\ttstop             : 53119.15\n",
      "\tduration          : 1683.00 s\n",
      "\tpointing (icrs)   : 259.3 deg, -39.8 deg\n",
      "\n",
      "\tdeadtime fraction : 9.8%\n",
      "Observation\n",
      "\n",
      "\tobs id            : 20898 \n",
      " \ttstart            : 53146.93\n",
      "\ttstop             : 53146.95\n",
      "\tduration          : 1683.00 s\n",
      "\tpointing (icrs)   : 256.9 deg, -40.5 deg\n",
      "\n",
      "\tdeadtime fraction : 8.4%\n",
      "Observation\n",
      "\n",
      "\tobs id            : 20899 \n",
      " \ttstart            : 53146.95\n",
      "\ttstop             : 53146.97\n",
      "\tduration          : 1682.00 s\n",
      "\tpointing (icrs)   : 257.5 deg, -39.9 deg\n",
      "\n",
      "\tdeadtime fraction : 8.8%\n",
      "Observation\n",
      "\n",
      "\tobs id            : 20900 \n",
      " \ttstart            : 53146.97\n",
      "\ttstop             : 53146.99\n",
      "\tduration          : 1683.00 s\n",
      "\tpointing (icrs)   : 258.0 deg, -39.3 deg\n",
      "\n",
      "\tdeadtime fraction : 9.1%\n",
      "\n"
     ]
    }
   ],
   "source": [
    "print(observations)"
   ]
  },
  {
   "cell_type": "code",
   "execution_count": 89,
   "id": "358ad6c6-a63a-4110-a211-8bb86051f052",
   "metadata": {},
   "outputs": [],
   "source": [
    "energy_axis = MapAxis.from_energy_bounds(0.3, 10.0, 15, unit=\"TeV\")\n",
    "\n",
    "energy_axis_true = MapAxis.from_energy_bounds(\n",
    "    0.1, 20, 20, unit=\"TeV\", name=\"energy_true\"\n",
    ")"
   ]
  },
  {
   "cell_type": "code",
   "execution_count": 121,
   "id": "f553a835-7bb2-4587-ad43-8d19ea56e659",
   "metadata": {},
   "outputs": [],
   "source": [
    "on_region = CircleSkyRegion(target_position, 0.5*u.deg)"
   ]
  },
  {
   "cell_type": "code",
   "execution_count": 122,
   "id": "514df051-ac18-4127-8a5e-2e339229310a",
   "metadata": {},
   "outputs": [],
   "source": [
    "geom = RegionGeom.create(region=on_region, axes=[energy_axis])\n",
    "\n",
    "dataset_empty = SpectrumDataset.create(geom=geom, energy_axis_true=energy_axis_true)\n",
    "\n",
    "dataset_maker = SpectrumDatasetMaker(\n",
    "    containment_correction=True, selection=[\"counts\", \"exposure\", \"edisp\"]\n",
    ")\n",
    "bkg_maker = ReflectedRegionsBackgroundMaker()\n",
    "safe_mask_maker = SafeMaskMaker(methods=[\"aeff-max\"], aeff_percent=10)"
   ]
  },
  {
   "cell_type": "code",
   "execution_count": 123,
   "id": "6b2943e2-f97d-4f38-b665-931d8bf15adc",
   "metadata": {
    "scrolled": true
   },
   "outputs": [
    {
     "name": "stderr",
     "output_type": "stream",
     "text": [
      "ReflectedRegionsBackgroundMaker failed. No OFF region found outside exclusion mask for dataset '20327'.\n",
      "ReflectedRegionsBackgroundMaker failed. Setting 20327 mask to False.\n",
      "ReflectedRegionsBackgroundMaker failed. No OFF region found outside exclusion mask for dataset '20350'.\n",
      "ReflectedRegionsBackgroundMaker failed. Setting 20350 mask to False.\n",
      "ReflectedRegionsBackgroundMaker failed. No OFF region found outside exclusion mask for dataset '20517'.\n",
      "ReflectedRegionsBackgroundMaker failed. Setting 20517 mask to False.\n"
     ]
    },
    {
     "name": "stdout",
     "output_type": "stream",
     "text": [
      "Datasets\n",
      "--------\n",
      "\n",
      "Dataset 0: \n",
      "\n",
      "  Type       : SpectrumDatasetOnOff\n",
      "  Name       : 20326\n",
      "  Instrument : HESS\n",
      "  Models     : \n",
      "\n",
      "Dataset 1: \n",
      "\n",
      "  Type       : SpectrumDatasetOnOff\n",
      "  Name       : 20327\n",
      "  Instrument : HESS\n",
      "  Models     : \n",
      "\n",
      "Dataset 2: \n",
      "\n",
      "  Type       : SpectrumDatasetOnOff\n",
      "  Name       : 20349\n",
      "  Instrument : HESS\n",
      "  Models     : \n",
      "\n",
      "Dataset 3: \n",
      "\n",
      "  Type       : SpectrumDatasetOnOff\n",
      "  Name       : 20350\n",
      "  Instrument : HESS\n",
      "  Models     : \n",
      "\n",
      "Dataset 4: \n",
      "\n",
      "  Type       : SpectrumDatasetOnOff\n",
      "  Name       : 20396\n",
      "  Instrument : HESS\n",
      "  Models     : \n",
      "\n",
      "Dataset 5: \n",
      "\n",
      "  Type       : SpectrumDatasetOnOff\n",
      "  Name       : 20397\n",
      "  Instrument : HESS\n",
      "  Models     : \n",
      "\n",
      "Dataset 6: \n",
      "\n",
      "  Type       : SpectrumDatasetOnOff\n",
      "  Name       : 20421\n",
      "  Instrument : HESS\n",
      "  Models     : \n",
      "\n",
      "Dataset 7: \n",
      "\n",
      "  Type       : SpectrumDatasetOnOff\n",
      "  Name       : 20422\n",
      "  Instrument : HESS\n",
      "  Models     : \n",
      "\n",
      "Dataset 8: \n",
      "\n",
      "  Type       : SpectrumDatasetOnOff\n",
      "  Name       : 20517\n",
      "  Instrument : HESS\n",
      "  Models     : \n",
      "\n",
      "Dataset 9: \n",
      "\n",
      "  Type       : SpectrumDatasetOnOff\n",
      "  Name       : 20518\n",
      "  Instrument : HESS\n",
      "  Models     : \n",
      "\n",
      "Dataset 10: \n",
      "\n",
      "  Type       : SpectrumDatasetOnOff\n",
      "  Name       : 20519\n",
      "  Instrument : HESS\n",
      "  Models     : \n",
      "\n",
      "Dataset 11: \n",
      "\n",
      "  Type       : SpectrumDatasetOnOff\n",
      "  Name       : 20521\n",
      "  Instrument : HESS\n",
      "  Models     : \n",
      "\n",
      "Dataset 12: \n",
      "\n",
      "  Type       : SpectrumDatasetOnOff\n",
      "  Name       : 20898\n",
      "  Instrument : HESS\n",
      "  Models     : \n",
      "\n",
      "Dataset 13: \n",
      "\n",
      "  Type       : SpectrumDatasetOnOff\n",
      "  Name       : 20899\n",
      "  Instrument : HESS\n",
      "  Models     : \n",
      "\n",
      "\n"
     ]
    }
   ],
   "source": [
    "datasets = Datasets()\n",
    "\n",
    "for obs, obs_id in zip(observations, observations.ids):\n",
    "    dataset = dataset_maker.run(dataset_empty.copy(name=obs_id), obs)\n",
    "    dataset_on_off = bkg_maker.run(dataset, obs)\n",
    "    dataset_on_off = safe_mask_maker.run(dataset_on_off, obs)\n",
    "    datasets.append(dataset_on_off)\n",
    "\n",
    "print(datasets)"
   ]
  },
  {
   "cell_type": "code",
   "execution_count": 109,
   "id": "0c191c8a-878b-4133-9155-27b01c106102",
   "metadata": {},
   "outputs": [],
   "source": [
    "info_table = datasets.info_table(cumulative=True)"
   ]
  },
  {
   "cell_type": "code",
   "execution_count": 110,
   "id": "ffa9aa01-624a-4953-8a73-20b09d654c87",
   "metadata": {},
   "outputs": [
    {
     "data": {
      "text/html": [
       "<div><i>Table length=14</i>\n",
       "<table id=\"table6316037632\" class=\"table-striped table-bordered table-condensed\">\n",
       "<thead><tr><th>name</th><th>counts</th><th>excess</th><th>sqrt_ts</th><th>background</th><th>npred</th><th>npred_background</th><th>npred_signal</th><th>exposure_min</th><th>exposure_max</th><th>livetime</th><th>ontime</th><th>counts_rate</th><th>background_rate</th><th>excess_rate</th><th>n_bins</th><th>n_fit_bins</th><th>stat_type</th><th>stat_sum</th><th>counts_off</th><th>acceptance</th><th>acceptance_off</th><th>alpha</th></tr></thead>\n",
       "<thead><tr><th></th><th></th><th></th><th></th><th></th><th></th><th></th><th></th><th>m2 s</th><th>m2 s</th><th>s</th><th>s</th><th>1 / s</th><th>1 / s</th><th>1 / s</th><th></th><th></th><th></th><th></th><th></th><th></th><th></th><th></th></tr></thead>\n",
       "<thead><tr><th>str7</th><th>int64</th><th>float64</th><th>float64</th><th>float64</th><th>float64</th><th>float64</th><th>float64</th><th>float64</th><th>float64</th><th>float64</th><th>float64</th><th>float64</th><th>float64</th><th>float64</th><th>int64</th><th>int64</th><th>str5</th><th>float64</th><th>int64</th><th>float64</th><th>float64</th><th>float64</th></tr></thead>\n",
       "<tr><td>stacked</td><td>284</td><td>87.0</td><td>5.244584308638844</td><td>197.0</td><td>211.5000026263296</td><td>211.5000026263296</td><td>nan</td><td>2708968.5</td><td>406447520.0</td><td>1500.0090973600734</td><td>1682.9999999999993</td><td>0.18933218505129273</td><td>0.13133253681374885</td><td>0.0579996482375439</td><td>15</td><td>15</td><td>wstat</td><td>64.25380759420034</td><td>985</td><td>15.0</td><td>75.0</td><td>0.20000000298023224</td></tr>\n",
       "<tr><td>stacked</td><td>561</td><td>159.50003051757812</td><td>6.523570945824667</td><td>401.5</td><td>437.50317795020584</td><td>437.50317795020584</td><td>nan</td><td>9502705.0</td><td>821627136.0</td><td>2997.083039179447</td><td>3366.0000000000036</td><td>0.1871820008542682</td><td>0.13396358884668214</td><td>0.05321842219001268</td><td>15</td><td>15</td><td>wstat</td><td>81.0130285977751</td><td>1394</td><td>15.0</td><td>52.07970428466797</td><td>0.2880200743675232</td></tr>\n",
       "<tr><td>stacked</td><td>836</td><td>250.0999755859375</td><td>8.555740965863928</td><td>585.9000244140625</td><td>636.7755657548679</td><td>636.7755657548679</td><td>nan</td><td>16034038.0</td><td>1213393664.0</td><td>4491.585450589662</td><td>5048.0000000000055</td><td>0.1861258144137609</td><td>0.13044392249893513</td><td>0.055681891914825754</td><td>15</td><td>15</td><td>wstat</td><td>124.03276720305195</td><td>2316</td><td>15.0</td><td>59.293392181396484</td><td>0.2529792785644531</td></tr>\n",
       "<tr><td>stacked</td><td>1128</td><td>302.5999755859375</td><td>8.649200261436464</td><td>825.4000244140625</td><td>895.1404782635358</td><td>895.1404782635358</td><td>nan</td><td>18965860.0</td><td>1643384320.0</td><td>5989.239929720767</td><td>6730.000000000007</td><td>0.18833775457925095</td><td>0.13781381846436477</td><td>0.050523936114886196</td><td>15</td><td>15</td><td>wstat</td><td>130.99487938592935</td><td>2795</td><td>15.0</td><td>50.793556213378906</td><td>0.2953130602836609</td></tr>\n",
       "<tr><td>stacked</td><td>1434</td><td>408.2667236328125</td><td>10.384220673848745</td><td>1025.7332763671875</td><td>1120.9762480078368</td><td>1120.9762480078368</td><td>nan</td><td>25291306.0</td><td>2053247744.0</td><td>7488.240902796398</td><td>8413.000000000011</td><td>0.19150024933953302</td><td>0.1369792037518637</td><td>0.05452104558766933</td><td>15</td><td>15</td><td>wstat</td><td>168.87022056558033</td><td>3396</td><td>15.0</td><td>49.66203308105469</td><td>0.30204159021377563</td></tr>\n",
       "<tr><td>stacked</td><td>1712</td><td>465.266845703125</td><td>10.82706735176097</td><td>1246.733154296875</td><td>1352.4109361711821</td><td>1352.4109361711821</td><td>nan</td><td>26905694.0</td><td>2468439296.0</td><td>8993.412239596255</td><td>10095.00000000001</td><td>0.1903615618177042</td><td>0.1386273775828656</td><td>0.05173418423483859</td><td>15</td><td>15</td><td>wstat</td><td>190.13945329732115</td><td>4280</td><td>15.0</td><td>51.49457931518555</td><td>0.29129278659820557</td></tr>\n",
       "<tr><td>stacked</td><td>2006</td><td>558.5169677734375</td><td>12.070093410866294</td><td>1447.483154296875</td><td>1571.8948808216555</td><td>1571.8948808216555</td><td>nan</td><td>33063228.0</td><td>2870104064.0</td><td>10494.478251762695</td><td>11778.00000000001</td><td>0.19114814018153442</td><td>0.13792807222729248</td><td>0.053220079586102975</td><td>15</td><td>15</td><td>wstat</td><td>233.48050156350675</td><td>5083</td><td>15.0</td><td>52.674190521240234</td><td>0.2847694456577301</td></tr>\n",
       "<tr><td>stacked</td><td>2323</td><td>654.183349609375</td><td>13.12213207769551</td><td>1668.8165283203125</td><td>1816.6963421138541</td><td>1816.6963421138541</td><td>nan</td><td>34400648.0</td><td>3295418624.0</td><td>11997.819687850784</td><td>13461.000000000015</td><td>0.1936185123995748</td><td>0.13909331626396979</td><td>0.05452518596123038</td><td>15</td><td>15</td><td>wstat</td><td>269.9516467201377</td><td>5747</td><td>15.0</td><td>51.65636444091797</td><td>0.29038047790527344</td></tr>\n",
       "<tr><td>stacked</td><td>2610</td><td>736.18359375</td><td>13.852313712253046</td><td>1873.81640625</td><td>2046.1051954240427</td><td>2046.1051954240427</td><td>nan</td><td>36803400.0</td><td>3730115328.0</td><td>13505.806204825649</td><td>15144.000000000015</td><td>0.193250218492506</td><td>0.13874154403166855</td><td>0.054508674460837465</td><td>15</td><td>15</td><td>wstat</td><td>303.53376114634904</td><td>6157</td><td>15.0</td><td>49.287109375</td><td>0.304339200258255</td></tr>\n",
       "<tr><td>stacked</td><td>2936</td><td>874.51708984375</td><td>15.59173795040545</td><td>2061.48291015625</td><td>2267.2619514163516</td><td>2267.2619514163516</td><td>nan</td><td>43398652.0</td><td>4141279232.0</td><td>15012.005243226893</td><td>16826.00000000001</td><td>0.19557680352694137</td><td>0.1373222881790791</td><td>0.058254515347862273</td><td>15</td><td>15</td><td>wstat</td><td>359.28663622776475</td><td>6720</td><td>15.0</td><td>48.8968391418457</td><td>0.3067682981491089</td></tr>\n",
       "<tr><td>stacked</td><td>3217</td><td>973.766845703125</td><td>16.655094106332434</td><td>2243.233154296875</td><td>2469.106969976372</td><td>2469.106969976372</td><td>nan</td><td>49568188.0</td><td>4545381376.0</td><td>16521.931600078944</td><td>18508.000000000007</td><td>0.19471088961442187</td><td>0.13577305660109115</td><td>0.05893783301333073</td><td>15</td><td>15</td><td>wstat</td><td>396.7205945428266</td><td>7447</td><td>15.0</td><td>49.79643249511719</td><td>0.301226407289505</td></tr>\n",
       "<tr><td>stacked</td><td>3502</td><td>1050.766845703125</td><td>17.298534442244875</td><td>2451.23291015625</td><td>2687.1693062912395</td><td>2687.1693062912395</td><td>nan</td><td>49568188.0</td><td>4985556480.0</td><td>18040.06053927541</td><td>20191.0</td><td>0.19412351706779027</td><td>0.13587719979207483</td><td>0.058246303742466796</td><td>15</td><td>15</td><td>wstat</td><td>421.79840998448384</td><td>8487</td><td>15.0</td><td>51.93508529663086</td><td>0.28882208466529846</td></tr>\n",
       "<tr><td>stacked</td><td>3822</td><td>1163.76708984375</td><td>18.53984087525669</td><td>2658.23291015625</td><td>2905.0324848810483</td><td>2905.0324848810483</td><td>nan</td><td>49568188.0</td><td>5410992640.0</td><td>19580.87228114158</td><td>21873.999999999993</td><td>0.1951904871817679</td><td>0.13575661349450735</td><td>0.05943387368726055</td><td>15</td><td>15</td><td>wstat</td><td>482.14442457068446</td><td>9936</td><td>15.0</td><td>56.067325592041016</td><td>0.2675355076789856</td></tr>\n",
       "<tr><td>stacked</td><td>4136</td><td>1268.26708984375</td><td>19.359728536929712</td><td>2867.73291015625</td><td>3144.063172442376</td><td>3144.063172442376</td><td>nan</td><td>49568188.0</td><td>5872476160.0</td><td>21115.624448381364</td><td>23555.99999999999</td><td>0.19587391365624748</td><td>0.13581094497899532</td><td>0.06006296867725217</td><td>15</td><td>15</td><td>wstat</td><td>524.1504735436409</td><td>10355</td><td>15.0</td><td>54.16299057006836</td><td>0.27694186568260193</td></tr>\n",
       "</table></div>"
      ],
      "text/plain": [
       "<Table length=14>\n",
       "  name  counts       excess            sqrt_ts           background     ...      stat_sum      counts_off acceptance   acceptance_off          alpha       \n",
       "                                                                        ...                                                                                \n",
       "  str7  int64       float64            float64            float64       ...      float64         int64     float64        float64             float64      \n",
       "------- ------ ------------------ ------------------ ------------------ ... ------------------ ---------- ---------- ------------------ -------------------\n",
       "stacked    284               87.0  5.244584308638844              197.0 ...  64.25380759420034        985       15.0               75.0 0.20000000298023224\n",
       "stacked    561 159.50003051757812  6.523570945824667              401.5 ...   81.0130285977751       1394       15.0  52.07970428466797  0.2880200743675232\n",
       "stacked    836  250.0999755859375  8.555740965863928  585.9000244140625 ... 124.03276720305195       2316       15.0 59.293392181396484  0.2529792785644531\n",
       "stacked   1128  302.5999755859375  8.649200261436464  825.4000244140625 ... 130.99487938592935       2795       15.0 50.793556213378906  0.2953130602836609\n",
       "stacked   1434  408.2667236328125 10.384220673848745 1025.7332763671875 ... 168.87022056558033       3396       15.0  49.66203308105469 0.30204159021377563\n",
       "stacked   1712   465.266845703125  10.82706735176097  1246.733154296875 ... 190.13945329732115       4280       15.0  51.49457931518555 0.29129278659820557\n",
       "stacked   2006  558.5169677734375 12.070093410866294  1447.483154296875 ... 233.48050156350675       5083       15.0 52.674190521240234  0.2847694456577301\n",
       "stacked   2323   654.183349609375  13.12213207769551 1668.8165283203125 ...  269.9516467201377       5747       15.0  51.65636444091797 0.29038047790527344\n",
       "stacked   2610       736.18359375 13.852313712253046      1873.81640625 ... 303.53376114634904       6157       15.0       49.287109375   0.304339200258255\n",
       "stacked   2936    874.51708984375  15.59173795040545   2061.48291015625 ... 359.28663622776475       6720       15.0   48.8968391418457  0.3067682981491089\n",
       "stacked   3217   973.766845703125 16.655094106332434  2243.233154296875 ...  396.7205945428266       7447       15.0  49.79643249511719   0.301226407289505\n",
       "stacked   3502  1050.766845703125 17.298534442244875   2451.23291015625 ... 421.79840998448384       8487       15.0  51.93508529663086 0.28882208466529846\n",
       "stacked   3822   1163.76708984375  18.53984087525669   2658.23291015625 ... 482.14442457068446       9936       15.0 56.067325592041016  0.2675355076789856\n",
       "stacked   4136   1268.26708984375 19.359728536929712   2867.73291015625 ...  524.1504735436409      10355       15.0  54.16299057006836 0.27694186568260193"
      ]
     },
     "execution_count": 110,
     "metadata": {},
     "output_type": "execute_result"
    }
   ],
   "source": [
    "info_table"
   ]
  },
  {
   "cell_type": "code",
   "execution_count": 111,
   "id": "4b544553-233e-4007-b907-fb1af6856333",
   "metadata": {},
   "outputs": [],
   "source": [
    "stacked = datasets.stack_reduce(name=\"stacked\")"
   ]
  },
  {
   "cell_type": "code",
   "execution_count": 112,
   "id": "b7b6e63f-48ff-43c0-a046-158258947a50",
   "metadata": {},
   "outputs": [],
   "source": [
    "spectral_model = PowerLawSpectralModel(\n",
    "    index=2, \n",
    "    amplitude=2e-11 * u.Unit(\"cm-2 s-1 TeV-1\"), \n",
    "    reference=1*u.TeV\n",
    ")"
   ]
  },
  {
   "cell_type": "code",
   "execution_count": 113,
   "id": "7e74306d-aa82-4356-a494-4ebaa60e530e",
   "metadata": {},
   "outputs": [],
   "source": [
    "sky_model = SkyModel(spectral_model=spectral_model, name=\"RX\")"
   ]
  },
  {
   "cell_type": "code",
   "execution_count": 114,
   "id": "7012458a-8fd2-4dd2-a4fb-b15410d7fd70",
   "metadata": {},
   "outputs": [],
   "source": [
    "stacked.models = [sky_model]"
   ]
  },
  {
   "cell_type": "code",
   "execution_count": 115,
   "id": "452e19ba-328e-4f66-a950-5afc2b4048e4",
   "metadata": {},
   "outputs": [],
   "source": [
    "fit = Fit()\n",
    "result = fit.run(datasets=stacked)"
   ]
  },
  {
   "cell_type": "code",
   "execution_count": 116,
   "id": "bd69a633-d420-41f3-ba2f-78e2e1660706",
   "metadata": {},
   "outputs": [
    {
     "name": "stdout",
     "output_type": "stream",
     "text": [
      "OptimizeResult\n",
      "\n",
      "\tbackend    : minuit\n",
      "\tmethod     : migrad\n",
      "\tsuccess    : True\n",
      "\tmessage    : Optimization terminated successfully.\n",
      "\tnfev       : 43\n",
      "\ttotal stat : 18.19\n",
      "\n",
      "CovarianceResult\n",
      "\n",
      "\tbackend    : minuit\n",
      "\tmethod     : hesse\n",
      "\tsuccess    : True\n",
      "\tmessage    : Hesse terminated successfully.\n",
      "\n"
     ]
    }
   ],
   "source": [
    "print(result)"
   ]
  },
  {
   "cell_type": "code",
   "execution_count": 117,
   "id": "5eaed4e2-120a-41a8-b9d6-b26cf35bda1e",
   "metadata": {},
   "outputs": [
    {
     "name": "stdout",
     "output_type": "stream",
     "text": [
      "SpectrumDatasetOnOff\n",
      "--------------------\n",
      "\n",
      "  Name                            : stacked \n",
      "\n",
      "  Total counts                    : 4136 \n",
      "  Total background counts         : 2867.73\n",
      "  Total excess counts             : 1268.27\n",
      "\n",
      "  Predicted counts                : 4130.50\n",
      "  Predicted background counts     : 2868.96\n",
      "  Predicted excess counts         : 1261.55\n",
      "\n",
      "  Exposure min                    : 4.96e+07 m2 s\n",
      "  Exposure max                    : 5.87e+09 m2 s\n",
      "\n",
      "  Number of total bins            : 15 \n",
      "  Number of fit bins              : 15 \n",
      "\n",
      "  Fit statistic type              : wstat\n",
      "  Fit statistic value (-2 log(L)) : 18.19\n",
      "\n",
      "  Number of models                : 1 \n",
      "  Number of parameters            : 3\n",
      "  Number of free parameters       : 2\n",
      "\n",
      "  Component 0: SkyModel\n",
      "  \n",
      "    Name                      : RX\n",
      "    Datasets names            : None\n",
      "    Spectral model type       : PowerLawSpectralModel\n",
      "    Spatial  model type       : \n",
      "    Temporal model type       : \n",
      "    Parameters:\n",
      "      index                         :      2.045   +/-    0.06             \n",
      "      amplitude                     :   1.04e-11   +/- 5.3e-13 1 / (TeV s cm2)\n",
      "      reference             (frozen):      1.000       TeV         \n",
      "  \n",
      "    Total counts_off                : 10355 \n",
      "  Acceptance                      : 15 \n",
      "  Acceptance off                  : 54 \n",
      "\n"
     ]
    }
   ],
   "source": [
    "print(stacked)"
   ]
  },
  {
   "cell_type": "code",
   "execution_count": 118,
   "id": "821f3d36-d2c7-4a62-921a-fbc7d5718309",
   "metadata": {},
   "outputs": [
    {
     "data": {
      "text/plain": [
       "<Axes: xlabel='Energy [$\\\\mathrm{TeV}$]', ylabel='e2dnde [$\\\\mathrm{erg\\\\,s^{-1}\\\\,cm^{-2}}$]'>"
      ]
     },
     "execution_count": 118,
     "metadata": {},
     "output_type": "execute_result"
    },
    {
     "data": {
      "image/png": "[encoded data removed]",
      "text/plain": [
       "<Figure size 640x480 with 1 Axes>"
      ]
     },
     "metadata": {},
     "output_type": "display_data"
    }
   ],
   "source": [
    "stacked.models[0].spectral_model.plot(energy_bounds=[0.3, 10]*u.TeV, sed_type=\"e2dnde\")"
   ]
  },
  {
   "cell_type": "code",
   "execution_count": 119,
   "id": "5aa53b00-1fb8-4ed9-b42d-a8a68b8d52d4",
   "metadata": {},
   "outputs": [],
   "source": [
    "spectral_model_3d = PowerLawSpectralModel(\n",
    "    index=1.913,\n",
    "    amplitude=\"2.30e-11 TeV-1 cm-2 s-1\",\n",
    "    reference=\"1 TeV\",\n",
    ")\n",
    "spectral_model_3d.index.error = 0.04\n",
    "spectral_model_3d.amplitude.error = 9.0e-13"
   ]
  },
  {
   "cell_type": "code",
   "execution_count": 120,
   "id": "d97c2482-3017-4d49-93f0-b3c384d35ae2",
   "metadata": {},
   "outputs": [
    {
     "data": {
      "text/plain": [
       "<matplotlib.legend.Legend at 0x177e2d000>"
      ]
     },
     "execution_count": 120,
     "metadata": {},
     "output_type": "execute_result"
    },
    {
     "data": {
      "image/png": "[encoded data removed]",
      "text/plain": [
       "<Figure size 640x480 with 1 Axes>"
      ]
     },
     "metadata": {},
     "output_type": "display_data"
    }
   ],
   "source": [
    "energy_bounds=[0.3, 10]*u.TeV\n",
    "sed_type=\"e2dnde\"\n",
    "\n",
    "stacked.models[0].spectral_model.plot(energy_bounds=energy_bounds, sed_type=sed_type, label=\"1D\")\n",
    "stacked.models[0].spectral_model.plot_error(energy_bounds=energy_bounds, sed_type=sed_type)\n",
    "\n",
    "spectral_model_3d.plot(energy_bounds=energy_bounds, sed_type=sed_type, label=\"3D\")\n",
    "spectral_model_3d.plot_error(energy_bounds=energy_bounds, sed_type=sed_type)\n",
    "\n",
    "plt.legend()"
   ]
  },
  {
   "cell_type": "code",
   "execution_count": null,
   "id": "97d264a6-296b-43b7-a354-13483bbebe4b",
   "metadata": {},
   "outputs": [],
   "source": []
  }
 ],
 "metadata": {
  "kernelspec": {
   "display_name": "Python 3 (ipykernel)",
   "language": "python",
   "name": "python3"
  },
  "language_info": {
   "codemirror_mode": {
    "name": "ipython",
    "version": 3
   },
   "file_extension": ".py",
   "mimetype": "text/x-python",
   "name": "python",
   "nbconvert_exporter": "python",
   "pygments_lexer": "ipython3",
   "version": "3.10.13"
  }
 },
 "nbformat": 4,
 "nbformat_minor": 5
}
