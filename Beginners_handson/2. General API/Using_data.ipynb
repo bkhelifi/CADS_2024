{
 "cells": [
  {
   "cell_type": "code",
   "execution_count": null,
   "id": "18aad417-66ef-4927-af9d-e16bdfa676f5",
   "metadata": {},
   "outputs": [],
   "source": [
    "import numpy as np\n",
    "import matplotlib.pyplot as plt\n",
    "from astropy.coordinates import SkyCoord\n",
    "import astropy.units as u\n",
    "\n",
    "from gammapy.data import DataStore"
   ]
  },
  {
   "cell_type": "code",
   "execution_count": null,
   "id": "34f0bab7-64b0-4827-abe5-4caf83f6a49e",
   "metadata": {},
   "outputs": [],
   "source": [
    "data_store = DataStore.from_dir(\"$GAMMAPY_DATA/hess-dl3-dr1\")\n",
    "\n",
    "data_store.info()"
   ]
  },
  {
   "cell_type": "markdown",
   "id": "22a8e87b-16bb-4805-a30a-27d921d12b15",
   "metadata": {},
   "source": [
    "`DataStore` contains two tables. The main one is the HDU table. It contains the adresses of all elements contained in all observations."
   ]
  },
  {
   "cell_type": "code",
   "execution_count": null,
   "id": "394aea02-daf9-4ee3-9a15-ff1fc6fe23c0",
   "metadata": {},
   "outputs": [],
   "source": [
    "data_store.hdu_table[:10]"
   ]
  },
  {
   "cell_type": "markdown",
   "id": "a3606472-2268-476c-bfbf-ceaa946e9501",
   "metadata": {},
   "source": [
    "The other table is the observation summary. It is optional but frequently present. It provides informations (metadata) on the observations present in the `DataStore`."
   ]
  },
  {
   "cell_type": "code",
   "execution_count": null,
   "id": "69c0ec90-5f7b-4f15-9927-2bf28cc3bd55",
   "metadata": {},
   "outputs": [],
   "source": [
    "data_store.obs_table[:2]"
   ]
  },
  {
   "cell_type": "markdown",
   "id": "78795295-54f8-4a3e-9896-19c88c1f1079",
   "metadata": {},
   "source": [
    "It offers some convenience functions to perform observation selection.\n",
    "\n",
    "The most common one allows you to select observationd around a given direction."
   ]
  },
  {
   "cell_type": "code",
   "execution_count": null,
   "id": "5f869aa2-3a70-4270-bf64-0f1fd9a13226",
   "metadata": {},
   "outputs": [],
   "source": [
    "position = SkyCoord(ra=83.63, dec=22.01, unit=\"deg\", frame=\"icrs\")\n",
    "filtered_obs_table = data_store.obs_table.select_sky_circle(position, 3*u.deg)\n",
    "\n",
    "print(filtered_obs_table)"
   ]
  },
  {
   "cell_type": "markdown",
   "id": "73355221-956d-448b-93cb-5e114379e244",
   "metadata": {},
   "source": [
    "Now you can extract the identifiers (ObsID) of the selected observations."
   ]
  },
  {
   "cell_type": "code",
   "execution_count": null,
   "id": "8eb75b99-5034-4043-823b-61005df7fdeb",
   "metadata": {},
   "outputs": [],
   "source": [
    "filtered_obs_table['OBS_ID'].data"
   ]
  },
  {
   "cell_type": "markdown",
   "id": "cf89ed22-a4f9-4003-b382-02dffc62c61b",
   "metadata": {},
   "source": [
    "**Exercice :** Compute the total observation time of observations taken at less than 2° from the SNR RX J1713-3946 position in the HESS DL3 DR1."
   ]
  },
  {
   "cell_type": "markdown",
   "id": "56a7d1b2-a28b-4211-a3f6-892c422ce916",
   "metadata": {},
   "source": [
    "### Extracting observations\n",
    "\n",
    "`Observations` is a sequence (i.e. a list) of `Observation` objects."
   ]
  },
  {
   "cell_type": "code",
   "execution_count": null,
   "id": "45ba846c-52b5-4eb4-82ac-5abd58bc83a8",
   "metadata": {},
   "outputs": [],
   "source": [
    "observations = data_store.get_observations(filtered_obs_table['OBS_ID'])"
   ]
  },
  {
   "cell_type": "code",
   "execution_count": null,
   "id": "1fc841a8-6cb9-424b-be4d-287e17c94e6f",
   "metadata": {},
   "outputs": [],
   "source": [
    "print(observations)"
   ]
  },
  {
   "cell_type": "markdown",
   "id": "249443c1-59d9-48cc-9c5f-9eb1cd16e1cc",
   "metadata": {},
   "source": [
    "One can access observations by their index in the list, or simply loop over all observations.\n",
    "\n",
    "`Observation` contains metadata on the observation."
   ]
  },
  {
   "cell_type": "code",
   "execution_count": null,
   "id": "1ee0920f-bae0-4dd5-a10a-ee368126acf9",
   "metadata": {},
   "outputs": [],
   "source": [
    "obs = observations[1]\n",
    "print(obs.meta.obs_info)"
   ]
  },
  {
   "cell_type": "code",
   "execution_count": null,
   "id": "26771ab0-fbe5-4e8b-8ee3-b8e09eb7bcc4",
   "metadata": {},
   "outputs": [],
   "source": [
    "obs.peek()"
   ]
  },
  {
   "cell_type": "markdown",
   "id": "23b038a6-2be8-42e8-b02d-257849ad983a",
   "metadata": {},
   "source": [
    "### Events\n",
    "\n",
    "Gamma-ray like events (i.e. at DL3) are stored in an `EventList` which contains an `astropy.table.Table`"
   ]
  },
  {
   "cell_type": "code",
   "execution_count": null,
   "id": "87db4a72-bd34-4b28-912e-2517a3e8af52",
   "metadata": {},
   "outputs": [],
   "source": [
    "print(obs.events)"
   ]
  },
  {
   "cell_type": "code",
   "execution_count": null,
   "id": "06c9c9b2-5283-479a-892a-8806ff9d5988",
   "metadata": {},
   "outputs": [],
   "source": [
    "obs.events.select_offset([0,2.5]*u.deg).peek()"
   ]
  },
  {
   "cell_type": "markdown",
   "id": "abd0a419-77cf-4273-b2c2-06457192c8b3",
   "metadata": {},
   "source": [
    "**Exercice**: how many events are there in ObsID 23523 within a circular ON region of 0.3 deg from the Crab?\n",
    "\n",
    "*Hint : Look for a region selection tool in the API documentation of EventList.*\n",
    "\n",
    "**Advanced exercice**: measure OFF counts in a symetrical region w.r.t. pointing direction. Compute the excess counts in the ON and the associated Li and Ma significance.\n",
    "\n",
    "*Hints: Compute the offset and position angle of the ON region w.r.t. `EventList.pointing_radec` and use `SkyCoord.directional_offset_by` to find the OFF region.\n",
    "Then use CountsStatistics as in https://docs.gammapy.org/1.2/user-guide/stats/index.html#wstat-counts-statistic*"
   ]
  },
  {
   "cell_type": "markdown",
   "id": "85b828d2-0903-439b-9c06-d9aff0d54e89",
   "metadata": {},
   "source": [
    "### IRFs : effective area\n",
    "\n",
    "Let's now look at the IRFs stored in the observation object. \n",
    "\n",
    "The effective area IRF is a set of tabulated values at given coordinates in true 3D space "
   ]
  },
  {
   "cell_type": "code",
   "execution_count": null,
   "id": "41d4c7c3-f509-4f74-ad84-0b272603425f",
   "metadata": {},
   "outputs": [],
   "source": [
    "print(obs.aeff)"
   ]
  },
  {
   "cell_type": "markdown",
   "id": "604ea4c6-e7a1-4cfa-a117-ed2c2d592752",
   "metadata": {},
   "source": [
    "Let's have a view on the IRF."
   ]
  },
  {
   "cell_type": "code",
   "execution_count": null,
   "id": "17b62bb8-b6c0-4270-868a-b2f9ea05e398",
   "metadata": {},
   "outputs": [],
   "source": [
    "obs.aeff.peek()"
   ]
  },
  {
   "cell_type": "markdown",
   "id": "67fa8e5f-d219-4578-937a-375864f69f3d",
   "metadata": {},
   "source": [
    "The IRF also behaves like a function (it interpolates over the tabulated values)."
   ]
  },
  {
   "cell_type": "code",
   "execution_count": null,
   "id": "c1ea07c5-aa65-47f0-ab2f-ea74792806ee",
   "metadata": {},
   "outputs": [],
   "source": [
    "obs.aeff.evaluate(energy_true=10*u.TeV, offset=1.2*u.deg)"
   ]
  },
  {
   "cell_type": "markdown",
   "id": "ddf86524-73cf-4f11-b88c-55c6661a383a",
   "metadata": {},
   "source": [
    "**Exercice**: plot the effective area offset dependence at 500 GeV, 1 and 10 TeV.\n",
    "\n",
    "*Hint: look for the existing plot functions in the API.*\n",
    "\n",
    "**Advanced exercice**: Re-implement the plotting yourself."
   ]
  },
  {
   "cell_type": "markdown",
   "id": "84b4ac58-bf70-4d26-ae09-2c4438c14fd2",
   "metadata": {},
   "source": [
    "### Evolution of the observation threshold during an observation night\n",
    "\n",
    "Because a target is moving in the sky, its zenith angle will vary during the night. Because the energy threshold of a Cherenkov increase with the zenith angle, the latter will vary during the night.  "
   ]
  },
  {
   "cell_type": "markdown",
   "id": "e7249d83-1653-4f72-896f-a8996ea5fe41",
   "metadata": {},
   "source": [
    "GADF effective area can contain an effective low energy threshold for the observation. On the HESS DL3 DR1 you can access it with:"
   ]
  },
  {
   "cell_type": "code",
   "execution_count": null,
   "id": "9e2df8fd-16db-4682-9996-b1bdd52a9d25",
   "metadata": {},
   "outputs": [],
   "source": [
    "obs.aeff.meta['LO_THRES']"
   ]
  },
  {
   "cell_type": "markdown",
   "id": "ac324054-5e6c-49e7-9d70-93e64538c592",
   "metadata": {},
   "source": [
    "**Exercice** : Extract observations of PKS 2155-304 taken on the night of July 29th to 30th 2006 in the HESS DL3 DR1 datastore. How does the observation threshold evolve as a function of observation time during the night? \n",
    "\n",
    "How does it compare to the zenith angle of the target as a function of time?\n",
    "\n",
    "*Hint: IRCS coordinate is (329.717, -30.226). Use astropy.time.Time. Also note that `Observation.tmid` is a shortcut to the mid observation time of the `Observation`.*\n",
    "*See also [astropy's doc on altitude of celestial objects](https://docs.astropy.org/en/latest/generated/examples/coordinates/plot_obs-planning.html#determining-and-plotting-the-altitude-azimuth-of-a-celestial-object)*"
   ]
  },
  {
   "cell_type": "markdown",
   "id": "a422576e-707a-4474-b7fb-f9650abce89c",
   "metadata": {},
   "source": [
    "### EDISP\n",
    "\n",
    "Provides the energy resolution as a function of position and true energy. It gives the probability to measure a given energy for a given true energy. It is stored as a function of migra = energy/energy_true"
   ]
  },
  {
   "cell_type": "code",
   "execution_count": null,
   "id": "1cbe0661-362f-442e-b1f7-884c1e882eb4",
   "metadata": {},
   "outputs": [],
   "source": [
    "print(obs.edisp)"
   ]
  },
  {
   "cell_type": "code",
   "execution_count": null,
   "id": "3b3a5b7b-3e5f-4017-bc1b-06fc80f2502d",
   "metadata": {},
   "outputs": [],
   "source": [
    "obs.edisp.peek()"
   ]
  },
  {
   "cell_type": "markdown",
   "id": "32d3999f-d5cc-4c44-bd14-88a4ad2f224d",
   "metadata": {},
   "source": [
    "For a given set of measurement, we use the `EDispKernel` with gives probability to measure a given energy for a given true energy."
   ]
  },
  {
   "cell_type": "code",
   "execution_count": null,
   "id": "adf3a067-ba40-4f9e-8400-0599cbbe0bb5",
   "metadata": {},
   "outputs": [],
   "source": [
    "kernel = obs.edisp.to_edisp_kernel(offset=0.5*u.deg)"
   ]
  },
  {
   "cell_type": "code",
   "execution_count": null,
   "id": "ead9dbe7-9a6a-4e4e-9391-fe42ac5ebc76",
   "metadata": {},
   "outputs": [],
   "source": [
    "kernel.plot_matrix()"
   ]
  },
  {
   "cell_type": "markdown",
   "id": "fc8e3fc5-8783-430b-a828-2696c599c89d",
   "metadata": {},
   "source": [
    "### PSF\n",
    "\n",
    "It gives the probability to observe a photon as given distance from its true direction (the `rad` quantity) as a function of true energy and sourc eposition in the FoV."
   ]
  },
  {
   "cell_type": "code",
   "execution_count": null,
   "id": "267f6ea4-5edc-49f3-9d52-5965016f7ea6",
   "metadata": {},
   "outputs": [],
   "source": [
    "print(obs.psf)"
   ]
  },
  {
   "cell_type": "markdown",
   "id": "c5538966-4e60-4a92-a116-13708695b31f",
   "metadata": {},
   "source": [
    "One can compute containment radius as a measurement of the breadth of the PSF"
   ]
  },
  {
   "cell_type": "code",
   "execution_count": null,
   "id": "928a3a36-6955-4d75-86a2-3a7272fdd0de",
   "metadata": {},
   "outputs": [],
   "source": [
    "obs.psf.peek()"
   ]
  },
  {
   "cell_type": "markdown",
   "id": "6280c80d-327c-46e7-948b-ef28d47244e3",
   "metadata": {},
   "source": [
    "PSF is a probability. The PSF radius typically decreases with energy."
   ]
  },
  {
   "cell_type": "code",
   "execution_count": null,
   "id": "6c140b48-1d51-4b8b-b593-0a5a16a4e3d6",
   "metadata": {},
   "outputs": [],
   "source": [
    "obs.psf.plot_psf_vs_rad(offset=[0.5]*u.deg, energy_true=[0.5, 1, 10]*u.TeV)"
   ]
  },
  {
   "cell_type": "markdown",
   "id": "d2dee505-20ad-4a63-9cea-6f26f96122b7",
   "metadata": {},
   "source": [
    "### BKG"
   ]
  },
  {
   "cell_type": "code",
   "execution_count": null,
   "id": "ccc26868-3676-435a-b002-4fde94f931fd",
   "metadata": {},
   "outputs": [],
   "source": [
    "print(obs.bkg)"
   ]
  },
  {
   "cell_type": "code",
   "execution_count": null,
   "id": "1794f97e-25b2-4beb-975a-3f0049fdd5d9",
   "metadata": {},
   "outputs": [],
   "source": [
    "obs.bkg.peek()"
   ]
  },
  {
   "cell_type": "markdown",
   "id": "e13eaff5-4b2b-4ded-9e53-636af17e6899",
   "metadata": {},
   "source": [
    "### CTA IRFS"
   ]
  },
  {
   "cell_type": "markdown",
   "id": "e4596e9d-ca1b-408a-8a21-f933209c1944",
   "metadata": {},
   "source": [
    "You can also load IRFs without the full `DataStore` with `load_irf_dict_from_file`"
   ]
  },
  {
   "cell_type": "code",
   "execution_count": null,
   "id": "ee5b3b71-9c7e-4290-86a8-e09610ea0dcf",
   "metadata": {},
   "outputs": [],
   "source": [
    "from gammapy.irf import load_irf_dict_from_file\n",
    "irf_filename = (\n",
    "        \"$GAMMAPY_DATA/cta-caldb/Prod5-South-20deg-AverageAz-14MSTs37SSTs.180000s-v0.1.fits.gz\"\n",
    ")\n",
    "irfs = load_irf_dict_from_file(irf_filename)\n",
    "print(irfs)"
   ]
  },
  {
   "cell_type": "markdown",
   "id": "259678a6-117a-417c-bfc6-c0361e94328d",
   "metadata": {},
   "source": [
    "#### AEFF"
   ]
  },
  {
   "cell_type": "code",
   "execution_count": null,
   "id": "ac0edc1e-26dc-47cd-bcb8-35943737f8bb",
   "metadata": {},
   "outputs": [],
   "source": [
    "irfs['aeff'].plot()"
   ]
  },
  {
   "cell_type": "markdown",
   "id": "8d5c683d-a9a7-4ab8-9fd8-00e5cca88fa4",
   "metadata": {},
   "source": [
    "#### PSF"
   ]
  },
  {
   "cell_type": "code",
   "execution_count": null,
   "id": "b2918098-f1c9-4346-b2bd-5bae7d88c9cc",
   "metadata": {},
   "outputs": [],
   "source": [
    "irfs[\"psf\"].plot_containment_radius_vs_energy(\n",
    "    offset=[1] * u.deg, fraction=[0.68, 0.8, 0.95]\n",
    ")\n",
    "plt.show()"
   ]
  },
  {
   "cell_type": "markdown",
   "id": "efc893b4-85ce-48be-9d56-9d6c870ca170",
   "metadata": {},
   "source": [
    "#### BKG"
   ]
  },
  {
   "cell_type": "code",
   "execution_count": null,
   "id": "1558f03b-ec50-4aaf-8372-7a95436a6cbc",
   "metadata": {},
   "outputs": [],
   "source": [
    "irfs[\"bkg\"].plot_at_energy(\n",
    "    [\"50 GeV\", \"500 GeV\", \"1 TeV\", \"3 TeV\", \"10 TeV\", \"100 TeV\"]\n",
    ")\n",
    "plt.show()"
   ]
  },
  {
   "cell_type": "markdown",
   "id": "8e1b132e-908a-4470-a95a-4e886cb2689e",
   "metadata": {},
   "source": [
    "**Exercice**: compare IRFs of CTAO North and South sites.\n",
    "\n",
    "*Hint: you can find the North site IRF here: $GAMMAPY_DATA/cta-caldb/Prod5-North-20deg-AverageAz-4LSTs09MSTs.180000s-v0.1.fits.gz*"
   ]
  },
  {
   "cell_type": "code",
   "execution_count": null,
   "id": "b0669bcd-fe60-403f-a58d-49ab35eecc5a",
   "metadata": {},
   "outputs": [],
   "source": []
  }
 ],
 "metadata": {
  "kernelspec": {
   "display_name": "Python 3 (ipykernel)",
   "language": "python",
   "name": "python3"
  },
  "language_info": {
   "codemirror_mode": {
    "name": "ipython",
    "version": 3
   },
   "file_extension": ".py",
   "mimetype": "text/x-python",
   "name": "python",
   "nbconvert_exporter": "python",
   "pygments_lexer": "ipython3",
   "version": "3.10.13"
  }
 },
 "nbformat": 4,
 "nbformat_minor": 5
}
