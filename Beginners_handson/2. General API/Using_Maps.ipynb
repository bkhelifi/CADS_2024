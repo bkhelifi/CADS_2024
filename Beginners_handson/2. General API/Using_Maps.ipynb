{
 "cells": [
  {
   "cell_type": "markdown",
   "id": "ae58e8ee-d6d3-4824-ae03-0bfe4078b352",
   "metadata": {},
   "source": [
    "## Introduction\n",
    "This is a getting started tutorial for Gammapy.\n",
    "\n",
    "In this tutorial we will manipulate objects representing maps in Gammapy. "
   ]
  },
  {
   "cell_type": "code",
   "execution_count": null,
   "id": "daa46d26-b345-4db3-91c3-1b7db0d59834",
   "metadata": {},
   "outputs": [],
   "source": [
    "import astropy.units as u\n",
    "from astropy.coordinates import SkyCoord\n",
    "import matplotlib.pyplot as plt"
   ]
  },
  {
   "cell_type": "markdown",
   "id": "ce89fb17-d494-4edf-9b7f-0f2343a63a85",
   "metadata": {},
   "source": [
    "## Maps\n",
    "The maps package contains classes to work with sky images and cubes.\n",
    "\n",
    "In this section, we will use a simple 2D sky image and will learn how to:\n",
    "- Read sky images from FITS files\n",
    "- Smooth images\n",
    "- Plot images\n",
    "- Cutout parts from images\n"
   ]
  },
  {
   "cell_type": "code",
   "execution_count": null,
   "id": "1521027d-a23a-4e04-a0fd-44974168e03c",
   "metadata": {},
   "outputs": [],
   "source": [
    "from gammapy.maps import Map\n",
    "\n",
    "gc_3fhl = Map.read(\"$GAMMAPY_DATA/fermi-3fhl-gc/fermi-3fhl-gc-counts.fits.gz\")"
   ]
  },
  {
   "cell_type": "markdown",
   "id": "c11eb088-a5c9-49fe-a1eb-e5576754de9e",
   "metadata": {},
   "source": [
    "The image is a WcsNDMap object:"
   ]
  },
  {
   "cell_type": "code",
   "execution_count": null,
   "id": "b1bd62de-05b2-441b-b790-a1a987046e26",
   "metadata": {},
   "outputs": [],
   "source": [
    "print(gc_3fhl)"
   ]
  },
  {
   "cell_type": "markdown",
   "id": "ed1a2fe6-b63f-44ed-bdcf-e5668a8a347f",
   "metadata": {},
   "source": [
    "It contains a `WcsGeom` object and data stored as a `numpy.ndarray`."
   ]
  },
  {
   "cell_type": "code",
   "execution_count": null,
   "id": "3a3c16b9-7ab4-4053-973a-fee8a0b92dc4",
   "metadata": {},
   "outputs": [],
   "source": [
    "print(gc_3fhl.data)"
   ]
  },
  {
   "cell_type": "markdown",
   "id": "1dd00065-72bd-4a74-b983-79ff09fd16c8",
   "metadata": {},
   "source": [
    "The shape of the image is 400 x 200 pixel and it is defined using a cartesian projection in galactic coordinates."
   ]
  },
  {
   "cell_type": "code",
   "execution_count": null,
   "id": "94e26a72-cc66-438d-b643-9d7f797eb765",
   "metadata": {},
   "outputs": [],
   "source": [
    "print(gc_3fhl.geom)"
   ]
  },
  {
   "cell_type": "code",
   "execution_count": null,
   "id": "98872ee5-b0c9-4636-8987-30095ca99dfe",
   "metadata": {},
   "outputs": [],
   "source": [
    "# define the position of the Galactic center and anti-center\n",
    "positions = SkyCoord([0, 180], [0, 0], frame=\"galactic\", unit=\"deg\")\n",
    "gc_3fhl.geom.contains(positions)"
   ]
  },
  {
   "cell_type": "markdown",
   "id": "1a984995-59d0-4d34-80af-8a504ea6563a",
   "metadata": {},
   "source": [
    "Regular numpy operations can be performed on the `data` attribute."
   ]
  },
  {
   "cell_type": "code",
   "execution_count": null,
   "id": "950d7636-ac93-4438-a925-d8f8d02742bd",
   "metadata": {},
   "outputs": [],
   "source": [
    "total = gc_3fhl.data.sum()\n",
    "print(f\"Total number of counts in the image: {total:.0f}\")"
   ]
  },
  {
   "cell_type": "markdown",
   "id": "ce7bda23-eca8-4bf6-ac82-63cb06a12ef1",
   "metadata": {},
   "source": [
    "To show the image on the screen we can use the plot method. It basically calls plt.imshow, passing the gc_3fhl.data attribute but in addition handles axis with world coordinates using astropy.visualization.wcsaxes and defines some defaults for nicer plots (e.g. the colormap ‘afmhot’):"
   ]
  },
  {
   "cell_type": "code",
   "execution_count": null,
   "id": "9f81ffe1-820b-41e0-8f1d-c9df1c63eedc",
   "metadata": {},
   "outputs": [],
   "source": [
    "gc_3fhl.plot(stretch=\"sqrt\")\n",
    "plt.show()"
   ]
  },
  {
   "cell_type": "markdown",
   "id": "04d53bbf-d25b-4edf-a46d-bff2ef0d1b7a",
   "metadata": {},
   "source": [
    "To make the structures in the image more visible we will smooth the data using a Gaussian kernel."
   ]
  },
  {
   "cell_type": "code",
   "execution_count": null,
   "id": "50e852a3-7a06-4a9b-aef7-34cab7862669",
   "metadata": {},
   "outputs": [],
   "source": [
    "gc_3fhl_smoothed = gc_3fhl.smooth(kernel=\"gauss\", width=0.1 * u.deg)\n",
    "gc_3fhl_smoothed.plot(stretch=\"linear\")\n",
    "plt.show()"
   ]
  },
  {
   "cell_type": "markdown",
   "id": "d39f24d0-4a14-403e-bfc5-0ea8b16cf672",
   "metadata": {},
   "source": [
    "**Exercice** (see [Visualization in Maps API tutorial](https://docs.gammapy.org/1.2/tutorials/api/maps.html#visualizing-and-plotting)) : \n",
    "- Change the figure size\n",
    "- Add a colorbar\n",
    "- Change colormap (e.g. gray scale) \n",
    "- Try to change label font sizes \n",
    "- Try adding grids to the plot."
   ]
  },
  {
   "cell_type": "code",
   "execution_count": null,
   "id": "fba8a312-463f-43f4-a8ba-16ccef87ecf5",
   "metadata": {},
   "outputs": [],
   "source": []
  },
  {
   "cell_type": "markdown",
   "id": "47774a43-d44e-4897-b64b-6195762fc265",
   "metadata": {},
   "source": [
    "The smoothed plot already looks much nicer, but still the image is rather large. As we are mostly interested in the inner part of the image, we will cut out a quadratic region of the size 9 deg x 9 deg around the GC. Therefore we use cutout to make a cutout map:"
   ]
  },
  {
   "cell_type": "code",
   "execution_count": null,
   "id": "e58375a0-76b3-42d5-9845-00e701524494",
   "metadata": {},
   "outputs": [],
   "source": [
    "# define center and size of the cutout region\n",
    "center = SkyCoord(0, 0, unit=\"deg\", frame=\"galactic\")\n",
    "gc_3fhl_cutout = gc_3fhl_smoothed.cutout(center, 9 * u.deg)\n",
    "gc_3fhl_cutout.plot(stretch=\"sqrt\")\n",
    "plt.show()"
   ]
  },
  {
   "cell_type": "markdown",
   "id": "9a1b64a8-dc26-41bf-93be-5b3193152cf3",
   "metadata": {},
   "source": [
    "### With non-spatial axis\n",
    "\n"
   ]
  },
  {
   "cell_type": "code",
   "execution_count": null,
   "id": "aeefa723-b5af-4e23-835e-ad9479b91459",
   "metadata": {},
   "outputs": [],
   "source": [
    "fermi_gc = Map.read(\"$GAMMAPY_DATA/fermi-3fhl-gc/fermi-3fhl-gc-counts-cube.fits.gz\")\n",
    "print(fermi_gc)"
   ]
  },
  {
   "cell_type": "code",
   "execution_count": null,
   "id": "04f7a4ce-d629-48fb-ab9e-5db823b3308b",
   "metadata": {},
   "outputs": [],
   "source": [
    "fermi_gc.smooth(kernel=\"gauss\", width=0.3*u.deg).plot_interactive()"
   ]
  },
  {
   "cell_type": "code",
   "execution_count": null,
   "id": "5b93750e-e991-4b31-a180-1d4aed9f0b65",
   "metadata": {},
   "outputs": [],
   "source": [
    "axes = fermi_gc.smooth(kernel=\"gauss\", width=0.3*u.deg).plot_grid(ncols=2)"
   ]
  },
  {
   "cell_type": "markdown",
   "id": "ce34d5ca-75cb-490a-ac25-983791bdb34b",
   "metadata": {},
   "source": [
    "### Creating from a Map Geometry\n",
    "The Map object couples the data (stored as a ndarray) with a Geom object. The ~Geom object can be seen as a generalization of an astropy.wcs.WCS object, providing the information on how the data maps to physical coordinate systems. In some cases e.g. when creating many maps with the same WCS geometry it can be advantageous to first create the map geometry independent of the map object it-self:"
   ]
  },
  {
   "cell_type": "code",
   "execution_count": null,
   "id": "33a956a0-d0af-4c31-8728-e97b27dec4a3",
   "metadata": {},
   "outputs": [],
   "source": [
    "from gammapy.maps import WcsGeom\n",
    "wcs_geom = WcsGeom.create(binsz=0.02, width=(10, 5), skydir=(0, 0), frame=\"galactic\", proj=\"CAR\")"
   ]
  },
  {
   "cell_type": "code",
   "execution_count": null,
   "id": "ebcbd329-6934-41d8-a3dc-e720afde19f5",
   "metadata": {},
   "outputs": [],
   "source": [
    "print(wcs_geom.center_skydir)"
   ]
  },
  {
   "cell_type": "markdown",
   "id": "bd472aa2-de4c-484e-a3ba-6b9439398190",
   "metadata": {},
   "source": [
    "**Exercice** : Create and plot an ampty all sky map in Hammer Aitoff projection with 0.5° bin size."
   ]
  },
  {
   "cell_type": "code",
   "execution_count": null,
   "id": "82ff79fd-bd59-4b05-a6e6-951c3ee43402",
   "metadata": {},
   "outputs": [],
   "source": []
  },
  {
   "cell_type": "markdown",
   "id": "62476412-99bb-459d-a8e0-4e2bb27739e7",
   "metadata": {},
   "source": [
    "### Adding Non-Spatial Axes\n",
    "In many analysis scenarios we would like to add extra dimension to the maps to study e.g. energy or time dependency of the data. Those non-spatial dimensions are handled with the MapAxis object. Let us first define an energy axis, with 4 bins:"
   ]
  },
  {
   "cell_type": "code",
   "execution_count": null,
   "id": "da8533e3-7371-4179-a468-c3e864655502",
   "metadata": {},
   "outputs": [],
   "source": [
    "from gammapy.maps import MapAxis\n",
    "energy_axis = MapAxis.from_energy_bounds(0.1, 100, nbin=12, unit=\"TeV\", name=\"energy\")\n",
    "print(energy_axis)"
   ]
  },
  {
   "cell_type": "markdown",
   "id": "e8795b50-e179-43af-9af6-e9b9960806b5",
   "metadata": {},
   "source": [
    "**Exercice:** create an **energy true** axis with around 6 bins per decade between 40 GeV and 200 TeV.\n",
    "\n",
    "*Hint : check MapAxis.from_energy_bounds docstring.*"
   ]
  },
  {
   "cell_type": "code",
   "execution_count": null,
   "id": "ab044cab-8be2-4f30-8e51-53bdddfe1aaf",
   "metadata": {},
   "outputs": [],
   "source": []
  },
  {
   "cell_type": "code",
   "execution_count": null,
   "id": "af93dd30-81de-4beb-a416-c33e56c34034",
   "metadata": {},
   "outputs": [],
   "source": [
    "#check edges\n",
    "print(energy_axis.edges)"
   ]
  },
  {
   "cell_type": "code",
   "execution_count": null,
   "id": "375c2b66-cf7d-4f1e-b494-0b848a35a9b8",
   "metadata": {},
   "outputs": [],
   "source": [
    "wcs_geom_3d = WcsGeom.create(binsz=0.02, width=(10, 5), skydir=(0, 0), frame=\"galactic\", proj=\"CAR\", axes=[energy_axis])"
   ]
  },
  {
   "cell_type": "code",
   "execution_count": null,
   "id": "b418088c-811a-460c-b8d3-1427fc73b66e",
   "metadata": {},
   "outputs": [],
   "source": [
    "print(wcs_geom_3d)"
   ]
  },
  {
   "cell_type": "markdown",
   "id": "c2e2372d-eeb1-4ca5-9d67-c41dda08ad36",
   "metadata": {},
   "source": [
    "### Units, arithmetics"
   ]
  },
  {
   "cell_type": "code",
   "execution_count": null,
   "id": "a13e4791-5cbe-4bc6-9954-bbdb65830c2b",
   "metadata": {},
   "outputs": [],
   "source": [
    "area = Map.from_geom(wcs_geom_3d, data=1, unit=\"m2\")"
   ]
  },
  {
   "cell_type": "code",
   "execution_count": null,
   "id": "c6e63458-e225-4eb5-88cf-5fde42233398",
   "metadata": {},
   "outputs": [],
   "source": [
    "area.quantity.to(\"cm2\")"
   ]
  },
  {
   "cell_type": "code",
   "execution_count": null,
   "id": "4fd2bc1f-9a11-4840-9a88-261e2f69301d",
   "metadata": {},
   "outputs": [],
   "source": [
    "time = Map.from_geom(wcs_geom_3d, data=1, unit=\"h\")"
   ]
  },
  {
   "cell_type": "code",
   "execution_count": null,
   "id": "5bf556ed-9fee-4847-8a6a-e8cc9b9ba608",
   "metadata": {},
   "outputs": [],
   "source": [
    "exposure = time * area"
   ]
  },
  {
   "cell_type": "code",
   "execution_count": null,
   "id": "06f1b6ba-5d53-4976-8df4-4c36015052a3",
   "metadata": {},
   "outputs": [],
   "source": [
    "print(exposure)"
   ]
  },
  {
   "cell_type": "code",
   "execution_count": null,
   "id": "442cd73c-a79a-4215-9e18-4e96ec6191df",
   "metadata": {},
   "outputs": [],
   "source": [
    "exposure.quantity.to(\"cm2s\")"
   ]
  },
  {
   "cell_type": "markdown",
   "id": "434133b7-6f96-429b-9dbf-922f1450aee9",
   "metadata": {},
   "source": [
    "**Exercice**: build a simple integrated *intensity* map of the 3FHL GC dataset from Fermi-LAT. You can use\n",
    "- the integrated exposure map at $GAMMAPY_DATA/fermi-3fhl-gc/fermi-3fhl-gc-exposure.fits.gz\n",
    "- a smoothed version of the integrated counts map above\n",
    "\n",
    "*Hint: the unit is not defined in the exposure map header. It is in $cm^2\\ s$.*\n",
    "*Note that `smooth` perform a normalized convolution. The resulting intesinty map is therefore flux per pixel. The peak of the emission does not give the source flux.*"
   ]
  },
  {
   "cell_type": "code",
   "execution_count": null,
   "id": "5e128233-5475-4c46-8577-24be4f85f8b3",
   "metadata": {},
   "outputs": [],
   "source": []
  },
  {
   "cell_type": "markdown",
   "id": "b70501cc-0e21-442a-8628-32383b22c6a9",
   "metadata": {},
   "source": [
    "### RegionGeom : geometries with one spatial bin"
   ]
  },
  {
   "cell_type": "code",
   "execution_count": null,
   "id": "1848dc59-5914-4bbb-a165-fd11add9ac6c",
   "metadata": {},
   "outputs": [],
   "source": [
    "from regions import CircleSkyRegion\n",
    "\n",
    "GC_position = SkyCoord(359.94, -0.04, unit=\"deg\", frame=\"galactic\")\n",
    "region = CircleSkyRegion(GC_position, radius=0.3*u.deg)"
   ]
  },
  {
   "cell_type": "code",
   "execution_count": null,
   "id": "ddebd5f2-75a5-4096-a84d-a1e122469564",
   "metadata": {},
   "outputs": [],
   "source": [
    "from gammapy.maps import RegionGeom"
   ]
  },
  {
   "cell_type": "code",
   "execution_count": null,
   "id": "3a192270-0b4c-45b9-b2d7-b483ed86cf6b",
   "metadata": {},
   "outputs": [],
   "source": [
    "geom = RegionGeom.create(region, axes=[energy_axis])\n",
    "map1D = Map.from_geom(geom)\n",
    "print(map1D)"
   ]
  },
  {
   "cell_type": "markdown",
   "id": "cb2b7950-15bd-4fca-83af-b78e4eddddb5",
   "metadata": {},
   "source": [
    "You can then extract informations on the `RegionGeom` as for any other `Geom`."
   ]
  },
  {
   "cell_type": "code",
   "execution_count": null,
   "id": "c1e59f2a-310f-492a-a119-d172dc6ebd1f",
   "metadata": {},
   "outputs": [],
   "source": [
    "print(geom.region)\n",
    "print(f\"The solid angle is {geom.solid_angle()}\")"
   ]
  },
  {
   "cell_type": "markdown",
   "id": "86c65744-0733-4056-9cae-c45fbb89e683",
   "metadata": {},
   "source": [
    "Does the geom contain a specific position?"
   ]
  },
  {
   "cell_type": "code",
   "execution_count": null,
   "id": "4292a14e-a4fb-493b-8ab9-e47966c3ec7e",
   "metadata": {},
   "outputs": [],
   "source": [
    "other_position = SkyCoord(0.5,0, unit=\"deg\", frame=\"galactic\")\n",
    "geom.contains(other_position)"
   ]
  },
  {
   "cell_type": "markdown",
   "id": "79e536cf-360f-4c5f-b884-5e0a16725344",
   "metadata": {},
   "source": [
    "### Extracting a RegionNDMap (1D spectrum) from a WCSNDMap (3D cube)\n",
    "\n",
    "You can extract the information from the 3D map and combine it into a 1D map"
   ]
  },
  {
   "cell_type": "code",
   "execution_count": null,
   "id": "050d3d80-14e0-48e6-9b0b-746f757fddc3",
   "metadata": {},
   "outputs": [],
   "source": [
    "gc_3fhl.to_region_nd_map(region)"
   ]
  },
  {
   "cell_type": "code",
   "execution_count": null,
   "id": "de1bd27b-e3bf-4d3a-b555-0ab6083e524f",
   "metadata": {},
   "outputs": [],
   "source": [
    "fermi_gc_region = fermi_gc.to_region_nd_map(region=region)\n",
    "print(fermi_gc_region)"
   ]
  },
  {
   "cell_type": "code",
   "execution_count": null,
   "id": "f4ed2c07-9425-48a7-9822-c89d2de1cd4f",
   "metadata": {},
   "outputs": [],
   "source": [
    "ax = fermi_gc_region.plot()"
   ]
  },
  {
   "cell_type": "markdown",
   "id": "c0091f01-15c2-427f-a53e-6ff38cae5293",
   "metadata": {},
   "source": [
    "**Exercice**: build a region map containing the counts integrated between (-0.5° < GLAT < 0.5°)"
   ]
  },
  {
   "cell_type": "code",
   "execution_count": null,
   "id": "e8ef848b-8091-40ee-8561-758ab1aa0d86",
   "metadata": {},
   "outputs": [],
   "source": []
  }
 ],
 "metadata": {
  "kernelspec": {
   "display_name": "Python 3 (ipykernel)",
   "language": "python",
   "name": "python3"
  },
  "language_info": {
   "codemirror_mode": {
    "name": "ipython",
    "version": 3
   },
   "file_extension": ".py",
   "mimetype": "text/x-python",
   "name": "python",
   "nbconvert_exporter": "python",
   "pygments_lexer": "ipython3",
   "version": "3.10.13"
  }
 },
 "nbformat": 4,
 "nbformat_minor": 5
}
