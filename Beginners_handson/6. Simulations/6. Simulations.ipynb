{
 "cells": [
  {
   "cell_type": "markdown",
   "id": "88e65f38-949d-49ea-846f-a9b38b92b0c2",
   "metadata": {},
   "source": [
    "# Simulations with Gammapy"
   ]
  },
  {
   "cell_type": "markdown",
   "id": "84a46e0a-9819-420f-8f49-a473d398cd13",
   "metadata": {},
   "source": [
    "Here we show how to simulate the properties of one or more sources in a given field of view with the use of Gammapy. The basic ingredientes are:\n",
    "- a skymodel to simulate, i.e. the source properties (spectral, spatial and temporal) plus the background;\n",
    "- a dataset, which carries information on the FoV geometry, the energy range, the IRF properties and so on;\n",
    "- an observation object, which defines the exposure time, the starting time of the simulation, the pointing direction, the array configuration etc;\n",
    "\n",
    "Then we can set the simulator class and perform the event sampling on the given sky-model."
   ]
  },
  {
   "cell_type": "markdown",
   "id": "32c048cc-e551-4f78-aa4d-213777e92397",
   "metadata": {},
   "source": [
    "Let's start with some basic imports:"
   ]
  },
  {
   "cell_type": "code",
   "execution_count": null,
   "id": "4a83cfaa-678c-4995-9fe3-665fc591cb59",
   "metadata": {},
   "outputs": [],
   "source": [
    "import matplotlib.pyplot as plt\n",
    "\n",
    "import time\n",
    "import numpy as np\n",
    "import astropy.units as u\n",
    "from astropy.coordinates import SkyCoord\n",
    "from astropy.time import Time\n",
    "from gammapy.data import Observation, observatory_locations, FixedPointingInfo\n",
    "from gammapy.datasets import MapDataset, MapDatasetEventSampler\n",
    "from gammapy.irf import load_irf_dict_from_file\n",
    "from gammapy.makers import MapDatasetMaker\n",
    "from gammapy.maps import MapAxis, RegionNDMap, WcsGeom, Map\n",
    "from gammapy.modeling.models import (\n",
    "    ConstantSpectralModel,\n",
    "    FoVBackgroundModel,\n",
    "    LightCurveTemplateTemporalModel,\n",
    "    GaussianTemporalModel,\n",
    "    ConstantTemporalModel,\n",
    "    ExpDecayTemporalModel,\n",
    "    PointSpatialModel,\n",
    "    GaussianSpatialModel,\n",
    "    PowerLawSpectralModel,\n",
    "    SkyModel,\n",
    "    Models\n",
    ")"
   ]
  },
  {
   "cell_type": "markdown",
   "id": "c5535ea8-4a82-4767-9992-4314d4ec31d5",
   "metadata": {},
   "source": [
    "### Creation of the sky-model\n",
    "\n",
    "First of all, we need define the source model. For simplicity, we consider a point-like source with a powerlaw spectral shape, at a random position (here Ra, Dec = 335°, 3°). We will not include temporal variability (but if you like, there are some examples in the box below..). For more models, please visit the Gammapy website at https://docs.gammapy.org/1.2/user-guide/model-gallery/index.html ."
   ]
  },
  {
   "cell_type": "code",
   "execution_count": null,
   "id": "9d437784-cc1e-4ad0-a4e1-9e2fa1bdc0b6",
   "metadata": {},
   "outputs": [],
   "source": [
    "target = SkyCoord(\"335 deg\", \"3 deg\", unit=\"deg\", frame=\"icrs\")\n",
    "spatial_model = PointSpatialModel.from_position(target)\n",
    "\n",
    "spectral_model = PowerLawSpectralModel(index=2, amplitude=\"1e-11 cm-2 s-1 TeV-1\", reference=\"1 TeV\")\n",
    "temporal_model = ConstantTemporalModel(const=1)"
   ]
  },
  {
   "cell_type": "markdown",
   "id": "26fab7fd-0d94-4ac2-9e0a-791189a51450",
   "metadata": {},
   "source": [
    "Gammapy collects the spatial, temporal and spectral information into a single object, called `SkyModel`:"
   ]
  },
  {
   "cell_type": "code",
   "execution_count": null,
   "id": "60395873-d045-4dcb-ae4a-47cb876ac582",
   "metadata": {},
   "outputs": [],
   "source": [
    "source_model = SkyModel(spectral_model=spectral_model,\n",
    "                        spatial_model=spatial_model,\n",
    "                        temporal_model=temporal_model,\n",
    "                        name=\"fake_src\")\n",
    "print(source_model)"
   ]
  },
  {
   "cell_type": "markdown",
   "id": "c8190edc-0013-4ea9-8a52-f4bea4ef626d",
   "metadata": {},
   "source": [
    "We need to include the background as well. Let's consider the model taken from the IRF:"
   ]
  },
  {
   "cell_type": "code",
   "execution_count": null,
   "id": "c0384aa3-eb8f-47bc-b29b-d5f7fc48fc87",
   "metadata": {},
   "outputs": [],
   "source": [
    "bkg = FoVBackgroundModel(dataset_name=\"my-dataset\")"
   ]
  },
  {
   "cell_type": "markdown",
   "id": "7111d5a2-c9cd-41bf-a710-3adce5a33781",
   "metadata": {},
   "source": [
    "The full model (i.e. source plus background) can be stored into the `Models` object. It can handle a number of models!"
   ]
  },
  {
   "cell_type": "code",
   "execution_count": null,
   "id": "d3185ced-7091-401d-8439-9f4d3e788eea",
   "metadata": {},
   "outputs": [],
   "source": [
    "full_model = Models([source_model, bkg])\n",
    "print(full_model)"
   ]
  },
  {
   "cell_type": "markdown",
   "id": "32c3e938-8ace-4d35-82dd-23c9d026d7af",
   "metadata": {},
   "source": [
    "## Create the dataset\n",
    "\n",
    "Let's define the energy range, the pointing coordinates, the exposure time and the size of the field of view. Then we can load the IRF to be used for the simulation and we will create the observation properties:"
   ]
  },
  {
   "cell_type": "code",
   "execution_count": null,
   "id": "2851845d-e311-41c6-9385-4d4b108b305e",
   "metadata": {},
   "outputs": [],
   "source": [
    "# reconstructed energy:\n",
    "energy_axis = MapAxis.from_energy_bounds(\"0.05 TeV\", \"150 TeV\",\n",
    "                                         nbin=5, per_decade=True)\n",
    "\n",
    "# we pass also an axis to calculate the energy dispersion:\n",
    "energy_axis_true = MapAxis.from_energy_bounds(\"0.01 TeV\", \"200 TeV\", \n",
    "                                         nbin=10, per_decade=True, \n",
    "                                         name=\"energy_true\")\n",
    "migra_axis = MapAxis.from_bounds(0.5, 2, nbin=150, node_type=\"edges\", name=\"migra\")"
   ]
  },
  {
   "cell_type": "code",
   "execution_count": null,
   "id": "77bb3126-4f76-4594-bb3b-d5d47dbdbffc",
   "metadata": {},
   "outputs": [],
   "source": [
    "# Let's assume an exposure time of 5 hours:\n",
    "livetime = 5 * u.hr"
   ]
  },
  {
   "cell_type": "code",
   "execution_count": null,
   "id": "175c8571-47ed-4b70-b312-220f9c0c1b5a",
   "metadata": {},
   "outputs": [],
   "source": [
    "# Let's load an IRF for the South array:\n",
    "path = \"$GAMMAPY_DATA/cta-caldb/Prod5-South-20deg-AverageAz-14MSTs37SSTs.180000s-v0.1.fits.gz\"\n",
    "irf = load_irf_dict_from_file(path)"
   ]
  },
  {
   "cell_type": "code",
   "execution_count": null,
   "id": "712337dd-956d-4bad-9eb4-eb0e8924d0b4",
   "metadata": {},
   "outputs": [],
   "source": [
    "# We can define a FoV geometry of a square of 5° by side and a square pixel of 0.01° by side, centered \n",
    "# at the pointing position:\n",
    "\n",
    "geom = WcsGeom.create(\n",
    "            skydir=target,\n",
    "            width=(5, 5),\n",
    "            binsz=0.01, \n",
    "            frame=\"galactic\",\n",
    "            axes=[energy_axis],\n",
    "            )"
   ]
  },
  {
   "cell_type": "markdown",
   "id": "1c4cb1f4-9eb4-4fa7-9d98-2b01ecbfe56d",
   "metadata": {},
   "source": [
    "Now we can create the `Observation` object to store all the needed information for the observation. We assume that the observation starts today: "
   ]
  },
  {
   "cell_type": "code",
   "execution_count": null,
   "id": "4632a9aa-cf24-42d5-bb09-968dfa0e49b5",
   "metadata": {},
   "outputs": [],
   "source": [
    "time_ref = Time(\"2024-06-25T00:00:00\", format=\"isot\", scale=\"utc\")\n",
    "pointing = FixedPointingInfo(\n",
    "    fixed_icrs=target.icrs,\n",
    ")\n",
    "\n",
    "observation = Observation.create(\n",
    "            obs_id=\"0001\",\n",
    "            pointing=pointing,\n",
    "            livetime=livetime,\n",
    "            irfs=irf,\n",
    "            reference_time=time_ref,\n",
    "            )"
   ]
  },
  {
   "cell_type": "markdown",
   "id": "b228f845-22d3-4b21-ba6d-fe7dbd0c9aeb",
   "metadata": {},
   "source": [
    "Finally, we can create the `Dataset` object and we fill it with the full sky-model:"
   ]
  },
  {
   "cell_type": "code",
   "execution_count": null,
   "id": "af507fda-ba55-4aa2-8df0-8332d3f6b226",
   "metadata": {},
   "outputs": [],
   "source": [
    "empty = MapDataset.create(\n",
    "            geom,\n",
    "            energy_axis_true=energy_axis_true,\n",
    "            migra_axis=migra_axis,\n",
    "            name=\"my-dataset\",\n",
    "            )\n",
    "maker = MapDatasetMaker(selection=[\"exposure\", \"background\", \"psf\", \"edisp\"])\n",
    "dataset = maker.run(empty, observation)"
   ]
  },
  {
   "cell_type": "code",
   "execution_count": null,
   "id": "28382423-b9ed-4f7a-b7fb-0f2f5e6c9556",
   "metadata": {},
   "outputs": [],
   "source": [
    "dataset.models = full_model"
   ]
  },
  {
   "cell_type": "code",
   "execution_count": null,
   "id": "6d40411e-d367-40a4-ba6f-5d04d2e86b78",
   "metadata": {},
   "outputs": [],
   "source": [
    "print(dataset)"
   ]
  },
  {
   "cell_type": "markdown",
   "id": "4f756d97-7672-43f2-8caf-7213d25fcfa3",
   "metadata": {},
   "source": [
    "## Let's simulate the events:\n",
    "\n",
    "We call the `MapDatasetEventSampler` class, the core of the simulations in Gammapy, and we set a seed for the random generator. Then, we sampled the source and background events"
   ]
  },
  {
   "cell_type": "code",
   "execution_count": null,
   "id": "ff7fa1e1-39db-4e51-87d1-930f45673e33",
   "metadata": {},
   "outputs": [],
   "source": [
    "sampler = MapDatasetEventSampler(random_state=0)\n",
    "events = sampler.run(dataset, observation)"
   ]
  },
  {
   "cell_type": "code",
   "execution_count": null,
   "id": "b603de4b-915a-4912-a369-351bc4ce4b46",
   "metadata": {},
   "outputs": [],
   "source": [
    "events.table"
   ]
  },
  {
   "cell_type": "code",
   "execution_count": null,
   "id": "42b9dee0-4990-4b11-a5a2-007f72db357f",
   "metadata": {},
   "outputs": [],
   "source": [
    "# the number of source events is:\n",
    "len(events.table[events.table[\"MC_ID\"] == 1])"
   ]
  },
  {
   "cell_type": "code",
   "execution_count": null,
   "id": "3808a535-6c77-4fba-8226-78f47c3e6e5d",
   "metadata": {},
   "outputs": [],
   "source": [
    "# the number of background events is:\n",
    "len(events.table[events.table[\"MC_ID\"] == 0])"
   ]
  },
  {
   "cell_type": "markdown",
   "id": "b8610b07-48a6-447a-8177-00e72b8663d0",
   "metadata": {},
   "source": [
    "Events can be inspected with a quick look using the function `peek`:"
   ]
  },
  {
   "cell_type": "code",
   "execution_count": null,
   "id": "f308338f-b6c0-4785-a290-736cb2eed284",
   "metadata": {},
   "outputs": [],
   "source": [
    "events.peek()"
   ]
  },
  {
   "cell_type": "markdown",
   "id": "add22c19-8251-4cd3-a9e8-cca2a7a09f1a",
   "metadata": {},
   "source": [
    "Now that we have generated the sampled events, we can proceed to fit them for example. However, before doing that, we need to fill the `dataset` with them:"
   ]
  },
  {
   "cell_type": "code",
   "execution_count": null,
   "id": "c7bc495d-3c6f-4952-bc79-571b011b4e58",
   "metadata": {},
   "outputs": [],
   "source": [
    "counts = Map.from_geom(geom)\n",
    "counts.fill_events(events)\n",
    "dataset.counts = counts"
   ]
  },
  {
   "cell_type": "code",
   "execution_count": null,
   "id": "2718bf99-dd07-44ac-9b5d-e84f2fd471b2",
   "metadata": {},
   "outputs": [],
   "source": [
    "dataset.fake()"
   ]
  },
  {
   "cell_type": "code",
   "execution_count": null,
   "id": "3553af33-54b0-41a8-8e59-2f56a8e5dc85",
   "metadata": {},
   "outputs": [],
   "source": [
    "print(dataset)"
   ]
  },
  {
   "cell_type": "markdown",
   "id": "fa85a8d3-862a-41de-9e93-c89941accb38",
   "metadata": {},
   "source": [
    "## Open problems: \n",
    "\n",
    "6a) Simulate a source with an extended morphology (for example, a Gaussian spatial extensions with size 0.5°) and a powerlaw spectral shape ($\\Gamma=2$, amplitude=$10^{-13}$ cm$^{-2}$ s$^{-1}$ TeV$^{-1}$ at 1 TeV). Determine then minimum exposure time needed to constrain the extension of the source to better than 10%; for simplicity, consider a FoV dimension of $2.5°\\times2.5°$ and fix the source coordinates when fitting the model to the sampled data.\n",
    " \n",
    "6b) Consider the extended Galactic source RX J1713-3946, located at 1 kpc from us. Its coordinates are l, b = 347.313895°, -0.459872° and its spectrum can be modeled with a powerlaw of $\\Gamma=2.06$ and amplitude of $2.3\\times10^{-11}$ cm$^{-2}$ s$^{-1}$ TeV$^{-1}$ at 1 TeV.\n",
    "Simulate it and fit the sampled events to estimate the constraints on the size of its morpholgy. Then, move the source to larger distances, rescaling the powerlaw amplitude and the source size accordingly, and estimate its morphology. Calculate how the constraints on the size change with the distance. For simplicity, consider an exposure time of 10 hours and fix the source coordinates when fitting the model."
   ]
  },
  {
   "cell_type": "code",
   "execution_count": null,
   "id": "720e7952-3f04-493c-8acb-d1b8e01f81f0",
   "metadata": {},
   "outputs": [],
   "source": []
  }
 ],
 "metadata": {
  "kernelspec": {
   "display_name": "Python 3 (ipykernel)",
   "language": "python",
   "name": "python3"
  },
  "language_info": {
   "codemirror_mode": {
    "name": "ipython",
    "version": 3
   },
   "file_extension": ".py",
   "mimetype": "text/x-python",
   "name": "python",
   "nbconvert_exporter": "python",
   "pygments_lexer": "ipython3",
   "version": "3.10.13"
  }
 },
 "nbformat": 4,
 "nbformat_minor": 5
}
