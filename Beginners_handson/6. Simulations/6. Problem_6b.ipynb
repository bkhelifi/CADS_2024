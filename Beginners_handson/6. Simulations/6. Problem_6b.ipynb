{
 "cells": [
  {
   "cell_type": "markdown",
   "id": "88e65f38-949d-49ea-846f-a9b38b92b0c2",
   "metadata": {},
   "source": [
    "# Open problems 6b\n",
    "\n",
    "Consider the extended Galactic source RX J1713-3946, located at 1 kpc from us. Its coordinates are l, b = 347.313895°, -0.459872° and its spectrum can be modeled with a powerlaw of $\\Gamma=2.06$ and amplitude of $2.3\\times10^{-11}$ cm$^{-2}$ s$^{-1}$ TeV$^{-1}$ at 1 TeV.\n",
    "Simulate it and fit the sampled events to estimate the constraints on the size of its morpholgy. Then, move the source to larger distances, rescaling the powerlaw amplitude and the source size accordingly, and estimate its morphology. Calculate how the constraints on the size change with the distance. For simplicity, consider an exposure time of 10 hours and fix the source coordinates when fitting the model."
   ]
  },
  {
   "cell_type": "markdown",
   "id": "c640e2d3-c730-45a1-a515-c2d18ca0f7cc",
   "metadata": {},
   "source": [
    "1) Proceed with the imports:"
   ]
  },
  {
   "cell_type": "code",
   "execution_count": null,
   "id": "4a83cfaa-678c-4995-9fe3-665fc591cb59",
   "metadata": {},
   "outputs": [],
   "source": [
    "import matplotlib.pyplot as plt\n",
    "\n",
    "from pathlib import Path\n",
    "import time\n",
    "import numpy as np\n",
    "import threading\n",
    "import astropy.units as u\n",
    "from astropy.coordinates import Angle, SkyCoord\n",
    "from astropy.io import fits\n",
    "from astropy.time import Time\n",
    "from regions import CircleSkyRegion, PointSkyRegion\n",
    "from gammapy.data import Observation, observatory_locations, FixedPointingInfo, PointingMode\n",
    "from gammapy.datasets import MapDataset, MapDatasetEventSampler\n",
    "from gammapy.irf import load_irf_dict_from_file\n",
    "from gammapy.makers import MapDatasetMaker\n",
    "from gammapy.maps import MapAxis, RegionNDMap, WcsGeom, Map\n",
    "from gammapy.modeling import Fit\n",
    "from gammapy.modeling.models import (\n",
    "    ConstantSpectralModel,\n",
    "    FoVBackgroundModel,\n",
    "    LightCurveTemplateTemporalModel,\n",
    "    DiskSpatialModel,\n",
    "    ConstantTemporalModel,\n",
    "     PointSpatialModel,\n",
    "    PowerLawSpectralModel,\n",
    "    SkyModel,\n",
    "    Models\n",
    ")"
   ]
  },
  {
   "cell_type": "markdown",
   "id": "204739d5-c82d-4a69-818a-6159bee4bd77",
   "metadata": {},
   "source": [
    "Let's simulate the source RX J1713-3946. This is located at 1 kpc of distance, at coordinates l, b = 347.313895°, -0.459872°. Its spectrum can be modeled with a powerlaw of $\\Gamma=2.06$ and amplitude of $2.3\\times10^{-11}$ cm$^{-2}$ s$^{-1}$ TeV$^{-1}$ at 1 TeV. \n",
    "\n",
    "The integrated flux is: \n",
    "$F_{1~\\text{kpc}} = \\int_{0.01~\\text{TeV}}^{10~\\text{TeV}} N_{1~\\text{kpc}} \\cdot (\\cfrac{E}{E_0})^{-\\Gamma} dE$\n",
    "\n",
    "from which we can estimate the luminosity, which has to be unvariant for the distance:\n",
    "\n",
    "$L_{\\gamma} = F_{1~\\text{kpc}} \\cdot 4 \\cdot \\pi \\cdot D_{1~\\text{kpc}}^2$\n",
    "\n",
    "$L_{\\gamma} = F_D \\cdot 4 \\cdot \\pi \\cdot D^2$\n",
    "\n",
    "\n",
    "Therefore, the powerlaw amplitude $N_D$ scales with the distance as:\n",
    "\n",
    "$N_D = N_{1~\\text{kpc}} \\cdot (\\cfrac{1~\\text{kpc}}{D})^2$\n",
    "\n",
    "where $N_{1~\\text{kpc}}$ is the amplitude at 1 TeV."
   ]
  },
  {
   "cell_type": "markdown",
   "id": "1d7785d3-dd34-48eb-bb84-9082e31e437b",
   "metadata": {},
   "source": [
    "2) Calculate the amplitudes for different distances:"
   ]
  },
  {
   "cell_type": "code",
   "execution_count": null,
   "id": "0a7f2d0a-26ec-4a92-b599-ca979de1dc3f",
   "metadata": {},
   "outputs": [],
   "source": [
    "# let's determine the powerlaw amplitude for the different distances:\n",
    "\n",
    "distances = [1, 2, 3, 4, 5, 7, 10, 15] * u.kpc\n",
    "\n",
    "# Utilise the equation N_D\n",
    "amplitudes = "
   ]
  },
  {
   "cell_type": "markdown",
   "id": "21bd2d70-6a16-4c08-8e03-583fa1d50812",
   "metadata": {},
   "source": [
    "3)  \n",
    "If the source has a disk morphology with radius $r=0.5$° at 1 kpc, its real size is 8.73e-3 kpc. \n",
    "The scaling relation with the distance is:\n",
    "\n",
    "$r = \\text{arctan}(0.00873~\\text{kpc} / D)$\n",
    "\n",
    "Calculate the source radius for different distances:"
   ]
  },
  {
   "cell_type": "code",
   "execution_count": null,
   "id": "d5845ae7-e8db-4b48-978c-4ac87aae7d91",
   "metadata": {},
   "outputs": [],
   "source": [
    "# let's determine the size of the radius for the different distances:\n",
    "radius = "
   ]
  },
  {
   "cell_type": "markdown",
   "id": "0d97055f-96be-468c-b236-6aebd38a16ae",
   "metadata": {},
   "source": [
    "4) Define the energy (reco and true) axes:"
   ]
  },
  {
   "cell_type": "code",
   "execution_count": null,
   "id": "2851845d-e311-41c6-9385-4d4b108b305e",
   "metadata": {},
   "outputs": [],
   "source": [
    "# create the observation and the dataset\n",
    "\n",
    "energy_axis = \n",
    "\n",
    "energy_axis_true = "
   ]
  },
  {
   "cell_type": "markdown",
   "id": "ad993191-48ca-408d-90a2-28d2acd3849c",
   "metadata": {},
   "source": [
    "5) Set the source coordinates and the pointing direction:"
   ]
  },
  {
   "cell_type": "code",
   "execution_count": null,
   "id": "ed48b916-5b98-494a-b88a-9f2605325355",
   "metadata": {},
   "outputs": [],
   "source": [
    "target = \n",
    "\n",
    "# You saw how to do this in 6a!\n",
    "pointing = "
   ]
  },
  {
   "cell_type": "markdown",
   "id": "fca2edd0-0517-4079-8a29-b0582b56a705",
   "metadata": {},
   "source": [
    "6) Load the IRF with the `load_irf_dict_from_file` function:"
   ]
  },
  {
   "cell_type": "code",
   "execution_count": null,
   "id": "175c8571-47ed-4b70-b312-220f9c0c1b5a",
   "metadata": {},
   "outputs": [],
   "source": [
    "irf = "
   ]
  },
  {
   "cell_type": "markdown",
   "id": "01f26d97-ec2c-4886-a3d9-953d287ca2ff",
   "metadata": {},
   "source": [
    "7) Define the geometry (assume a square with 2.5° by side) and create the `MapDataset`:"
   ]
  },
  {
   "cell_type": "code",
   "execution_count": null,
   "id": "712337dd-956d-4bad-9eb4-eb0e8924d0b4",
   "metadata": {},
   "outputs": [],
   "source": [
    "geom = \n",
    "\n",
    "\n",
    "# You could also set a migra axis. \n",
    "# Set a migra axis only if you want simulate DL3 events\n",
    "# migra_axis = MapAxis.from_bounds(0.5, 2, nbin=150, node_type=\"edges\", name=\"migra\")\n",
    "\n",
    "empty = "
   ]
  },
  {
   "cell_type": "markdown",
   "id": "0fbe7a1b-1143-459a-bab7-40a96c1bcb55",
   "metadata": {},
   "source": [
    "8) Create the `Observation` object (assume an exposure of 10 hr) and the `MapDataset` with the `MapDatasetMaker` class:"
   ]
  },
  {
   "cell_type": "code",
   "execution_count": null,
   "id": "c401964a-9374-4f90-962f-19071ccf251d",
   "metadata": {},
   "outputs": [],
   "source": [
    "# let's create the observation object:\n",
    "livetime = 10 * u.hr\n",
    "\n",
    "print(f\"Simulation for exposure: {livetime}\")\n",
    "observation = Observation.create(\n",
    "    XXX,\n",
    "    XXX,\n",
    "    XXX,\n",
    "    XXX,\n",
    ")\n",
    "\n",
    "maker = \n",
    "dataset = "
   ]
  },
  {
   "cell_type": "markdown",
   "id": "6fe618e6-9d6d-4117-956c-85644303c584",
   "metadata": {},
   "source": [
    "9) Create the background model, which will be the same for all simulated models. Use the background from the IRF with `FoVBackgroundModel`:"
   ]
  },
  {
   "cell_type": "code",
   "execution_count": null,
   "id": "75701e55-cb78-48db-a8c8-69c093165555",
   "metadata": {},
   "outputs": [],
   "source": [
    "# let's create the bkg model \n",
    "\n",
    "bkg = FoVBackgroundModel(dataset_name=XXX)"
   ]
  },
  {
   "cell_type": "markdown",
   "id": "ca70dbad-2217-447d-8985-978c2a616eed",
   "metadata": {},
   "source": [
    "10) Let's loop over the different distances, i.e. different amplitudes and radius, simulate the events `MapDataset.fake()`, fit them (with the `Fit` class) and finally estimate the size of the source and its uncertainty."
   ]
  },
  {
   "cell_type": "code",
   "execution_count": null,
   "id": "4632a9aa-cf24-42d5-bb09-968dfa0e49b5",
   "metadata": {},
   "outputs": [],
   "source": [
    "sigmas, errors = [], []\n",
    "for N, r, dist in zip(amplitudes, radius, distances):\n",
    "    print(f\"Calculation for a distance of {dist}\")\n",
    "\n",
    "    # choose a disk model with the radius \n",
    "    spatial_model =  DiskSpatialModel(\n",
    "                            lon_0=XXX,\n",
    "                            lat_0=XXX,\n",
    "                            r_0=XXX,\n",
    "                            frame=XXX,\n",
    "                            )\n",
    "\n",
    "    spectral_model = \n",
    "    \n",
    "    source_model = \n",
    "    \n",
    "    full_model = \n",
    "    \n",
    "    dataset.models = \n",
    "\n",
    "    dataset.fake()\n",
    "\n",
    "    dataset.models.parameters[\"lon_0\"].frozen = True\n",
    "    dataset.models.parameters[\"lat_0\"].frozen = True\n",
    "\n",
    "    fit = \n",
    "    result = \n",
    "    sigmas.append(result.models[0].spatial_model.r_0.value)\n",
    "    errors.append(result.models[0].spatial_model.r_0.error)\n",
    "    print(result)"
   ]
  },
  {
   "cell_type": "markdown",
   "id": "82745d93-dd68-46f7-acb1-c8e1865bce92",
   "metadata": {},
   "source": [
    "11) Plot our results as a function of the distance:"
   ]
  }
 ],
 "metadata": {
  "kernelspec": {
   "display_name": "Python 3 (ipykernel)",
   "language": "python",
   "name": "python3"
  },
  "language_info": {
   "codemirror_mode": {
    "name": "ipython",
    "version": 3
   },
   "file_extension": ".py",
   "mimetype": "text/x-python",
   "name": "python",
   "nbconvert_exporter": "python",
   "pygments_lexer": "ipython3",
   "version": "3.10.13"
  }
 },
 "nbformat": 4,
 "nbformat_minor": 5
}
