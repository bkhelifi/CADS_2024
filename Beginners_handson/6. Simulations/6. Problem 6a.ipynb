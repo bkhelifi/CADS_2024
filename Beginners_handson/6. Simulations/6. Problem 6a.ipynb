{
 "cells": [
  {
   "cell_type": "markdown",
   "id": "88e65f38-949d-49ea-846f-a9b38b92b0c2",
   "metadata": {},
   "source": [
    "# Open problem 6a\n",
    "\n",
    "Simulate a source with an extended morphology (for example, a Gaussian spatial extensions with size 0.5°) and a powerlaw spectral shape ($\\Gamma=2$, amplitude=$10^{-13}$ cm$^{-2}$ s$^{-1}$ TeV$^{-1}$ at 1 TeV).\n",
    "\n",
    "Determine then minimum exposure time needed to constrain the extension of the source to better than 10%; for simplicity, consider a FoV dimension of $2.5°\\times2.5°$ and fix the source coordinates when fitting the model to the sampled data."
   ]
  },
  {
   "cell_type": "markdown",
   "id": "84a46e0a-9819-420f-8f49-a473d398cd13",
   "metadata": {},
   "source": [
    "Let's simulate the source and then fit its properties with the model used for the simulation.\n",
    "\n",
    "1) Proceed with the basic imports:"
   ]
  },
  {
   "cell_type": "code",
   "execution_count": null,
   "id": "4a83cfaa-678c-4995-9fe3-665fc591cb59",
   "metadata": {},
   "outputs": [],
   "source": [
    "import matplotlib.pyplot as plt\n",
    "\n",
    "from pathlib import Path\n",
    "import time\n",
    "import numpy as np\n",
    "import threading\n",
    "import astropy.units as u\n",
    "from astropy.coordinates import Angle, SkyCoord\n",
    "from astropy.io import fits\n",
    "from astropy.time import Time\n",
    "from regions import CircleSkyRegion, PointSkyRegion\n",
    "from gammapy.data import Observation, observatory_locations, FixedPointingInfo, PointingMode\n",
    "from gammapy.datasets import MapDataset, MapDatasetEventSampler\n",
    "from gammapy.irf import load_irf_dict_from_file\n",
    "from gammapy.makers import MapDatasetMaker\n",
    "from gammapy.maps import MapAxis, RegionNDMap, WcsGeom, Map\n",
    "from gammapy.modeling import Fit\n",
    "from gammapy.modeling.models import (\n",
    "    ConstantSpectralModel,\n",
    "    FoVBackgroundModel,\n",
    "    LightCurveTemplateTemporalModel,\n",
    "    GaussianSpatialModel,\n",
    "    GaussianTemporalModel,\n",
    "    ConstantTemporalModel,\n",
    "    ExpDecayTemporalModel,\n",
    "    PointSpatialModel,\n",
    "    PowerLawSpectralModel,\n",
    "    SkyModel,\n",
    "    Models\n",
    ")"
   ]
  },
  {
   "cell_type": "markdown",
   "id": "4d1d441b-9a57-4c53-8405-3cf5cb69f9db",
   "metadata": {},
   "source": [
    "2) Create a sky model for a given source (spectral, spatial and temporal properties) plus the IRF background. Assume a Gaussian spatial model and a powerlaw spectral model. For simplicity, you might want to assume a constant temporal source:"
   ]
  },
  {
   "cell_type": "code",
   "execution_count": null,
   "id": "9d437784-cc1e-4ad0-a4e1-9e2fa1bdc0b6",
   "metadata": {},
   "outputs": [],
   "source": [
    "# let's create the source sky-model plus the background:\n",
    "target_position = \n",
    "\n",
    "# Hint - we told you in the question which models to utilise here\n",
    "spatial_model = \n",
    "\n",
    "spectral_model = \n",
    "\n",
    "temporal_model = \n",
    "\n",
    "source_model = SkyModel(XXX)"
   ]
  },
  {
   "cell_type": "code",
   "execution_count": null,
   "id": "60395873-d045-4dcb-ae4a-47cb876ac582",
   "metadata": {},
   "outputs": [],
   "source": [
    "bkg = FoVBackgroundModel(dataset_name=XXX)\n",
    "\n",
    "full_model =\n",
    "\n",
    "print(full_model)"
   ]
  },
  {
   "cell_type": "markdown",
   "id": "9452183f-b6ec-4fb2-a4be-a7b3cf9b10f4",
   "metadata": {},
   "source": [
    "3) Define the energy (reco and true) axes (see the previous notebook for an idea of the energies to utilise):"
   ]
  },
  {
   "cell_type": "code",
   "execution_count": null,
   "id": "2851845d-e311-41c6-9385-4d4b108b305e",
   "metadata": {},
   "outputs": [],
   "source": [
    "# let's create the observation and the dataset\n",
    "\n",
    "energy_axis = \n",
    "\n",
    "energy_axis_true = "
   ]
  },
  {
   "cell_type": "markdown",
   "id": "54c84afb-18f4-47d2-ada1-d5084e791bf5",
   "metadata": {},
   "source": [
    "4) Define the pointing direction of the observation (assume an offset of 0.5 deg with respect to the target position):"
   ]
  },
  {
   "cell_type": "code",
   "execution_count": null,
   "id": "ed48b916-5b98-494a-b88a-9f2605325355",
   "metadata": {},
   "outputs": [],
   "source": [
    "# let's set the pointing coordinates\n",
    "pointing = target_position.directional_offset_by(position_angle = 0 * u.deg, separation = 0.5 * u.deg)"
   ]
  },
  {
   "cell_type": "markdown",
   "id": "b95a22d8-77be-44bf-aa06-d03ab0056fe8",
   "metadata": {},
   "source": [
    "5) Load the irf with `load_irf_dict_from_file`:"
   ]
  },
  {
   "cell_type": "code",
   "execution_count": null,
   "id": "175c8571-47ed-4b70-b312-220f9c0c1b5a",
   "metadata": {},
   "outputs": [],
   "source": [
    "# let's load the IRF for the South array:\n",
    "irf = "
   ]
  },
  {
   "cell_type": "markdown",
   "id": "7a9ef3e4-4256-4a16-a808-d7a0f8e63658",
   "metadata": {},
   "source": [
    "7) define the geometry (assume a square with 2.5° by side and a bin size of 0.02deg) and create the `MapDataset`:"
   ]
  },
  {
   "cell_type": "code",
   "execution_count": null,
   "id": "712337dd-956d-4bad-9eb4-eb0e8924d0b4",
   "metadata": {},
   "outputs": [],
   "source": [
    "# let's define the geometry:\n",
    "geom = \n",
    "\n",
    "empty = \n"
   ]
  },
  {
   "cell_type": "markdown",
   "id": "b1c16a04-b41a-4019-a5d5-ebbdee46768f",
   "metadata": {},
   "source": [
    "8) Start the simulations (using `MapDataset.fake()`, looping over an array of exposures.  Then run the fit (`Fit` class)."
   ]
  },
  {
   "cell_type": "code",
   "execution_count": null,
   "id": "4632a9aa-cf24-42d5-bb09-968dfa0e49b5",
   "metadata": {},
   "outputs": [],
   "source": [
    "# let's loop over the exposure times, fit the sampled events \n",
    "# and estimate the best-fit sizes:\n",
    "\n",
    "time_ref = Time(\"2024-06-25T00:00:00\", format=\"isot\", scale=\"utc\")\n",
    "livetime = [0.5, 1, 2, 5, 10, 20, 50, 100] * u.hr\n",
    "\n",
    "sigmas, errors = [], []\n",
    "for exp in livetime:\n",
    "    print(f\"Simulation for exposure: {exp}\")\n",
    "    \n",
    "    # Recall how an observation was creating in the previous notebook\n",
    "    observation = \n",
    "    \n",
    "    # Recall we want to create a MapDataset. \n",
    "    # So we need to define the correct maker and then utilise the 'run' option\n",
    "    maker = \n",
    "    dataset = \n",
    "    \n",
    "    # Apply the models to our dataset\n",
    "    dataset.models = \n",
    "\n",
    "    # Utilise the 'fake' command to simulate fake counts for the current model and IRFs\n",
    "    dataset.fake()\n",
    "\n",
    "    dataset.models.parameters[\"lon_0\"].frozen = True\n",
    "    dataset.models.parameters[\"lat_0\"].frozen = True\n",
    "\n",
    "    # Initiate the Fit class\n",
    "    fit = \n",
    "    result = \n",
    "    \n",
    "    # Save the results to the list so we can use them later\n",
    "    sigmas.append(result.models[0].spatial_model.sigma.value)\n",
    "    errors.append(result.models[0].spatial_model.sigma.error)\n",
    "\n",
    "    print(result)"
   ]
  },
  {
   "cell_type": "markdown",
   "id": "82745d93-dd68-46f7-acb1-c8e1865bce92",
   "metadata": {},
   "source": [
    "9) plot the relative uncertainty as a function of the exposure time:"
   ]
  },
  {
   "cell_type": "code",
   "execution_count": null,
   "id": "d1b77ee6-a28b-4beb-8d03-c2702194e3b3",
   "metadata": {},
   "outputs": [],
   "source": [
    "plt.plot(XXX, XXX, \"o\")\n",
    "plt.loglog()\n",
    "plt.xlabel(\"Exposure (hr)\")\n",
    "plt.ylabel(\"Rel. uncertainty (%)\")\n",
    "plt.title(\"Constrain on the source extension\")"
   ]
  },
  {
   "cell_type": "code",
   "execution_count": null,
   "id": "433f0085-0ce2-42f1-9c79-83dc2f7dac49",
   "metadata": {},
   "outputs": [],
   "source": []
  }
 ],
 "metadata": {
  "kernelspec": {
   "display_name": "Python 3 (ipykernel)",
   "language": "python",
   "name": "python3"
  },
  "language_info": {
   "codemirror_mode": {
    "name": "ipython",
    "version": 3
   },
   "file_extension": ".py",
   "mimetype": "text/x-python",
   "name": "python",
   "nbconvert_exporter": "python",
   "pygments_lexer": "ipython3",
   "version": "3.10.13"
  }
 },
 "nbformat": 4,
 "nbformat_minor": 5
}
