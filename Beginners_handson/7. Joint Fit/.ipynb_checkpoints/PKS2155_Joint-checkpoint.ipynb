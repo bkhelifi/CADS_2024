{
 "cells": [
  {
   "cell_type": "markdown",
   "id": "69f651ad-8841-4785-b857-f09898048584",
   "metadata": {},
   "source": [
    "# Multi-wavelength joint analysis\n",
    "\n",
    "The aim of this tutorial is to do a joint analysis between H.E.S.S. and Fermi-LAT.\n",
    "\n",
    "We will perform this analysis on an AGN PKS 2155-305."
   ]
  },
  {
   "cell_type": "code",
   "execution_count": 121,
   "id": "b2606f4f-ca12-4763-a3a8-482f64a1d4ca",
   "metadata": {},
   "outputs": [],
   "source": [
    "from gammapy.data import DataStore, EventList\n",
    "from gammapy.irf import PSFMap, EDispKernelMap\n",
    "from gammapy.maps import MapAxis, RegionGeom, WcsGeom, Map\n",
    "from gammapy.makers import SpectrumDatasetMaker, SafeMaskMaker, ReflectedRegionsBackgroundMaker\n",
    "from gammapy.datasets import SpectrumDataset, Datasets, FluxPointsDataset, MapDataset\n",
    "from gammapy.modeling.models import PowerLawSpectralModel, SkyModel, EBLAbsorptionNormSpectralModel, ExpCutoffPowerLawSpectralModel\n",
    "from gammapy.modeling import Fit\n",
    "from gammapy.estimators import FluxPointsEstimator\n",
    "\n",
    "from astropy.coordinates import SkyCoord\n",
    "import astropy.units as u\n",
    "from astropy.time import Time\n",
    "from regions import CircleSkyRegion\n",
    "\n",
    "import matplotlib.pyplot as plt"
   ]
  },
  {
   "cell_type": "markdown",
   "id": "11f581fe-39bc-42df-9d55-0d2c498ab6db",
   "metadata": {},
   "source": [
    "## H.E.S.S."
   ]
  },
  {
   "cell_type": "markdown",
   "id": "bc80be76-cbba-4859-8fdc-4a0fd0b4112e",
   "metadata": {},
   "source": [
    "Select H.E.S.S. observations for PKS 2155-304."
   ]
  },
  {
   "cell_type": "code",
   "execution_count": 2,
   "id": "b1cbab5b-54ba-44e9-909e-faa2b5dc02d8",
   "metadata": {},
   "outputs": [],
   "source": [
    "data_store = DataStore.from_dir(\"$GAMMAPY_DATA/hess-dl3-dr1/\")"
   ]
  },
  {
   "cell_type": "code",
   "execution_count": 4,
   "id": "24b9b59b-4c5d-41d6-b398-36d59cd725c3",
   "metadata": {},
   "outputs": [],
   "source": [
    "target_pos = "
   ]
  },
  {
   "cell_type": "code",
   "execution_count": 12,
   "id": "cd4ef830-6c3d-411a-b38b-612bb19f890c",
   "metadata": {},
   "outputs": [],
   "source": [
    "obs_time = Time([53736, 54101], format=\"mjd\", scale=\"tt\")"
   ]
  },
  {
   "cell_type": "code",
   "execution_count": 13,
   "id": "30fd8bfd-014c-4d5b-ab2a-e5697e714833",
   "metadata": {},
   "outputs": [],
   "source": [
    "obs_table = data_store.obs_table\n",
    "obs_table = obs_table.select_sky_circle\n",
    "obs_table = obs_table.select_time_range"
   ]
  },
  {
   "cell_type": "code",
   "execution_count": 16,
   "id": "0daf501e-2c11-48da-af1d-eb075ed93492",
   "metadata": {
    "scrolled": true
   },
   "outputs": [
    {
     "data": {
      "text/html": [
       "<div><i>ObservationTable length=15</i>\n",
       "<table id=\"table6153666816\" class=\"table-striped table-bordered table-condensed\">\n",
       "<thead><tr><th>OBS_ID</th><th>RA_PNT</th><th>DEC_PNT</th><th>GLON_PNT</th><th>GLAT_PNT</th><th>ZEN_PNT</th><th>ALT_PNT</th><th>AZ_PNT</th><th>OBJECT</th><th>RA_OBJ</th><th>DEC_OBJ</th><th>OFFSET_OBJ</th><th>ONTIME</th><th>LIVETIME</th><th>DEADC</th><th>TSTART</th><th>TSTOP</th><th>DATE-OBS</th><th>TIME-OBS</th><th>DATE-END</th><th>TIME-END</th><th>N_TELS</th><th>TELLIST</th><th>QUALITY</th><th>MUONEFF</th><th>EVENT_COUNT</th><th>TARGET_NAME</th><th>TARGET_TAG</th><th>TARGET_OFFSET</th><th>SAFE_ENERGY_LO</th><th>SAFE_ENERGY_HI</th></tr></thead>\n",
       "<thead><tr><th></th><th>deg</th><th>deg</th><th>deg</th><th>deg</th><th>deg</th><th>deg</th><th>deg</th><th></th><th>deg</th><th>deg</th><th>deg</th><th>s</th><th>s</th><th></th><th>s</th><th>s</th><th></th><th></th><th></th><th></th><th></th><th></th><th></th><th></th><th></th><th></th><th></th><th>deg</th><th>TeV</th><th>TeV</th></tr></thead>\n",
       "<thead><tr><th>int64</th><th>float32</th><th>float32</th><th>float32</th><th>float32</th><th>float32</th><th>float32</th><th>float32</th><th>bytes18</th><th>float32</th><th>float32</th><th>float32</th><th>float32</th><th>float32</th><th>float32</th><th>float64</th><th>float64</th><th>bytes10</th><th>bytes12</th><th>bytes10</th><th>bytes12</th><th>int64</th><th>bytes7</th><th>int64</th><th>float32</th><th>int64</th><th>bytes21</th><th>bytes14</th><th>float32</th><th>float32</th><th>float32</th></tr></thead>\n",
       "<tr><td>33787</td><td>329.71667</td><td>-29.725555</td><td>18.541153</td><td>-52.188046</td><td>50.42014</td><td>39.57986</td><td>110.0</td><td>PKS 2155-304</td><td>329.71667</td><td>-30.225555</td><td>0.5</td><td>1689.0</td><td>1645.9437</td><td>0.9745078</td><td>175897474.0</td><td>175899163.0</td><td>2006-07-29</td><td>20:25:38.184</td><td>2006-07-29</td><td>20:53:47.184</td><td>4</td><td>1,2,3,4</td><td>0</td><td>1.0196152</td><td>7176</td><td>PKS 2155-304 (flare)</td><td>pks2155_flare</td><td>0.500033</td><td>1.0715193</td><td>100.0</td></tr>\n",
       "<tr><td>33788</td><td>329.13797</td><td>-30.225555</td><td>17.639944</td><td>-51.748703</td><td>43.876087</td><td>46.123913</td><td>110.0</td><td>PKS 2155-304</td><td>329.71667</td><td>-30.225555</td><td>0.50002956</td><td>1689.0</td><td>1596.1018</td><td>0.9449981</td><td>175899293.0</td><td>175900982.0</td><td>2006-07-29</td><td>20:55:57.184</td><td>2006-07-29</td><td>21:24:06.184</td><td>4</td><td>1,2,3,4</td><td>0</td><td>1.0166186</td><td>8295</td><td>PKS 2155-304 (flare)</td><td>pks2155_flare</td><td>0.5002569</td><td>0.70794576</td><td>100.0</td></tr>\n",
       "<tr><td>33789</td><td>330.29538</td><td>-30.225555</td><td>17.818897</td><td>-52.742733</td><td>37.320198</td><td>52.679802</td><td>110.0</td><td>PKS 2155-304</td><td>329.71667</td><td>-30.225555</td><td>0.50002956</td><td>1688.0</td><td>1583.4436</td><td>0.938059</td><td>175901110.0</td><td>175902798.0</td><td>2006-07-29</td><td>21:26:14.184</td><td>2006-07-29</td><td>21:54:22.184</td><td>4</td><td>1,2,3,4</td><td>0</td><td>1.0242585</td><td>10014</td><td>PKS 2155-304 (flare)</td><td>pks2155_flare</td><td>0.4998021</td><td>0.53703177</td><td>100.0</td></tr>\n",
       "<tr><td>33790</td><td>329.71667</td><td>-30.725555</td><td>16.917807</td><td>-52.297615</td><td>30.75443</td><td>59.245567</td><td>110.016365</td><td>PKS 2155-304</td><td>329.71667</td><td>-30.225555</td><td>0.5</td><td>1690.0</td><td>1561.3771</td><td>0.9238918</td><td>175902930.0</td><td>175904620.0</td><td>2006-07-29</td><td>21:56:34.184</td><td>2006-07-29</td><td>22:24:44.184</td><td>4</td><td>1,2,3,4</td><td>0</td><td>1.0232483</td><td>10624</td><td>PKS 2155-304 (flare)</td><td>pks2155_flare</td><td>0.49996707</td><td>0.40738028</td><td>100.0</td></tr>\n",
       "<tr><td>33791</td><td>329.71667</td><td>-29.725555</td><td>18.541153</td><td>-52.188046</td><td>24.24126</td><td>65.75874</td><td>112.37419</td><td>PKS 2155-304</td><td>329.71667</td><td>-30.225555</td><td>0.5</td><td>1689.0</td><td>1567.8776</td><td>0.9282875</td><td>175904751.0</td><td>175906440.0</td><td>2006-07-29</td><td>22:26:55.184</td><td>2006-07-29</td><td>22:55:04.184</td><td>4</td><td>1,2,3,4</td><td>0</td><td>1.0132304</td><td>10763</td><td>PKS 2155-304 (flare)</td><td>pks2155_flare</td><td>0.500033</td><td>0.33113113</td><td>100.0</td></tr>\n",
       "<tr><td>33792</td><td>329.13797</td><td>-30.225555</td><td>17.639944</td><td>-51.748703</td><td>17.864033</td><td>72.13597</td><td>116.916855</td><td>PKS 2155-304</td><td>329.71667</td><td>-30.225555</td><td>0.50002956</td><td>1688.0</td><td>1562.3591</td><td>0.9255682</td><td>175906576.0</td><td>175908264.0</td><td>2006-07-29</td><td>22:57:20.184</td><td>2006-07-29</td><td>23:25:28.184</td><td>4</td><td>1,2,3,4</td><td>0</td><td>1.0222732</td><td>10926</td><td>PKS 2155-304 (flare)</td><td>pks2155_flare</td><td>0.5002569</td><td>0.30902955</td><td>100.0</td></tr>\n",
       "<tr><td>33793</td><td>330.29538</td><td>-30.225555</td><td>17.818897</td><td>-52.742733</td><td>11.910335</td><td>78.08967</td><td>128.6549</td><td>PKS 2155-304</td><td>329.71667</td><td>-30.225555</td><td>0.50002956</td><td>1689.0</td><td>1566.6709</td><td>0.927573</td><td>175908409.0</td><td>175910098.0</td><td>2006-07-29</td><td>23:27:53.184</td><td>2006-07-29</td><td>23:56:02.184</td><td>4</td><td>1,2,3,4</td><td>0</td><td>1.0103153</td><td>10781</td><td>PKS 2155-304 (flare)</td><td>pks2155_flare</td><td>0.4998021</td><td>0.28840315</td><td>100.0</td></tr>\n",
       "<tr><td>33794</td><td>329.71667</td><td>-30.725555</td><td>16.917807</td><td>-52.297615</td><td>7.234592</td><td>82.76541</td><td>171.94302</td><td>PKS 2155-304</td><td>329.71667</td><td>-30.225555</td><td>0.5</td><td>1688.0</td><td>1564.7129</td><td>0.9269626</td><td>175910705.0</td><td>175912393.0</td><td>2006-07-30</td><td>00:06:09.184</td><td>2006-07-30</td><td>00:34:17.184</td><td>4</td><td>1,2,3,4</td><td>0</td><td>1.0147448</td><td>11024</td><td>PKS 2155-304 (flare)</td><td>pks2155_flare</td><td>0.49996707</td><td>0.25118864</td><td>100.0</td></tr>\n",
       "<tr><td>33795</td><td>329.71667</td><td>-29.725555</td><td>18.541153</td><td>-52.188046</td><td>9.155867</td><td>80.84413</td><td>217.54015</td><td>PKS 2155-304</td><td>329.71667</td><td>-30.225555</td><td>0.5</td><td>1689.0</td><td>1563.0264</td><td>0.9254153</td><td>175912554.0</td><td>175914243.0</td><td>2006-07-30</td><td>00:36:58.184</td><td>2006-07-30</td><td>01:05:07.184</td><td>4</td><td>1,2,3,4</td><td>0</td><td>1.0132756</td><td>10589</td><td>PKS 2155-304 (flare)</td><td>pks2155_flare</td><td>0.500033</td><td>0.25118864</td><td>100.0</td></tr>\n",
       "<tr><td>33796</td><td>329.13797</td><td>-30.225555</td><td>17.639944</td><td>-51.748703</td><td>14.41577</td><td>75.58423</td><td>237.83025</td><td>PKS 2155-304</td><td>329.71667</td><td>-30.225555</td><td>0.50002956</td><td>1689.0</td><td>1563.7349</td><td>0.9258347</td><td>175914378.0</td><td>175916067.0</td><td>2006-07-30</td><td>01:07:22.184</td><td>2006-07-30</td><td>01:35:31.184</td><td>4</td><td>1,2,3,4</td><td>0</td><td>1.0193447</td><td>10672</td><td>PKS 2155-304 (flare)</td><td>pks2155_flare</td><td>0.5002569</td><td>0.28840315</td><td>100.0</td></tr>\n",
       "<tr><td>33797</td><td>330.29538</td><td>-30.225555</td><td>17.818897</td><td>-52.742733</td><td>20.622698</td><td>69.377304</td><td>245.45888</td><td>PKS 2155-304</td><td>329.71667</td><td>-30.225555</td><td>0.50002956</td><td>1689.0</td><td>1567.5194</td><td>0.9280754</td><td>175916208.0</td><td>175917897.0</td><td>2006-07-30</td><td>01:37:52.184</td><td>2006-07-30</td><td>02:06:01.184</td><td>4</td><td>1,2,3,4</td><td>0</td><td>1.0141387</td><td>9853</td><td>PKS 2155-304 (flare)</td><td>pks2155_flare</td><td>0.4998021</td><td>0.30902955</td><td>100.0</td></tr>\n",
       "<tr><td>33798</td><td>329.71667</td><td>-30.725555</td><td>16.917807</td><td>-52.297615</td><td>27.104174</td><td>62.89583</td><td>249.21857</td><td>PKS 2155-304</td><td>329.71667</td><td>-30.225555</td><td>0.5</td><td>1689.0</td><td>1572.3356</td><td>0.9309269</td><td>175918038.0</td><td>175919727.0</td><td>2006-07-30</td><td>02:08:22.184</td><td>2006-07-30</td><td>02:36:31.184</td><td>4</td><td>1,2,3,4</td><td>0</td><td>1.0134364</td><td>8986</td><td>PKS 2155-304 (flare)</td><td>pks2155_flare</td><td>0.49996707</td><td>0.3801894</td><td>100.0</td></tr>\n",
       "<tr><td>33799</td><td>329.71667</td><td>-29.725555</td><td>18.541153</td><td>-52.188046</td><td>33.710506</td><td>56.289494</td><td>250.0</td><td>PKS 2155-304</td><td>329.71667</td><td>-30.225555</td><td>0.5</td><td>1689.0</td><td>1580.9498</td><td>0.93602717</td><td>175919876.0</td><td>175921565.0</td><td>2006-07-30</td><td>02:39:00.184</td><td>2006-07-30</td><td>03:07:09.184</td><td>4</td><td>1,2,3,4</td><td>0</td><td>1.0172818</td><td>8061</td><td>PKS 2155-304 (flare)</td><td>pks2155_flare</td><td>0.500033</td><td>0.43651584</td><td>100.0</td></tr>\n",
       "<tr><td>33800</td><td>329.13797</td><td>-30.225555</td><td>17.639944</td><td>-51.748703</td><td>40.261627</td><td>49.738373</td><td>250.0</td><td>PKS 2155-304</td><td>329.71667</td><td>-30.225555</td><td>0.50002956</td><td>1689.0</td><td>1591.7136</td><td>0.9424</td><td>175921691.0</td><td>175923380.0</td><td>2006-07-30</td><td>03:09:15.184</td><td>2006-07-30</td><td>03:37:24.184</td><td>4</td><td>1,2,3,4</td><td>0</td><td>1.0131593</td><td>7190</td><td>PKS 2155-304 (flare)</td><td>pks2155_flare</td><td>0.5002569</td><td>0.53703177</td><td>100.0</td></tr>\n",
       "<tr><td>33801</td><td>330.29538</td><td>-30.225555</td><td>17.818897</td><td>-52.742733</td><td>46.83791</td><td>43.16209</td><td>250.0</td><td>PKS 2155-304</td><td>329.71667</td><td>-30.225555</td><td>0.50002956</td><td>1689.0</td><td>1598.6652</td><td>0.9465158</td><td>175923515.0</td><td>175925204.0</td><td>2006-07-30</td><td>03:39:39.184</td><td>2006-07-30</td><td>04:07:48.184</td><td>4</td><td>1,2,3,4</td><td>0</td><td>1.0301999</td><td>6761</td><td>PKS 2155-304 (flare)</td><td>pks2155_flare</td><td>0.4998021</td><td>0.8128305</td><td>100.0</td></tr>\n",
       "</table></div>"
      ],
      "text/plain": [
       "<ObservationTable length=15>\n",
       "OBS_ID   RA_PNT   DEC_PNT    GLON_PNT  GLAT_PNT   ZEN_PNT  ... EVENT_COUNT     TARGET_NAME        TARGET_TAG  TARGET_OFFSET SAFE_ENERGY_LO SAFE_ENERGY_HI\n",
       "          deg       deg        deg       deg        deg    ...                                                     deg           TeV            TeV      \n",
       "int64   float32   float32    float32   float32    float32  ...    int64          bytes21           bytes14       float32       float32        float32    \n",
       "------ --------- ---------- --------- ---------- --------- ... ----------- -------------------- ------------- ------------- -------------- --------------\n",
       " 33787 329.71667 -29.725555 18.541153 -52.188046  50.42014 ...        7176 PKS 2155-304 (flare) pks2155_flare      0.500033      1.0715193          100.0\n",
       " 33788 329.13797 -30.225555 17.639944 -51.748703 43.876087 ...        8295 PKS 2155-304 (flare) pks2155_flare     0.5002569     0.70794576          100.0\n",
       " 33789 330.29538 -30.225555 17.818897 -52.742733 37.320198 ...       10014 PKS 2155-304 (flare) pks2155_flare     0.4998021     0.53703177          100.0\n",
       " 33790 329.71667 -30.725555 16.917807 -52.297615  30.75443 ...       10624 PKS 2155-304 (flare) pks2155_flare    0.49996707     0.40738028          100.0\n",
       " 33791 329.71667 -29.725555 18.541153 -52.188046  24.24126 ...       10763 PKS 2155-304 (flare) pks2155_flare      0.500033     0.33113113          100.0\n",
       " 33792 329.13797 -30.225555 17.639944 -51.748703 17.864033 ...       10926 PKS 2155-304 (flare) pks2155_flare     0.5002569     0.30902955          100.0\n",
       " 33793 330.29538 -30.225555 17.818897 -52.742733 11.910335 ...       10781 PKS 2155-304 (flare) pks2155_flare     0.4998021     0.28840315          100.0\n",
       " 33794 329.71667 -30.725555 16.917807 -52.297615  7.234592 ...       11024 PKS 2155-304 (flare) pks2155_flare    0.49996707     0.25118864          100.0\n",
       " 33795 329.71667 -29.725555 18.541153 -52.188046  9.155867 ...       10589 PKS 2155-304 (flare) pks2155_flare      0.500033     0.25118864          100.0\n",
       " 33796 329.13797 -30.225555 17.639944 -51.748703  14.41577 ...       10672 PKS 2155-304 (flare) pks2155_flare     0.5002569     0.28840315          100.0\n",
       " 33797 330.29538 -30.225555 17.818897 -52.742733 20.622698 ...        9853 PKS 2155-304 (flare) pks2155_flare     0.4998021     0.30902955          100.0\n",
       " 33798 329.71667 -30.725555 16.917807 -52.297615 27.104174 ...        8986 PKS 2155-304 (flare) pks2155_flare    0.49996707      0.3801894          100.0\n",
       " 33799 329.71667 -29.725555 18.541153 -52.188046 33.710506 ...        8061 PKS 2155-304 (flare) pks2155_flare      0.500033     0.43651584          100.0\n",
       " 33800 329.13797 -30.225555 17.639944 -51.748703 40.261627 ...        7190 PKS 2155-304 (flare) pks2155_flare     0.5002569     0.53703177          100.0\n",
       " 33801 330.29538 -30.225555 17.818897 -52.742733  46.83791 ...        6761 PKS 2155-304 (flare) pks2155_flare     0.4998021      0.8128305          100.0"
      ]
     },
     "execution_count": 16,
     "metadata": {},
     "output_type": "execute_result"
    }
   ],
   "source": [
    "obs_table"
   ]
  },
  {
   "cell_type": "code",
   "execution_count": 17,
   "id": "dfd9d39d-117b-401e-9da3-6c00be38bd45",
   "metadata": {},
   "outputs": [
    {
     "data": {
      "text/plain": [
       "15"
      ]
     },
     "execution_count": 17,
     "metadata": {},
     "output_type": "execute_result"
    }
   ],
   "source": [
    "len(obs_table)"
   ]
  },
  {
   "cell_type": "markdown",
   "id": "c1c0807d-56ba-4d66-882c-5013e6ec9fec",
   "metadata": {},
   "source": [
    "Get the observations"
   ]
  },
  {
   "cell_type": "code",
   "execution_count": 18,
   "id": "7a08b8c7-c5ab-4b63-93ef-f1e91e3ae9d2",
   "metadata": {},
   "outputs": [],
   "source": [
    "observations = "
   ]
  },
  {
   "cell_type": "code",
   "execution_count": 19,
   "id": "a445d230-1181-42f8-b035-f76545c6fefa",
   "metadata": {
    "scrolled": true
   },
   "outputs": [
    {
     "name": "stdout",
     "output_type": "stream",
     "text": [
      "Observations\n",
      "Number of observations: 15\n",
      "Observation\n",
      "\n",
      "\tobs id            : 33787 \n",
      " \ttstart            : 53945.85\n",
      "\ttstop             : 53945.87\n",
      "\tduration          : 1689.00 s\n",
      "\tpointing (icrs)   : 329.7 deg, -29.7 deg\n",
      "\n",
      "\tdeadtime fraction : 2.5%\n",
      "Observation\n",
      "\n",
      "\tobs id            : 33788 \n",
      " \ttstart            : 53945.87\n",
      "\ttstop             : 53945.89\n",
      "\tduration          : 1689.00 s\n",
      "\tpointing (icrs)   : 329.1 deg, -30.2 deg\n",
      "\n",
      "\tdeadtime fraction : 5.5%\n",
      "Observation\n",
      "\n",
      "\tobs id            : 33789 \n",
      " \ttstart            : 53945.89\n",
      "\ttstop             : 53945.91\n",
      "\tduration          : 1688.00 s\n",
      "\tpointing (icrs)   : 330.3 deg, -30.2 deg\n",
      "\n",
      "\tdeadtime fraction : 6.2%\n",
      "Observation\n",
      "\n",
      "\tobs id            : 33790 \n",
      " \ttstart            : 53945.91\n",
      "\ttstop             : 53945.93\n",
      "\tduration          : 1690.00 s\n",
      "\tpointing (icrs)   : 329.7 deg, -30.7 deg\n",
      "\n",
      "\tdeadtime fraction : 7.6%\n",
      "Observation\n",
      "\n",
      "\tobs id            : 33791 \n",
      " \ttstart            : 53945.94\n",
      "\ttstop             : 53945.95\n",
      "\tduration          : 1689.00 s\n",
      "\tpointing (icrs)   : 329.7 deg, -29.7 deg\n",
      "\n",
      "\tdeadtime fraction : 7.2%\n",
      "Observation\n",
      "\n",
      "\tobs id            : 33792 \n",
      " \ttstart            : 53945.96\n",
      "\ttstop             : 53945.98\n",
      "\tduration          : 1688.00 s\n",
      "\tpointing (icrs)   : 329.1 deg, -30.2 deg\n",
      "\n",
      "\tdeadtime fraction : 7.4%\n",
      "Observation\n",
      "\n",
      "\tobs id            : 33793 \n",
      " \ttstart            : 53945.98\n",
      "\ttstop             : 53946.00\n",
      "\tduration          : 1689.00 s\n",
      "\tpointing (icrs)   : 330.3 deg, -30.2 deg\n",
      "\n",
      "\tdeadtime fraction : 7.2%\n",
      "Observation\n",
      "\n",
      "\tobs id            : 33794 \n",
      " \ttstart            : 53946.00\n",
      "\ttstop             : 53946.02\n",
      "\tduration          : 1688.00 s\n",
      "\tpointing (icrs)   : 329.7 deg, -30.7 deg\n",
      "\n",
      "\tdeadtime fraction : 7.3%\n",
      "Observation\n",
      "\n",
      "\tobs id            : 33795 \n",
      " \ttstart            : 53946.03\n",
      "\ttstop             : 53946.05\n",
      "\tduration          : 1689.00 s\n",
      "\tpointing (icrs)   : 329.7 deg, -29.7 deg\n",
      "\n",
      "\tdeadtime fraction : 7.5%\n",
      "Observation\n",
      "\n",
      "\tobs id            : 33796 \n",
      " \ttstart            : 53946.05\n",
      "\ttstop             : 53946.07\n",
      "\tduration          : 1689.00 s\n",
      "\tpointing (icrs)   : 329.1 deg, -30.2 deg\n",
      "\n",
      "\tdeadtime fraction : 7.4%\n",
      "Observation\n",
      "\n",
      "\tobs id            : 33797 \n",
      " \ttstart            : 53946.07\n",
      "\ttstop             : 53946.09\n",
      "\tduration          : 1689.00 s\n",
      "\tpointing (icrs)   : 330.3 deg, -30.2 deg\n",
      "\n",
      "\tdeadtime fraction : 7.2%\n",
      "Observation\n",
      "\n",
      "\tobs id            : 33798 \n",
      " \ttstart            : 53946.09\n",
      "\ttstop             : 53946.11\n",
      "\tduration          : 1689.00 s\n",
      "\tpointing (icrs)   : 329.7 deg, -30.7 deg\n",
      "\n",
      "\tdeadtime fraction : 6.9%\n",
      "Observation\n",
      "\n",
      "\tobs id            : 33799 \n",
      " \ttstart            : 53946.11\n",
      "\ttstop             : 53946.13\n",
      "\tduration          : 1689.00 s\n",
      "\tpointing (icrs)   : 329.7 deg, -29.7 deg\n",
      "\n",
      "\tdeadtime fraction : 6.4%\n",
      "Observation\n",
      "\n",
      "\tobs id            : 33800 \n",
      " \ttstart            : 53946.13\n",
      "\ttstop             : 53946.15\n",
      "\tduration          : 1689.00 s\n",
      "\tpointing (icrs)   : 329.1 deg, -30.2 deg\n",
      "\n",
      "\tdeadtime fraction : 5.8%\n",
      "Observation\n",
      "\n",
      "\tobs id            : 33801 \n",
      " \ttstart            : 53946.15\n",
      "\ttstop             : 53946.17\n",
      "\tduration          : 1689.00 s\n",
      "\tpointing (icrs)   : 330.3 deg, -30.2 deg\n",
      "\n",
      "\tdeadtime fraction : 5.3%\n",
      "\n"
     ]
    }
   ],
   "source": [
    "print(observations)"
   ]
  },
  {
   "cell_type": "markdown",
   "id": "7826a07d-db7b-4ec6-bd74-d0308851cc7c",
   "metadata": {},
   "source": [
    "Data reduction loop"
   ]
  },
  {
   "cell_type": "code",
   "execution_count": 22,
   "id": "fa77509b-6232-4863-b714-d3a803344203",
   "metadata": {},
   "outputs": [],
   "source": [
    "on_region = CircleSkyRegion(target_pos, 0.1*u.deg)"
   ]
  },
  {
   "cell_type": "code",
   "execution_count": 26,
   "id": "2948b1ca-92f4-4929-ad43-b44cd255c6d9",
   "metadata": {},
   "outputs": [],
   "source": [
    "energy_axis = MapAxis.from_energy_bounds(\n",
    "    0.1, 40, nbin=10, per_decade=True, unit=\"TeV\", name=\"energy\"\n",
    ")\n",
    "energy_axis_true = MapAxis.from_energy_bounds(\n",
    "    0.05, 100, nbin=20, per_decade=True, unit=\"TeV\", name=\"energy_true\"\n",
    ")\n",
    "\n",
    "geom = RegionGeom.create(region=on_region, axes=[energy_axis])\n",
    "dataset_empty = SpectrumDataset.create(geom=geom, energy_axis_true=energy_axis_true)\n",
    "\n",
    "dataset_maker = SpectrumDatasetMaker(\n",
    "    containment_correction=True, selection=[\"counts\", \"exposure\", \"edisp\"]\n",
    ")\n",
    "bkg_maker = ReflectedRegionsBackgroundMaker()\n",
    "safe_mask_masker = SafeMaskMaker(methods=[\"aeff-max\"], aeff_percent=10)"
   ]
  },
  {
   "cell_type": "code",
   "execution_count": 31,
   "id": "60470d28-794a-4648-bbd2-15f255581c85",
   "metadata": {
    "scrolled": true
   },
   "outputs": [
    {
     "name": "stdout",
     "output_type": "stream",
     "text": [
      "Datasets\n",
      "--------\n",
      "\n",
      "Dataset 0: \n",
      "\n",
      "  Type       : SpectrumDatasetOnOff\n",
      "  Name       : 33787\n",
      "  Instrument : HESS\n",
      "  Models     : \n",
      "\n",
      "Dataset 1: \n",
      "\n",
      "  Type       : SpectrumDatasetOnOff\n",
      "  Name       : 33788\n",
      "  Instrument : HESS\n",
      "  Models     : \n",
      "\n",
      "Dataset 2: \n",
      "\n",
      "  Type       : SpectrumDatasetOnOff\n",
      "  Name       : 33789\n",
      "  Instrument : HESS\n",
      "  Models     : \n",
      "\n",
      "Dataset 3: \n",
      "\n",
      "  Type       : SpectrumDatasetOnOff\n",
      "  Name       : 33790\n",
      "  Instrument : HESS\n",
      "  Models     : \n",
      "\n",
      "Dataset 4: \n",
      "\n",
      "  Type       : SpectrumDatasetOnOff\n",
      "  Name       : 33791\n",
      "  Instrument : HESS\n",
      "  Models     : \n",
      "\n",
      "Dataset 5: \n",
      "\n",
      "  Type       : SpectrumDatasetOnOff\n",
      "  Name       : 33792\n",
      "  Instrument : HESS\n",
      "  Models     : \n",
      "\n",
      "Dataset 6: \n",
      "\n",
      "  Type       : SpectrumDatasetOnOff\n",
      "  Name       : 33793\n",
      "  Instrument : HESS\n",
      "  Models     : \n",
      "\n",
      "Dataset 7: \n",
      "\n",
      "  Type       : SpectrumDatasetOnOff\n",
      "  Name       : 33794\n",
      "  Instrument : HESS\n",
      "  Models     : \n",
      "\n",
      "Dataset 8: \n",
      "\n",
      "  Type       : SpectrumDatasetOnOff\n",
      "  Name       : 33795\n",
      "  Instrument : HESS\n",
      "  Models     : \n",
      "\n",
      "Dataset 9: \n",
      "\n",
      "  Type       : SpectrumDatasetOnOff\n",
      "  Name       : 33796\n",
      "  Instrument : HESS\n",
      "  Models     : \n",
      "\n",
      "Dataset 10: \n",
      "\n",
      "  Type       : SpectrumDatasetOnOff\n",
      "  Name       : 33797\n",
      "  Instrument : HESS\n",
      "  Models     : \n",
      "\n",
      "Dataset 11: \n",
      "\n",
      "  Type       : SpectrumDatasetOnOff\n",
      "  Name       : 33798\n",
      "  Instrument : HESS\n",
      "  Models     : \n",
      "\n",
      "Dataset 12: \n",
      "\n",
      "  Type       : SpectrumDatasetOnOff\n",
      "  Name       : 33799\n",
      "  Instrument : HESS\n",
      "  Models     : \n",
      "\n",
      "Dataset 13: \n",
      "\n",
      "  Type       : SpectrumDatasetOnOff\n",
      "  Name       : 33800\n",
      "  Instrument : HESS\n",
      "  Models     : \n",
      "\n",
      "Dataset 14: \n",
      "\n",
      "  Type       : SpectrumDatasetOnOff\n",
      "  Name       : 33801\n",
      "  Instrument : HESS\n",
      "  Models     : \n",
      "\n",
      "\n"
     ]
    }
   ],
   "source": [
    "obs_ids = observations.ids\n",
    "datasets = Datasets()\n",
    "\n",
    "for obs_id, observation in zip(obs_ids, observations):\n",
    "    dataset = dataset_maker.run(dataset_empty.copy(name=str(obs_id)), observation)\n",
    "    dataset_on_off = bkg_maker.run(dataset, observation)\n",
    "    dataset_on_off = safe_mask_masker.run(dataset_on_off, observation)\n",
    "    datasets.append(dataset_on_off)\n",
    "\n",
    "print(datasets)"
   ]
  },
  {
   "cell_type": "markdown",
   "id": "7bfd5b22-5323-4dc7-b95f-e432aefc5950",
   "metadata": {},
   "source": [
    "Stack the dataset using `stack_reduce`"
   ]
  },
  {
   "cell_type": "markdown",
   "id": "032d961c-5965-4fa5-aa0b-03bd56922243",
   "metadata": {},
   "source": [
    "## Fermi-LAT"
   ]
  },
  {
   "cell_type": "markdown",
   "id": "161c7e1c-6056-49fd-8e22-1d6f7c10d04c",
   "metadata": {},
   "source": [
    "Read the events using `EventList.read`. Fermi-LAT events are stored in the file \"ft1_00.fits\""
   ]
  },
  {
   "cell_type": "code",
   "execution_count": 95,
   "id": "8d294d3a-b6d7-48c6-8b0a-7daf10e46a20",
   "metadata": {},
   "outputs": [],
   "source": [
    "events = "
   ]
  },
  {
   "cell_type": "code",
   "execution_count": 96,
   "id": "39186308-ebcc-481f-8faa-da324ac7c911",
   "metadata": {},
   "outputs": [
    {
     "name": "stdout",
     "output_type": "stream",
     "text": [
      "EventList\n",
      "---------\n",
      "\n",
      "  Instrument       : LAT\n",
      "  Telescope        : GLAST\n",
      "  Obs. ID          : \n",
      "\n",
      "  Number of events : 630\n",
      "  Event rate       : 0.001 1 / s\n",
      "\n",
      "  Time start       : 54704.000754444445\n",
      "  Time stop        : 54715.000754444445\n",
      "\n",
      "  Min. energy      : 2.00e+02 MeV\n",
      "  Max. energy      : 4.19e+04 MeV\n",
      "  Median energy    : 4.10e+02 MeV\n",
      "\n",
      "\n"
     ]
    }
   ],
   "source": [
    "print(events)"
   ]
  },
  {
   "cell_type": "code",
   "execution_count": 97,
   "id": "7fe2355b-8ba4-4db2-9aa8-00090a1dd46c",
   "metadata": {
    "scrolled": true
   },
   "outputs": [
    {
     "data": {
      "text/html": [
       "<div><i>Table length=630</i>\n",
       "<table id=\"table6370589856\" class=\"table-striped table-bordered table-condensed\">\n",
       "<thead><tr><th>ENERGY</th><th>RA</th><th>DEC</th><th>L</th><th>B</th><th>THETA</th><th>PHI</th><th>ZENITH_ANGLE</th><th>EARTH_AZIMUTH_ANGLE</th><th>TIME</th><th>EVENT_ID</th><th>RUN_ID</th><th>RECON_VERSION</th><th>CALIB_VERSION</th><th>EVENT_CLASS</th><th>EVENT_TYPE</th><th>CONVERSION_TYPE</th><th>LIVETIME</th><th>DIFRSP0</th><th>DIFRSP1</th><th>DIFRSP2</th><th>DIFRSP3</th><th>DIFRSP4</th></tr></thead>\n",
       "<thead><tr><th>MeV</th><th>deg</th><th>deg</th><th>deg</th><th>deg</th><th>deg</th><th>deg</th><th>deg</th><th>deg</th><th>s</th><th></th><th></th><th></th><th></th><th></th><th></th><th></th><th>s</th><th></th><th></th><th></th><th></th><th></th></tr></thead>\n",
       "<thead><tr><th>float32</th><th>float32</th><th>float32</th><th>float32</th><th>float32</th><th>float32</th><th>float32</th><th>float32</th><th>float32</th><th>float64</th><th>int32</th><th>int32</th><th>int16</th><th>int16[3]</th><th>bool[32]</th><th>bool[32]</th><th>int16</th><th>float64</th><th>float32</th><th>float32</th><th>float32</th><th>float32</th><th>float32</th></tr></thead>\n",
       "<tr><td>858.8792</td><td>333.12192</td><td>-23.725653</td><td>29.30648</td><td>-54.097145</td><td>32.316307</td><td>165.16573</td><td>28.091183</td><td>142.64781</td><td>241987438.68640068</td><td>6892216</td><td>241984516</td><td>0</td><td>0 .. 0</td><td>False .. True</td><td>False .. True</td><td>0</td><td>53.597787618637085</td><td>0.0</td><td>0.0</td><td>0.0</td><td>0.0</td><td>0.0</td></tr>\n",
       "<tr><td>207.45532</td><td>335.7745</td><td>-25.522879</td><td>27.13889</td><td>-56.842373</td><td>6.618401</td><td>178.26152</td><td>29.350693</td><td>211.9563</td><td>241483233.77777222</td><td>7326845</td><td>241480337</td><td>0</td><td>0 .. 0</td><td>False .. True</td><td>False .. True</td><td>0</td><td>136.37941387295723</td><td>0.0</td><td>0.0</td><td>0.0</td><td>0.0</td><td>0.0</td></tr>\n",
       "<tr><td>1338.4224</td><td>335.38297</td><td>-25.015612</td><td>27.913506</td><td>-56.393997</td><td>68.472374</td><td>193.81874</td><td>40.977856</td><td>249.03566</td><td>241569726.79866385</td><td>8659744</td><td>241566277</td><td>0</td><td>0 .. 0</td><td>False .. True</td><td>False .. False</td><td>1</td><td>156.76379770040512</td><td>0.0</td><td>0.0</td><td>0.0</td><td>0.0</td><td>0.0</td></tr>\n",
       "<tr><td>423.0177</td><td>336.52</td><td>-26.02873</td><td>26.450539</td><td>-57.595818</td><td>63.952934</td><td>190.00992</td><td>75.32312</td><td>247.80884</td><td>241644968.32224396</td><td>9617589</td><td>241640759</td><td>0</td><td>0 .. 0</td><td>False .. True</td><td>False .. True</td><td>0</td><td>18.317135006189346</td><td>0.0</td><td>0.0</td><td>0.0</td><td>0.0</td><td>0.0</td></tr>\n",
       "<tr><td>441.5131</td><td>334.59448</td><td>-24.430859</td><td>28.658962</td><td>-55.56878</td><td>32.967598</td><td>155.95055</td><td>40.474422</td><td>149.15858</td><td>241677604.84197778</td><td>9754410</td><td>241673636</td><td>0</td><td>0 .. 0</td><td>False .. True</td><td>False .. True</td><td>0</td><td>176.95219510793686</td><td>0.0</td><td>0.0</td><td>0.0</td><td>0.0</td><td>0.0</td></tr>\n",
       "<tr><td>328.32962</td><td>336.67642</td><td>-27.343445</td><td>24.058662</td><td>-57.943592</td><td>24.567049</td><td>193.25214</td><td>29.658623</td><td>244.95168</td><td>241793273.66578913</td><td>6547029</td><td>241789698</td><td>0</td><td>0 .. 0</td><td>False .. True</td><td>False .. False</td><td>1</td><td>80.41369599103928</td><td>0.0</td><td>0.0</td><td>0.0</td><td>0.0</td><td>0.0</td></tr>\n",
       "<tr><td>274.10733</td><td>337.91675</td><td>-28.455286</td><td>22.201437</td><td>-59.16808</td><td>34.297943</td><td>194.11908</td><td>37.097027</td><td>252.28847</td><td>241896708.49176204</td><td>8128655</td><td>241892847</td><td>0</td><td>0 .. 0</td><td>False .. True</td><td>False .. True</td><td>0</td><td>74.81019324064255</td><td>0.0</td><td>0.0</td><td>0.0</td><td>0.0</td><td>0.0</td></tr>\n",
       "<tr><td>249.80746</td><td>336.89337</td><td>-27.177269</td><td>24.421429</td><td>-58.110657</td><td>28.124403</td><td>191.43874</td><td>21.876955</td><td>249.79276</td><td>242057032.97724077</td><td>6861554</td><td>242053458</td><td>0</td><td>0 .. 0</td><td>False .. True</td><td>False .. True</td><td>0</td><td>31.341847330331802</td><td>0.0</td><td>0.0</td><td>0.0</td><td>0.0</td><td>0.0</td></tr>\n",
       "<tr><td>314.88217</td><td>334.46893</td><td>-25.23583</td><td>27.223955</td><td>-55.629307</td><td>30.370913</td><td>168.41876</td><td>20.25265</td><td>142.38034</td><td>242125233.81383306</td><td>6390302</td><td>242121735</td><td>0</td><td>0 .. 0</td><td>False .. True</td><td>False .. True</td><td>0</td><td>136.93661352992058</td><td>0.0</td><td>0.0</td><td>0.0</td><td>0.0</td><td>0.0</td></tr>\n",
       "<tr><td>754.0505</td><td>336.93573</td><td>-26.611609</td><td>25.489822</td><td>-58.06159</td><td>62.257866</td><td>162.30391</td><td>62.734188</td><td>124.98488</td><td>242158980.0123883</td><td>6660969</td><td>242156394</td><td>0</td><td>0 .. 0</td><td>False .. True</td><td>False .. True</td><td>0</td><td>45.414435386657715</td><td>0.0</td><td>0.0</td><td>0.0</td><td>0.0</td><td>0.0</td></tr>\n",
       "<tr><td>1370.0417</td><td>337.3345</td><td>-27.114122</td><td>24.64865</td><td>-58.489883</td><td>52.33094</td><td>161.51376</td><td>50.151806</td><td>127.03012</td><td>242193603.20873362</td><td>7869495</td><td>242189758</td><td>0</td><td>0 .. 0</td><td>False .. True</td><td>False .. True</td><td>0</td><td>9.540999382734299</td><td>0.0</td><td>0.0</td><td>0.0</td><td>0.0</td><td>0.0</td></tr>\n",
       "<tr><td>232.45662</td><td>335.10794</td><td>-25.23211</td><td>27.439829</td><td>-56.194553</td><td>47.79653</td><td>198.43977</td><td>42.756145</td><td>259.7584</td><td>242217970.94909406</td><td>8086039</td><td>242213710</td><td>0</td><td>0 .. 0</td><td>False .. True</td><td>False .. True</td><td>0</td><td>188.38525369763374</td><td>0.0</td><td>0.0</td><td>0.0</td><td>0.0</td><td>0.0</td></tr>\n",
       "<tr><td>883.2509</td><td>335.00726</td><td>-25.671959</td><td>26.632591</td><td>-56.19201</td><td>33.866905</td><td>172.07185</td><td>19.316162</td><td>129.36882</td><td>242297297.28590402</td><td>6397482</td><td>242293731</td><td>0</td><td>0 .. 0</td><td>False .. True</td><td>False .. False</td><td>1</td><td>25.366034597158432</td><td>0.0</td><td>0.0</td><td>0.0</td><td>0.0</td><td>0.0</td></tr>\n",
       "<tr><td>206.73087</td><td>334.4318</td><td>-27.991196</td><td>22.376059</td><td>-56.064102</td><td>8.397062</td><td>107.72469</td><td>35.823505</td><td>190.54266</td><td>241402718.7528935</td><td>7190091</td><td>241400127</td><td>0</td><td>0 .. 0</td><td>False .. True</td><td>False .. True</td><td>0</td><td>99.11762806773186</td><td>0.0</td><td>0.0</td><td>0.0</td><td>0.0</td><td>0.0</td></tr>\n",
       "<tr><td>744.65594</td><td>331.18234</td><td>-34.365486</td><td>10.978659</td><td>-53.7166</td><td>18.61831</td><td>228.8136</td><td>46.14713</td><td>227.92775</td><td>241403251.19236973</td><td>8230191</td><td>241400127</td><td>0</td><td>0 .. 0</td><td>False .. True</td><td>False .. True</td><td>0</td><td>3.1669837534427643</td><td>0.0</td><td>0.0</td><td>0.0</td><td>0.0</td><td>0.0</td></tr>\n",
       "<tr><td>2692.8237</td><td>336.73566</td><td>-29.54908</td><td>19.921732</td><td>-58.23996</td><td>21.7774</td><td>203.31697</td><td>42.90051</td><td>236.50958</td><td>241403352.87401706</td><td>8443045</td><td>241400127</td><td>0</td><td>0 .. 0</td><td>False .. True</td><td>False .. False</td><td>1</td><td>104.8486310839653</td><td>0.0</td><td>0.0</td><td>0.0</td><td>0.0</td><td>0.0</td></tr>\n",
       "<tr><td>511.32986</td><td>335.93567</td><td>-29.933598</td><td>19.098886</td><td>-57.577217</td><td>30.567297</td><td>199.99602</td><td>49.957005</td><td>242.25726</td><td>241403520.83202904</td><td>8821350</td><td>241400127</td><td>0</td><td>0 .. 0</td><td>False .. True</td><td>False .. False</td><td>1</td><td>12.79656046628952</td><td>0.0</td><td>0.0</td><td>0.0</td><td>0.0</td><td>0.0</td></tr>\n",
       "<tr><td>926.24</td><td>334.0478</td><td>-24.85159</td><td>27.745285</td><td>-55.175888</td><td>43.856583</td><td>192.84245</td><td>59.35747</td><td>250.99481</td><td>241403691.25881</td><td>9252054</td><td>241400127</td><td>0</td><td>0 .. 0</td><td>False .. True</td><td>False .. True</td><td>0</td><td>183.22334143519402</td><td>0.0</td><td>0.0</td><td>0.0</td><td>0.0</td><td>0.0</td></tr>\n",
       "<tr><td>...</td><td>...</td><td>...</td><td>...</td><td>...</td><td>...</td><td>...</td><td>...</td><td>...</td><td>...</td><td>...</td><td>...</td><td>...</td><td>...</td><td>...</td><td>...</td><td>...</td><td>...</td><td>...</td><td>...</td><td>...</td><td>...</td><td>...</td></tr>\n",
       "<tr><td>428.40768</td><td>325.22787</td><td>-36.144855</td><td>8.043717</td><td>-48.875065</td><td>29.893513</td><td>219.47296</td><td>32.81748</td><td>241.27728</td><td>242309431.85985538</td><td>7516273</td><td>242305573</td><td>0</td><td>0 .. 0</td><td>False .. True</td><td>False .. True</td><td>0</td><td>159.72212681174278</td><td>0.0</td><td>0.0</td><td>0.0</td><td>0.0</td><td>0.0</td></tr>\n",
       "<tr><td>944.50195</td><td>324.3252</td><td>-31.084967</td><td>15.547353</td><td>-47.742565</td><td>39.46069</td><td>216.13867</td><td>38.996105</td><td>251.24992</td><td>242309535.4101046</td><td>7797524</td><td>242305573</td><td>0</td><td>0 .. 0</td><td>False .. True</td><td>False .. True</td><td>0</td><td>14.052450984716415</td><td>0.0</td><td>0.0</td><td>0.0</td><td>0.0</td><td>0.0</td></tr>\n",
       "<tr><td>439.22418</td><td>321.82355</td><td>-32.427784</td><td>13.214579</td><td>-45.79946</td><td>63.415302</td><td>142.38927</td><td>42.688137</td><td>138.84517</td><td>242314014.6879769</td><td>5793869</td><td>242310962</td><td>0</td><td>0 .. 0</td><td>False .. True</td><td>False .. False</td><td>1</td><td>64.72567781805992</td><td>0.0</td><td>0.0</td><td>0.0</td><td>0.0</td><td>0.0</td></tr>\n",
       "<tr><td>257.94324</td><td>329.67737</td><td>-30.26889</td><td>17.654541</td><td>-52.216854</td><td>53.22628</td><td>193.43652</td><td>29.838205</td><td>252.37863</td><td>242315192.30753008</td><td>8648162</td><td>242310962</td><td>0</td><td>0 .. 0</td><td>False .. True</td><td>False .. False</td><td>1</td><td>85.93255695700645</td><td>0.0</td><td>0.0</td><td>0.0</td><td>0.0</td><td>0.0</td></tr>\n",
       "<tr><td>1287.4843</td><td>329.12335</td><td>-30.751684</td><td>16.792902</td><td>-51.793083</td><td>43.587715</td><td>162.76878</td><td>42.027824</td><td>132.95224</td><td>242319830.1281699</td><td>6116781</td><td>242316814</td><td>0</td><td>0 .. 0</td><td>False .. True</td><td>False .. False</td><td>1</td><td>52.88844248652458</td><td>0.0</td><td>0.0</td><td>0.0</td><td>0.0</td><td>0.0</td></tr>\n",
       "<tr><td>471.93173</td><td>322.31998</td><td>-33.285435</td><td>12.053818</td><td>-46.30994</td><td>34.278023</td><td>162.77426</td><td>35.342693</td><td>143.52141</td><td>242319894.35840026</td><td>6225356</td><td>242316814</td><td>0</td><td>0 .. 0</td><td>False .. True</td><td>False .. False</td><td>1</td><td>117.1186728477478</td><td>0.0</td><td>0.0</td><td>0.0</td><td>0.0</td><td>0.0</td></tr>\n",
       "<tr><td>257.50098</td><td>328.53067</td><td>-35.141327</td><td>9.678699</td><td>-51.542698</td><td>34.201305</td><td>157.98196</td><td>35.22303</td><td>142.89493</td><td>242319986.84837145</td><td>6387172</td><td>242316814</td><td>0</td><td>0 .. 0</td><td>False .. True</td><td>False .. True</td><td>0</td><td>9.47662815451622</td><td>0.0</td><td>0.0</td><td>0.0</td><td>0.0</td><td>0.0</td></tr>\n",
       "<tr><td>243.7699</td><td>325.77466</td><td>-34.667797</td><td>10.320444</td><td>-49.269978</td><td>19.353607</td><td>181.21175</td><td>17.255634</td><td>180.70168</td><td>242320366.35919607</td><td>7187600</td><td>242316814</td><td>0</td><td>0 .. 0</td><td>False .. True</td><td>False .. False</td><td>1</td><td>85.68886706233025</td><td>0.0</td><td>0.0</td><td>0.0</td><td>0.0</td><td>0.0</td></tr>\n",
       "<tr><td>28505.465</td><td>329.80353</td><td>-30.261688</td><td>17.685568</td><td>-52.32439</td><td>24.413767</td><td>182.73943</td><td>12.177384</td><td>173.9568</td><td>242320403.30569768</td><td>7282599</td><td>242316814</td><td>0</td><td>0 .. 0</td><td>False .. True</td><td>False .. True</td><td>0</td><td>122.63536867499352</td><td>0.0</td><td>0.0</td><td>0.0</td><td>0.0</td><td>0.0</td></tr>\n",
       "<tr><td>562.97516</td><td>332.1553</td><td>-26.753523</td><td>23.95867</td><td>-53.874626</td><td>28.100346</td><td>184.73694</td><td>7.8224597</td><td>172.7768</td><td>242320446.6727629</td><td>7398916</td><td>242316814</td><td>0</td><td>0 .. 0</td><td>False .. True</td><td>False .. True</td><td>0</td><td>166.00243389606476</td><td>0.0</td><td>0.0</td><td>0.0</td><td>0.0</td><td>0.0</td></tr>\n",
       "<tr><td>11552.561</td><td>329.82196</td><td>-30.228086</td><td>17.743057</td><td>-52.336582</td><td>40.219303</td><td>209.09506</td><td>37.03044</td><td>252.99892</td><td>242321053.13134956</td><td>9522953</td><td>242316814</td><td>0</td><td>0 .. 0</td><td>False .. True</td><td>False .. True</td><td>0</td><td>55.30152189731598</td><td>0.0</td><td>0.0</td><td>0.0</td><td>0.0</td><td>0.0</td></tr>\n",
       "<tr><td>41856.78</td><td>329.85522</td><td>-28.677608</td><td>20.261726</td><td>-52.17001</td><td>44.509235</td><td>159.98396</td><td>9.583493</td><td>206.3634</td><td>242326240.03209487</td><td>8626561</td><td>242322543</td><td>0</td><td>0 .. 0</td><td>False .. True</td><td>False .. False</td><td>1</td><td>169.67967200279236</td><td>0.0</td><td>0.0</td><td>0.0</td><td>0.0</td><td>0.0</td></tr>\n",
       "<tr><td>1093.9216</td><td>324.3378</td><td>-35.333557</td><td>9.229983</td><td>-48.12518</td><td>39.030647</td><td>158.24738</td><td>42.019554</td><td>141.37984</td><td>242331289.8512754</td><td>7831141</td><td>242328273</td><td>0</td><td>0 .. 0</td><td>False .. True</td><td>False .. False</td><td>1</td><td>78.09494578838348</td><td>0.0</td><td>0.0</td><td>0.0</td><td>0.0</td><td>0.0</td></tr>\n",
       "<tr><td>252.42294</td><td>322.08115</td><td>-31.012615</td><td>15.268807</td><td>-45.828163</td><td>24.703724</td><td>177.8516</td><td>19.41203</td><td>157.75403</td><td>242331635.93711114</td><td>8544143</td><td>242328273</td><td>0</td><td>0 .. 0</td><td>False .. True</td><td>False .. True</td><td>0</td><td>150.529443025589</td><td>0.0</td><td>0.0</td><td>0.0</td><td>0.0</td><td>0.0</td></tr>\n",
       "<tr><td>1161.11</td><td>323.30505</td><td>-29.907675</td><td>17.078785</td><td>-46.704723</td><td>29.525393</td><td>215.07935</td><td>24.101559</td><td>248.95657</td><td>242332199.97112674</td><td>10218297</td><td>242328273</td><td>0</td><td>0 .. 0</td><td>False .. True</td><td>False .. False</td><td>1</td><td>68.33830544352531</td><td>0.0</td><td>0.0</td><td>0.0</td><td>0.0</td><td>0.0</td></tr>\n",
       "<tr><td>319.83582</td><td>330.8703</td><td>-28.02634</td><td>21.538267</td><td>-52.957455</td><td>53.6726</td><td>205.81276</td><td>51.60325</td><td>252.93864</td><td>242332775.2312247</td><td>12650640</td><td>242328273</td><td>0</td><td>0 .. 0</td><td>False .. True</td><td>False .. False</td><td>1</td><td>141.3326960504055</td><td>0.0</td><td>0.0</td><td>0.0</td><td>0.0</td><td>0.0</td></tr>\n",
       "<tr><td>324.56223</td><td>327.8386</td><td>-33.089596</td><td>12.919846</td><td>-50.89646</td><td>59.58612</td><td>197.80615</td><td>38.123245</td><td>248.26927</td><td>242338251.75897336</td><td>12025978</td><td>242334002</td><td>0</td><td>0 .. 0</td><td>False .. True</td><td>False .. True</td><td>0</td><td>89.53624632954597</td><td>0.0</td><td>0.0</td><td>0.0</td><td>0.0</td><td>0.0</td></tr>\n",
       "<tr><td>402.5261</td><td>325.39294</td><td>-25.074514</td><td>24.581823</td><td>-47.578033</td><td>36.04898</td><td>210.42683</td><td>25.42353</td><td>262.26508</td><td>242343731.23630464</td><td>1467434</td><td>242343328</td><td>0</td><td>0 .. 0</td><td>False .. True</td><td>False .. True</td><td>0</td><td>23.556975781917572</td><td>0.0</td><td>0.0</td><td>0.0</td><td>0.0</td><td>0.0</td></tr>\n",
       "<tr><td>940.2035</td><td>323.60556</td><td>-33.779934</td><td>11.478867</td><td>-47.422756</td><td>72.77939</td><td>199.25412</td><td>56.732426</td><td>244.54274</td><td>242349981.47031015</td><td>1471548</td><td>242349642</td><td>0</td><td>0 .. 0</td><td>False .. True</td><td>False .. False</td><td>1</td><td>139.71638682484627</td><td>0.0</td><td>0.0</td><td>0.0</td><td>0.0</td><td>0.0</td></tr>\n",
       "</table></div>"
      ],
      "text/plain": [
       "<Table length=630>\n",
       "  ENERGY      RA       DEC         L         B        THETA      PHI    ... CONVERSION_TYPE      LIVETIME      DIFRSP0 DIFRSP1 DIFRSP2 DIFRSP3 DIFRSP4\n",
       "   MeV       deg       deg        deg       deg        deg       deg    ...                         s                                                 \n",
       " float32   float32   float32    float32   float32    float32   float32  ...      int16           float64       float32 float32 float32 float32 float32\n",
       "--------- --------- ---------- --------- ---------- --------- --------- ... --------------- ------------------ ------- ------- ------- ------- -------\n",
       " 858.8792 333.12192 -23.725653  29.30648 -54.097145 32.316307 165.16573 ...               0 53.597787618637085     0.0     0.0     0.0     0.0     0.0\n",
       "207.45532  335.7745 -25.522879  27.13889 -56.842373  6.618401 178.26152 ...               0 136.37941387295723     0.0     0.0     0.0     0.0     0.0\n",
       "1338.4224 335.38297 -25.015612 27.913506 -56.393997 68.472374 193.81874 ...               1 156.76379770040512     0.0     0.0     0.0     0.0     0.0\n",
       " 423.0177    336.52  -26.02873 26.450539 -57.595818 63.952934 190.00992 ...               0 18.317135006189346     0.0     0.0     0.0     0.0     0.0\n",
       " 441.5131 334.59448 -24.430859 28.658962  -55.56878 32.967598 155.95055 ...               0 176.95219510793686     0.0     0.0     0.0     0.0     0.0\n",
       "328.32962 336.67642 -27.343445 24.058662 -57.943592 24.567049 193.25214 ...               1  80.41369599103928     0.0     0.0     0.0     0.0     0.0\n",
       "274.10733 337.91675 -28.455286 22.201437  -59.16808 34.297943 194.11908 ...               0  74.81019324064255     0.0     0.0     0.0     0.0     0.0\n",
       "249.80746 336.89337 -27.177269 24.421429 -58.110657 28.124403 191.43874 ...               0 31.341847330331802     0.0     0.0     0.0     0.0     0.0\n",
       "314.88217 334.46893  -25.23583 27.223955 -55.629307 30.370913 168.41876 ...               0 136.93661352992058     0.0     0.0     0.0     0.0     0.0\n",
       " 754.0505 336.93573 -26.611609 25.489822  -58.06159 62.257866 162.30391 ...               0 45.414435386657715     0.0     0.0     0.0     0.0     0.0\n",
       "1370.0417  337.3345 -27.114122  24.64865 -58.489883  52.33094 161.51376 ...               0  9.540999382734299     0.0     0.0     0.0     0.0     0.0\n",
       "232.45662 335.10794  -25.23211 27.439829 -56.194553  47.79653 198.43977 ...               0 188.38525369763374     0.0     0.0     0.0     0.0     0.0\n",
       " 883.2509 335.00726 -25.671959 26.632591  -56.19201 33.866905 172.07185 ...               1 25.366034597158432     0.0     0.0     0.0     0.0     0.0\n",
       "206.73087  334.4318 -27.991196 22.376059 -56.064102  8.397062 107.72469 ...               0  99.11762806773186     0.0     0.0     0.0     0.0     0.0\n",
       "744.65594 331.18234 -34.365486 10.978659   -53.7166  18.61831  228.8136 ...               0 3.1669837534427643     0.0     0.0     0.0     0.0     0.0\n",
       "2692.8237 336.73566  -29.54908 19.921732  -58.23996   21.7774 203.31697 ...               1  104.8486310839653     0.0     0.0     0.0     0.0     0.0\n",
       "511.32986 335.93567 -29.933598 19.098886 -57.577217 30.567297 199.99602 ...               1  12.79656046628952     0.0     0.0     0.0     0.0     0.0\n",
       "   926.24  334.0478  -24.85159 27.745285 -55.175888 43.856583 192.84245 ...               0 183.22334143519402     0.0     0.0     0.0     0.0     0.0\n",
       "      ...       ...        ...       ...        ...       ...       ... ...             ...                ...     ...     ...     ...     ...     ...\n",
       "428.40768 325.22787 -36.144855  8.043717 -48.875065 29.893513 219.47296 ...               0 159.72212681174278     0.0     0.0     0.0     0.0     0.0\n",
       "944.50195  324.3252 -31.084967 15.547353 -47.742565  39.46069 216.13867 ...               0 14.052450984716415     0.0     0.0     0.0     0.0     0.0\n",
       "439.22418 321.82355 -32.427784 13.214579  -45.79946 63.415302 142.38927 ...               1  64.72567781805992     0.0     0.0     0.0     0.0     0.0\n",
       "257.94324 329.67737  -30.26889 17.654541 -52.216854  53.22628 193.43652 ...               1  85.93255695700645     0.0     0.0     0.0     0.0     0.0\n",
       "1287.4843 329.12335 -30.751684 16.792902 -51.793083 43.587715 162.76878 ...               1  52.88844248652458     0.0     0.0     0.0     0.0     0.0\n",
       "471.93173 322.31998 -33.285435 12.053818  -46.30994 34.278023 162.77426 ...               1  117.1186728477478     0.0     0.0     0.0     0.0     0.0\n",
       "257.50098 328.53067 -35.141327  9.678699 -51.542698 34.201305 157.98196 ...               0   9.47662815451622     0.0     0.0     0.0     0.0     0.0\n",
       " 243.7699 325.77466 -34.667797 10.320444 -49.269978 19.353607 181.21175 ...               1  85.68886706233025     0.0     0.0     0.0     0.0     0.0\n",
       "28505.465 329.80353 -30.261688 17.685568  -52.32439 24.413767 182.73943 ...               0 122.63536867499352     0.0     0.0     0.0     0.0     0.0\n",
       "562.97516  332.1553 -26.753523  23.95867 -53.874626 28.100346 184.73694 ...               0 166.00243389606476     0.0     0.0     0.0     0.0     0.0\n",
       "11552.561 329.82196 -30.228086 17.743057 -52.336582 40.219303 209.09506 ...               0  55.30152189731598     0.0     0.0     0.0     0.0     0.0\n",
       " 41856.78 329.85522 -28.677608 20.261726  -52.17001 44.509235 159.98396 ...               1 169.67967200279236     0.0     0.0     0.0     0.0     0.0\n",
       "1093.9216  324.3378 -35.333557  9.229983  -48.12518 39.030647 158.24738 ...               1  78.09494578838348     0.0     0.0     0.0     0.0     0.0\n",
       "252.42294 322.08115 -31.012615 15.268807 -45.828163 24.703724  177.8516 ...               0   150.529443025589     0.0     0.0     0.0     0.0     0.0\n",
       "  1161.11 323.30505 -29.907675 17.078785 -46.704723 29.525393 215.07935 ...               1  68.33830544352531     0.0     0.0     0.0     0.0     0.0\n",
       "319.83582  330.8703  -28.02634 21.538267 -52.957455   53.6726 205.81276 ...               1  141.3326960504055     0.0     0.0     0.0     0.0     0.0\n",
       "324.56223  327.8386 -33.089596 12.919846  -50.89646  59.58612 197.80615 ...               0  89.53624632954597     0.0     0.0     0.0     0.0     0.0\n",
       " 402.5261 325.39294 -25.074514 24.581823 -47.578033  36.04898 210.42683 ...               0 23.556975781917572     0.0     0.0     0.0     0.0     0.0\n",
       " 940.2035 323.60556 -33.779934 11.478867 -47.422756  72.77939 199.25412 ...               1 139.71638682484627     0.0     0.0     0.0     0.0     0.0"
      ]
     },
     "execution_count": 97,
     "metadata": {},
     "output_type": "execute_result"
    }
   ],
   "source": [
    "events.table"
   ]
  },
  {
   "cell_type": "code",
   "execution_count": 98,
   "id": "2e7312a7-bfad-4544-b243-db7c5192d7e5",
   "metadata": {},
   "outputs": [
    {
     "data": {
      "image/png": "[encoded data removed]",
      "text/plain": [
       "<Figure size 1200x800 with 5 Axes>"
      ]
     },
     "metadata": {},
     "output_type": "display_data"
    }
   ],
   "source": [
    "events.peek()"
   ]
  },
  {
   "cell_type": "markdown",
   "id": "0d12343b-c86d-4717-9145-ad5004cf1126",
   "metadata": {},
   "source": [
    "create an energy axis from 0.2 to 300 GeV with 8 bins"
   ]
  },
  {
   "cell_type": "code",
   "execution_count": 99,
   "id": "a0841e55-2c93-4420-a143-b5e771ca7936",
   "metadata": {},
   "outputs": [
    {
     "name": "stdout",
     "output_type": "stream",
     "text": [
      "MapAxis\n",
      "\n",
      "\tname       : energy    \n",
      "\tunit       : 'GeV'     \n",
      "\tnbins      : 8         \n",
      "\tnode type  : edges     \n",
      "\tedges min  : 2.0e-01 GeV\n",
      "\tedges max  : 3.0e+02 GeV\n",
      "\tinterp     : log       \n",
      "\n"
     ]
    }
   ],
   "source": [
    "energy_axis = \n",
    "print(energy_axis)"
   ]
  },
  {
   "cell_type": "markdown",
   "id": "3268fa75-f215-45de-9d28-3821763c5fd9",
   "metadata": {},
   "source": [
    "Create a WcsGeom with a width of 10deg and 0.1 deg per bin centered on the source position"
   ]
  },
  {
   "cell_type": "code",
   "execution_count": 102,
   "id": "c4b9b3d8-52d3-4aaa-9363-3faa1a747243",
   "metadata": {},
   "outputs": [
    {
     "name": "stdout",
     "output_type": "stream",
     "text": [
      "WcsGeom\n",
      "\n",
      "\taxes       : ['lon', 'lat', 'energy']\n",
      "\tshape      : (100, 100, 8)\n",
      "\tndim       : 3\n",
      "\tframe      : icrs\n",
      "\tprojection : TAN\n",
      "\tcenter     : 329.7 deg, -30.2 deg\n",
      "\twidth      : 10.0 deg x 10.0 deg\n",
      "\twcs ref    : 329.7 deg, -30.2 deg\n",
      "\n"
     ]
    }
   ],
   "source": [
    "geom = \n",
    "print(geom)"
   ]
  },
  {
   "cell_type": "markdown",
   "id": "6d040993-8eae-4fb3-9988-21efeb89739e",
   "metadata": {},
   "source": [
    "Create a counts map using this geometry"
   ]
  },
  {
   "cell_type": "code",
   "execution_count": 1,
   "id": "8921cf52-411f-4887-9ea7-23fa52b0b8f3",
   "metadata": {},
   "outputs": [
    {
     "ename": "SyntaxError",
     "evalue": "invalid syntax (2719592744.py, line 1)",
     "output_type": "error",
     "traceback": [
      "\u001b[0;36m  Cell \u001b[0;32mIn[1], line 1\u001b[0;36m\u001b[0m\n\u001b[0;31m    counts =\u001b[0m\n\u001b[0m             ^\u001b[0m\n\u001b[0;31mSyntaxError\u001b[0m\u001b[0;31m:\u001b[0m invalid syntax\n"
     ]
    }
   ],
   "source": [
    "counts = \n",
    "print(counts)"
   ]
  },
  {
   "cell_type": "markdown",
   "id": "0a67aaaa-c335-4628-9c0b-88038ba825a5",
   "metadata": {},
   "source": [
    "Fill the counts map with the event using `Map.fill_events`."
   ]
  },
  {
   "cell_type": "code",
   "execution_count": 106,
   "id": "7cee59c9-926b-4f83-aa15-8f6ecfad7613",
   "metadata": {},
   "outputs": [],
   "source": [
    "counts.fill_events(events)"
   ]
  },
  {
   "cell_type": "markdown",
   "id": "51f8bce7-a5cd-433a-8a94-855bbcded239",
   "metadata": {},
   "source": [
    "Read the exposure using a `Map.read`. The exposure is stored in 'bexpmap_roi_00.fits'."
   ]
  },
  {
   "cell_type": "code",
   "execution_count": 107,
   "id": "9052d67d-12c8-430f-ac45-678d77512468",
   "metadata": {},
   "outputs": [
    {
     "name": "stderr",
     "output_type": "stream",
     "text": [
      "/Users/mregeard/anaconda3/envs/gammapy-1.2/lib/python3.10/site-packages/astropy/wcs/wcs.py:539: FITSFixedWarning: RADECSYS= 'FK5 ' \n",
      "the RADECSYS keyword is deprecated, use RADESYSa.\n",
      "  wcsprm = _wcs.Wcsprm(\n",
      "/Users/mregeard/anaconda3/envs/gammapy-1.2/lib/python3.10/site-packages/astropy/wcs/wcs.py:807: FITSFixedWarning: 'datfix' made the change 'Set DATEREF to '2001-01-01T00:01:04.184' from MJDREF.\n",
      "Set MJD-OBS to 54704.000000 from DATE-OBS.\n",
      "Set MJD-END to 54715.000000 from DATE-END'.\n",
      "  warnings.warn(\n"
     ]
    }
   ],
   "source": [
    "exposure = "
   ]
  },
  {
   "cell_type": "code",
   "execution_count": 108,
   "id": "6353e039-5154-48fb-8eb1-cb2a053d6958",
   "metadata": {},
   "outputs": [
    {
     "name": "stdout",
     "output_type": "stream",
     "text": [
      "WcsNDMap\n",
      "\n",
      "\tgeom  : WcsGeom \n",
      " \taxes  : ['lon', 'lat', 'energy_true']\n",
      "\tshape : (100, 100, 14)\n",
      "\tndim  : 3\n",
      "\tunit  : cm2 s\n",
      "\tdtype : >f4\n",
      "\n"
     ]
    }
   ],
   "source": [
    "print(exposure)"
   ]
  },
  {
   "cell_type": "code",
   "execution_count": 109,
   "id": "9ae936d2-1aa9-4340-9fff-4922dff7dfae",
   "metadata": {},
   "outputs": [],
   "source": [
    "energy_true = exposure.geom.axes[\"energy_true\"]"
   ]
  },
  {
   "cell_type": "code",
   "execution_count": 110,
   "id": "776ddbba-fc71-4420-a691-d0a4724eb0d3",
   "metadata": {},
   "outputs": [],
   "source": [
    "irf_geom = WcsGeom(wcs=counts.geom.wcs, npix=counts.geom.npix, axes=[energy_true])"
   ]
  },
  {
   "cell_type": "code",
   "execution_count": 111,
   "id": "6f3753b7-c1d2-4591-b28c-fc0208609605",
   "metadata": {},
   "outputs": [
    {
     "name": "stdout",
     "output_type": "stream",
     "text": [
      "WcsNDMap\n",
      "\n",
      "\tgeom  : WcsGeom \n",
      " \taxes  : ['lon', 'lat', 'energy_true']\n",
      "\tshape : (100, 100, 14)\n",
      "\tndim  : 3\n",
      "\tunit  : cm2 s\n",
      "\tdtype : float64\n",
      "\n"
     ]
    }
   ],
   "source": [
    "exposure = exposure.interp_to_geom(irf_geom)\n",
    "print(exposure)"
   ]
  },
  {
   "cell_type": "code",
   "execution_count": 112,
   "id": "cec7dd34-cf06-4f0c-9737-e4784a892431",
   "metadata": {},
   "outputs": [
    {
     "data": {
      "text/plain": [
       "<WCSAxes: >"
      ]
     },
     "execution_count": 112,
     "metadata": {},
     "output_type": "execute_result"
    },
    {
     "data": {
      "image/png": "[encoded data removed]",
      "text/plain": [
       "<Figure size 640x480 with 2 Axes>"
      ]
     },
     "metadata": {},
     "output_type": "display_data"
    }
   ],
   "source": [
    "exposure.sum_over_axes().plot(add_cbar=True)"
   ]
  },
  {
   "cell_type": "markdown",
   "id": "38381523-cdf5-4fc9-a607-a99dd93f3285",
   "metadata": {},
   "source": [
    "Read the psf using `PSFMap.read`. The psf is stored in 'psf_00.fits'."
   ]
  },
  {
   "cell_type": "code",
   "execution_count": 116,
   "id": "a93cfab3-a625-40ee-9387-324b69f47698",
   "metadata": {},
   "outputs": [
    {
     "name": "stdout",
     "output_type": "stream",
     "text": [
      "RegionNDMap\n",
      "\n",
      "\tgeom  : RegionGeom \n",
      " \taxes  : ['lon', 'lat', 'rad', 'energy_true']\n",
      "\tshape : (1, 1, 200, 26)\n",
      "\tndim  : 4\n",
      "\tunit  : 1 / sr\n",
      "\tdtype : >f8\n",
      "\n"
     ]
    }
   ],
   "source": [
    "psf = \n",
    "print(psf)"
   ]
  },
  {
   "cell_type": "code",
   "execution_count": 117,
   "id": "3a0a3183-aa17-428e-a175-bec9025e00e1",
   "metadata": {},
   "outputs": [
    {
     "data": {
      "text/plain": [
       "<WCSAxes: >"
      ]
     },
     "execution_count": 117,
     "metadata": {},
     "output_type": "execute_result"
    },
    {
     "data": {
      "image/png": "[encoded data removed]",
      "text/plain": [
       "<Figure size 640x480 with 2 Axes>"
      ]
     },
     "metadata": {},
     "output_type": "display_data"
    }
   ],
   "source": [
    "psf_kernel = psf.get_psf_kernel(position=irf_geom.center_skydir,\n",
    "                               geom=irf_geom,\n",
    "                               max_radius=\"3 deg\")\n",
    "psf_kernel.psf_kernel_map.sum_over_axes().plot(stretch='log', add_cbar=True)"
   ]
  },
  {
   "cell_type": "markdown",
   "id": "895ff1c9-3469-4db3-825b-c8c22f410fbf",
   "metadata": {},
   "source": [
    "Create a diagonal energy dispersion matrix using `EDispKernelMap.from_diagonal_response`."
   ]
  },
  {
   "cell_type": "code",
   "execution_count": 119,
   "id": "05df15e4-3dcb-4b2d-b0df-ee83544badb9",
   "metadata": {},
   "outputs": [
    {
     "data": {
      "text/plain": [
       "<Axes: xlabel='True Energy [$\\\\mathrm{MeV}$]', ylabel='Energy [$\\\\mathrm{GeV}$]'>"
      ]
     },
     "execution_count": 119,
     "metadata": {},
     "output_type": "execute_result"
    },
    {
     "data": {
      "image/png": "[encoded data removed]",
      "text/plain": [
       "<Figure size 640x480 with 1 Axes>"
      ]
     },
     "metadata": {},
     "output_type": "display_data"
    }
   ],
   "source": [
    "edisp = \n",
    "edisp.get_edisp_kernel().plot_matrix()"
   ]
  },
  {
   "cell_type": "markdown",
   "id": "ae74e11e-4840-4b0a-a6be-323e0e1b6fc1",
   "metadata": {},
   "source": [
    "Create the fermi dataset by putting the counts and IRFs that we have created above into a `MapDataset`."
   ]
  },
  {
   "cell_type": "code",
   "execution_count": 123,
   "id": "381d6b68-2338-47ff-979a-0fd6aa1e6fc1",
   "metadata": {},
   "outputs": [],
   "source": [
    "fermi_dataset = "
   ]
  },
  {
   "cell_type": "markdown",
   "id": "191fc87d-af72-4289-87f8-796ccf791047",
   "metadata": {},
   "source": [
    "Now that we have our tow dataset, we can try to fit them together."
   ]
  },
  {
   "cell_type": "markdown",
   "id": "63ebe00d-11cb-4092-b3a3-4ed517dec293",
   "metadata": {},
   "source": [
    "First, we need to put them together in a `Datasets` object."
   ]
  },
  {
   "cell_type": "code",
   "execution_count": null,
   "id": "92d8e623-4ce6-4350-bbed-63848440f9d0",
   "metadata": {},
   "outputs": [],
   "source": [
    "datasets = "
   ]
  },
  {
   "cell_type": "markdown",
   "id": "42828217-910f-4f0b-85f0-2755572337ae",
   "metadata": {},
   "source": [
    "Then we also need two background model specific to Fermi:"
   ]
  },
  {
   "cell_type": "code",
   "execution_count": null,
   "id": "30a79f77-1663-43f7-a5c3-bd4a54945a5f",
   "metadata": {},
   "outputs": [],
   "source": [
    "diffuse_iso = create_fermi_isotropic_diffuse_model(\n",
    "    filename='iso_P8R3_SOURCE_V3_v1.txt'\n",
    ")\n",
    "diffuse_iso.datasets_names = fermi_dataset.name\n",
    "print(diffuse_iso)"
   ]
  },
  {
   "cell_type": "code",
   "execution_count": null,
   "id": "49834216-3d44-4427-b417-0e9a3274dcea",
   "metadata": {},
   "outputs": [],
   "source": [
    "diffuse_galactic_fermi = Map.read('gll_iem_v07.fits')\n",
    "\n",
    "template_diffuse = TemplateSpatialModel(diffuse_galactic_fermi, normalize=False)\n",
    "diffuse_iem = SkyModel(spectral_model=PowerLawNormSpectralModel(),\n",
    "                      spatial_model=template_diffuse,\n",
    "                      name='diffuse-iem')\n",
    "diffuse_iem.datasets_names = fermi_dataset.name"
   ]
  },
  {
   "cell_type": "markdown",
   "id": "3aae59d3-9248-47f9-9355-7c2efd556750",
   "metadata": {},
   "source": [
    "## Fitting the data:"
   ]
  },
  {
   "cell_type": "markdown",
   "id": "6cab9b70-ce73-4a51-a6af-ab0d690d5d76",
   "metadata": {},
   "source": [
    "Try to fit the data using an `ExpCutoffPowerLawSpectralModel`."
   ]
  },
  {
   "cell_type": "code",
   "execution_count": null,
   "id": "0eab3084-271c-4184-b4e9-db6ff2ffb42f",
   "metadata": {},
   "outputs": [],
   "source": []
  },
  {
   "cell_type": "code",
   "execution_count": null,
   "id": "38e415d2-ad7c-4b72-a486-e3520c66abbb",
   "metadata": {},
   "outputs": [],
   "source": []
  },
  {
   "cell_type": "markdown",
   "id": "7eef9d2b-af34-4100-932c-30f99aaf7e7e",
   "metadata": {},
   "source": [
    "If you fit is working, you can also refit the data accounting for the EBL by multiplying you spectral model by an EBL model."
   ]
  },
  {
   "cell_type": "code",
   "execution_count": null,
   "id": "8e9adc96-0915-479b-a2f6-7e525c16f93b",
   "metadata": {},
   "outputs": [],
   "source": [
    "abs_model = EBLAbsorptionNormSpectralModel.read_builtin()\n",
    "abs_model.redshift.value = 0.116\n",
    "source_model = SkyModel(spectral_model=spectral_model*abs_model, spatial_model=spatial_model,\n",
    "                      name='PKS 2155')"
   ]
  },
  {
   "cell_type": "markdown",
   "id": "e2bef56a-eb9d-416c-bf03-a59e5bee936d",
   "metadata": {},
   "source": [
    "Produce the SED and flux-points."
   ]
  },
  {
   "cell_type": "code",
   "execution_count": null,
   "id": "ca974244-d844-44ad-a6d5-f17ddcf1961d",
   "metadata": {},
   "outputs": [],
   "source": []
  }
 ],
 "metadata": {
  "kernelspec": {
   "display_name": "Python 3 (ipykernel)",
   "language": "python",
   "name": "python3"
  },
  "language_info": {
   "codemirror_mode": {
    "name": "ipython",
    "version": 3
   },
   "file_extension": ".py",
   "mimetype": "text/x-python",
   "name": "python",
   "nbconvert_exporter": "python",
   "pygments_lexer": "ipython3",
   "version": "3.10.13"
  }
 },
 "nbformat": 4,
 "nbformat_minor": 5
}
