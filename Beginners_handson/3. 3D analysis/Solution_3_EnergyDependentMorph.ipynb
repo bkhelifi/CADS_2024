{
 "cells": [
  {
   "cell_type": "markdown",
   "metadata": {},
   "source": [
    "### 9 - Does the source exhibit energy-dependent morphology? \n",
    "\n",
    "A dedicated estimator has been implemented to answer to this question, EnergyDependentMorphologyEstimator"
   ]
  },
  {
   "cell_type": "code",
   "execution_count": 1,
   "metadata": {},
   "outputs": [],
   "source": [
    "from astropy.coordinates import SkyCoord\n",
    "import astropy.units as u\n",
    "from astropy.table import Table\n",
    "import matplotlib.pyplot as plt\n",
    "\n",
    "from gammapy.maps import Map\n",
    "from gammapy.datasets import MapDataset, Datasets\n",
    "from gammapy.modeling.models import PowerLawSpectralModel, GaussianSpatialModel, SkyModel\n",
    "from gammapy.estimators import EnergyDependentMorphologyEstimator\n",
    "from gammapy.stats.utils import ts_to_sigma"
   ]
  },
  {
   "cell_type": "code",
   "execution_count": 2,
   "metadata": {},
   "outputs": [],
   "source": [
    "stacked_dataset = MapDataset.read(\"stacked_MapDataset.fits\")\n",
    "\n",
    "datasets = Datasets([stacked_dataset])"
   ]
  },
  {
   "cell_type": "markdown",
   "metadata": {},
   "source": [
    "Define the energy edges of interest. These will be utilised to investigate the potential of energy-dependent morphology in the dataset."
   ]
  },
  {
   "cell_type": "code",
   "execution_count": 3,
   "metadata": {},
   "outputs": [],
   "source": [
    "energy_edges=[0.4, 1.5, 20]*u.TeV"
   ]
  },
  {
   "cell_type": "markdown",
   "metadata": {},
   "source": [
    "Define the models to fit. The start values here are taken from the fit we did previously on the entire dataset.\n",
    "The `GaussianSpatialModel` allows us to test the energy-dependent morphology component in each energy band."
   ]
  },
  {
   "cell_type": "code",
   "execution_count": 4,
   "metadata": {},
   "outputs": [],
   "source": [
    "source_position = SkyCoord.from_name(\"RX J1713.7-3946\").galactic\n",
    "\n",
    "spectral_model = PowerLawSpectralModel(\n",
    "    index=1.913, amplitude=2.3e-12 * u.Unit(\"cm-2 s-1 TeV-1\"), reference=1.0 * u.TeV\n",
    ")\n",
    "\n",
    "spatial_model = GaussianSpatialModel(\n",
    "    lon_0=source_position.l,\n",
    "    lat_0=source_position.b,\n",
    "    frame=\"galactic\",\n",
    "    sigma=0.2 * u.deg,\n",
    ")\n",
    "\n",
    "# Limit the search for the position on the spatial model\n",
    "spatial_model.lon_0.min = source_position.galactic.l.deg - 0.8\n",
    "spatial_model.lon_0.max = source_position.galactic.l.deg + 0.8\n",
    "spatial_model.lat_0.min = source_position.galactic.b.deg - 0.8\n",
    "spatial_model.lat_0.max = source_position.galactic.b.deg + 0.8\n",
    "\n",
    "model = SkyModel(spatial_model=spatial_model, spectral_model=spectral_model, name=\"src\")"
   ]
  },
  {
   "cell_type": "markdown",
   "metadata": {},
   "source": [
    "Let’s start with the initial hypothesis, in which the source is introduced to compare with the background. "
   ]
  },
  {
   "cell_type": "code",
   "execution_count": 5,
   "metadata": {},
   "outputs": [],
   "source": [
    "model.spatial_model.lon_0.frozen = False\n",
    "model.spatial_model.lat_0.frozen = False\n",
    "model.spatial_model.sigma.frozen = False\n",
    "\n",
    "model.spectral_model.amplitude.frozen = False\n",
    "model.spectral_model.index.frozen = True\n",
    "\n",
    "datasets.models = model\n",
    "\n",
    "estimator = EnergyDependentMorphologyEstimator(energy_edges=energy_edges, source=\"src\")"
   ]
  },
  {
   "cell_type": "markdown",
   "metadata": {},
   "source": [
    "## Run the estimator and view the results"
   ]
  },
  {
   "cell_type": "code",
   "execution_count": 6,
   "metadata": {},
   "outputs": [],
   "source": [
    "results = estimator.run(datasets)"
   ]
  },
  {
   "cell_type": "markdown",
   "metadata": {},
   "source": [
    "Lets see what that contains"
   ]
  },
  {
   "cell_type": "code",
   "execution_count": 7,
   "metadata": {},
   "outputs": [
    {
     "data": {
      "text/plain": [
       "{'energy_dependence': {'delta_ts': 9.749805383442435,\n",
       "  'df': 3,\n",
       "  'result': {'Hypothesis': ['H0', 'H1', 'H1'],\n",
       "   'Emin': <Quantity [0.4, 0.4, 1.5] TeV>,\n",
       "   'Emax': <Quantity [20. ,  1.5, 20. ] TeV>,\n",
       "   'lon_0': <Quantity [347.25315592, 347.22020569, 347.30203464] deg>,\n",
       "   'lon_0_err': <Quantity [0.01774988, 0.02303687, 0.02834814] deg>,\n",
       "   'lat_0': <Quantity [-0.38502573, -0.39792979, -0.36699214] deg>,\n",
       "   'lat_0_err': <Quantity [0.01693211, 0.02129856, 0.0283809 ] deg>,\n",
       "   'sigma': <Quantity [0.37502957, 0.39843129, 0.34630921] deg>,\n",
       "   'sigma_err': <Quantity [0.01388267, 0.01954996, 0.01972321] deg>}},\n",
       " 'src_above_bkg': {'Emin': <Quantity [0.4, 1.5] TeV>,\n",
       "  'Emax': <Quantity [ 1.5, 20. ] TeV>,\n",
       "  'delta_ts': [716.9237949869712, 357.51635524773155],\n",
       "  'df': [4, 4],\n",
       "  'significance': [26.422560530191227, 18.46196892112459]}}"
      ]
     },
     "execution_count": 7,
     "metadata": {},
     "output_type": "execute_result"
    }
   ],
   "source": [
    "results"
   ]
  },
  {
   "cell_type": "markdown",
   "metadata": {},
   "source": [
    "Can access the results for the `src_above_bkg`. These are values for each energy band for the significance of the signal above the background."
   ]
  },
  {
   "cell_type": "code",
   "execution_count": 8,
   "metadata": {},
   "outputs": [
    {
     "data": {
      "text/html": [
       "<div><i>Table length=2</i>\n",
       "<table id=\"table135139633671488\" class=\"table-striped table-bordered table-condensed\">\n",
       "<thead><tr><th>Emin</th><th>Emax</th><th>delta_ts</th><th>df</th><th>significance</th></tr></thead>\n",
       "<thead><tr><th>TeV</th><th>TeV</th><th></th><th></th><th></th></tr></thead>\n",
       "<thead><tr><th>float64</th><th>float64</th><th>float64</th><th>int64</th><th>float64</th></tr></thead>\n",
       "<tr><td>0.4</td><td>1.5</td><td>716.9237949869712</td><td>4</td><td>26.422560530191227</td></tr>\n",
       "<tr><td>1.5</td><td>20.0</td><td>357.51635524773155</td><td>4</td><td>18.46196892112459</td></tr>\n",
       "</table></div>"
      ],
      "text/plain": [
       "<Table length=2>\n",
       "  Emin    Emax       delta_ts        df     significance   \n",
       "  TeV     TeV                                              \n",
       "float64 float64      float64       int64      float64      \n",
       "------- ------- ------------------ ----- ------------------\n",
       "    0.4     1.5  716.9237949869712     4 26.422560530191227\n",
       "    1.5    20.0 357.51635524773155     4  18.46196892112459"
      ]
     },
     "metadata": {},
     "output_type": "display_data"
    }
   ],
   "source": [
    "table_bkg_src = Table(results[\"src_above_bkg\"])\n",
    "display(table_bkg_src)"
   ]
  },
  {
   "cell_type": "markdown",
   "metadata": {},
   "source": [
    "Lets look at the desults for the energy-dependence!"
   ]
  },
  {
   "cell_type": "code",
   "execution_count": 9,
   "metadata": {},
   "outputs": [
    {
     "name": "stdout",
     "output_type": "stream",
     "text": [
      "The delta_ts for the energy-dependent study: 9.750.\n",
      "Converting this to a significance gives: 2.311 σ\n"
     ]
    },
    {
     "data": {
      "text/html": [
       "<div><i>Table length=3</i>\n",
       "<table id=\"table135138354551376\" class=\"table-striped table-bordered table-condensed\">\n",
       "<thead><tr><th>Hypothesis</th><th>Emin</th><th>Emax</th><th>lon_0</th><th>lon_0_err</th><th>lat_0</th><th>lat_0_err</th><th>sigma</th><th>sigma_err</th></tr></thead>\n",
       "<thead><tr><th></th><th>TeV</th><th>TeV</th><th>deg</th><th>deg</th><th>deg</th><th>deg</th><th>deg</th><th>deg</th></tr></thead>\n",
       "<thead><tr><th>str2</th><th>float64</th><th>float64</th><th>float64</th><th>float64</th><th>float64</th><th>float64</th><th>float64</th><th>float64</th></tr></thead>\n",
       "<tr><td>H0</td><td>0.4</td><td>20.0</td><td>347.2531559217392</td><td>0.017749881140418623</td><td>-0.3850257329094031</td><td>0.016932114262269166</td><td>0.37502956674992227</td><td>0.013882671821621098</td></tr>\n",
       "<tr><td>H1</td><td>0.4</td><td>1.5</td><td>347.22020568686753</td><td>0.023036874648775813</td><td>-0.3979297940524748</td><td>0.021298558438532025</td><td>0.39843128719859716</td><td>0.01954996162573595</td></tr>\n",
       "<tr><td>H1</td><td>1.5</td><td>20.0</td><td>347.302034638351</td><td>0.028348135228415054</td><td>-0.36699214170175876</td><td>0.028380899348250475</td><td>0.3463092112508961</td><td>0.019723206874745658</td></tr>\n",
       "</table></div>"
      ],
      "text/plain": [
       "<Table length=3>\n",
       "Hypothesis   Emin    Emax  ...        sigma             sigma_err      \n",
       "             TeV     TeV   ...         deg                 deg         \n",
       "   str2    float64 float64 ...       float64             float64       \n",
       "---------- ------- ------- ... ------------------- --------------------\n",
       "        H0     0.4    20.0 ... 0.37502956674992227 0.013882671821621098\n",
       "        H1     0.4     1.5 ... 0.39843128719859716  0.01954996162573595\n",
       "        H1     1.5    20.0 ...  0.3463092112508961 0.019723206874745658"
      ]
     },
     "metadata": {},
     "output_type": "display_data"
    }
   ],
   "source": [
    "ts = results[\"energy_dependence\"][\"delta_ts\"]\n",
    "df = results[\"energy_dependence\"][\"df\"]\n",
    "sigma = ts_to_sigma(ts, df=df)\n",
    "\n",
    "print(f\"The delta_ts for the energy-dependent study: {ts:.3f}.\")\n",
    "print(f\"Converting this to a significance gives: {sigma:.3f} \\u03C3\")\n",
    "\n",
    "results_table = Table(results[\"energy_dependence\"][\"result\"])\n",
    "display(results_table)"
   ]
  },
  {
   "cell_type": "markdown",
   "metadata": {},
   "source": [
    "## Plotting those results"
   ]
  },
  {
   "cell_type": "code",
   "execution_count": 10,
   "metadata": {},
   "outputs": [],
   "source": [
    "energy_result = results[\"energy_dependence\"][\"result\"]\n",
    "lat_0, lat_0_err = energy_result[\"lat_0\"][1:], energy_result[\"lat_0_err\"][1:]\n",
    "lon_0, lon_0_err = energy_result[\"lon_0\"][1:], energy_result[\"lon_0_err\"][1:]\n",
    "sigma, sigma_err = energy_result[\"sigma\"][1:], energy_result[\"sigma_err\"][1:]"
   ]
  },
  {
   "cell_type": "code",
   "execution_count": 11,
   "metadata": {},
   "outputs": [],
   "source": [
    "model_plots = []\n",
    "\n",
    "for i in range(len(lat_0)):\n",
    "    model_plot = GaussianSpatialModel(\n",
    "        lat_0=lat_0[i],\n",
    "        lon_0=lon_0[i],\n",
    "        sigma=sigma[i],\n",
    "        frame=spatial_model.frame\n",
    "    )\n",
    "    model_plot.lat_0.error = lat_0_err[i]\n",
    "    model_plot.lon_0.error = lon_0_err[i]\n",
    "    model_plot.sigma.error = sigma_err[i]\n",
    "    model_plots.append((model_plot))"
   ]
  },
  {
   "cell_type": "code",
   "execution_count": 12,
   "metadata": {},
   "outputs": [
    {
     "name": "stderr",
     "output_type": "stream",
     "text": [
      "/home/feijen/anaconda3/envs/gammapy-1.2-withray/lib/python3.10/site-packages/astropy/visualization/mpl_normalize.py:179: RuntimeWarning: invalid value encountered in divide\n",
      "  np.true_divide(values, self.vmax - self.vmin, out=values)\n",
      "/home/feijen/anaconda3/envs/gammapy-1.2-withray/lib/python3.10/site-packages/astropy/visualization/mpl_normalize.py:179: RuntimeWarning: invalid value encountered in divide\n",
      "  np.true_divide(values, self.vmax - self.vmin, out=values)\n"
     ]
    },
    {
     "data": {
      "image/png": "[encoded data removed]",
      "text/plain": [
       "<Figure size 600x400 with 1 Axes>"
      ]
     },
     "metadata": {},
     "output_type": "display_data"
    }
   ],
   "source": [
    "empty_map = Map.create(\n",
    "    skydir=spatial_model.position, frame=spatial_model.frame, width=2, binsz=0.02\n",
    ")\n",
    "\n",
    "colors = [\"red\", \"blue\"]\n",
    "\n",
    "fig = plt.figure(figsize=(6, 4))\n",
    "ax = empty_map.plot()\n",
    "\n",
    "for i, model_plot in enumerate(model_plots):\n",
    "    \n",
    "    model_plot.plot_error(\n",
    "        ax=ax,\n",
    "        which=\"all\",\n",
    "        kwargs_extension={\"facecolor\": colors[i], \"edgecolor\": colors[i]},\n",
    "        kwargs_position={\"color\": colors[i]},\n",
    "    )\n",
    "plt.show()"
   ]
  },
  {
   "cell_type": "code",
   "execution_count": null,
   "metadata": {},
   "outputs": [],
   "source": []
  }
 ],
 "metadata": {
  "colab": {
   "provenance": []
  },
  "kernelspec": {
   "display_name": "Python 3 (ipykernel)",
   "language": "python",
   "name": "python3"
  },
  "language_info": {
   "codemirror_mode": {
    "name": "ipython",
    "version": 3
   },
   "file_extension": ".py",
   "mimetype": "text/x-python",
   "name": "python",
   "nbconvert_exporter": "python",
   "pygments_lexer": "ipython3",
   "version": "3.10.13"
  }
 },
 "nbformat": 4,
 "nbformat_minor": 1
}
