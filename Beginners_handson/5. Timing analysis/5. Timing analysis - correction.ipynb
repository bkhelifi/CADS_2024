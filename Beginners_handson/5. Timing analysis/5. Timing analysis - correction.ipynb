{
 "cells": [
  {
   "cell_type": "markdown",
   "id": "f1cfd58c-95a1-4d45-825b-3c6b32e4d7bf",
   "metadata": {},
   "source": [
    "# 5. Timing analysis\n",
    "\n",
    "We will produce a light curve of Mrk 421 in two energy bands, compute the ratio of the fluxes and see if there is any hint of spectral variability.\n",
    "\n",
    "For this tutorial, we will need a few extra python packages (such as `astroquery` to query Virtual Observatory services)."
   ]
  },
  {
   "cell_type": "code",
   "execution_count": 1,
   "id": "07784890-cebe-4f5f-be1d-402f74d72b4d",
   "metadata": {
    "ExecuteTime": {
     "end_time": "2024-10-08T11:54:09.636402Z",
     "start_time": "2024-10-08T11:54:09.632778Z"
    }
   },
   "outputs": [],
   "source": [
    "# !mamba install -c conda-forge astroquery\n",
    "#\n",
    "# or:\n",
    "#\n",
    "# !mamba create -n cads-2024 -c conda-forge gammapy=1.2 ipykernel astroquery tqdm"
   ]
  },
  {
   "cell_type": "code",
   "execution_count": 2,
   "id": "16f0f9ca-9421-4418-a860-91fbfe9397c3",
   "metadata": {
    "ExecuteTime": {
     "end_time": "2024-10-08T11:54:11.635514Z",
     "start_time": "2024-10-08T11:54:09.678328Z"
    }
   },
   "outputs": [
    {
     "name": "stderr",
     "output_type": "stream",
     "text": [
      "/home/jlenain/local/opt/mambaforge/envs/cads-2024/lib/python3.12/site-packages/tqdm/auto.py:21: TqdmWarning: IProgress not found. Please update jupyter and ipywidgets. See https://ipywidgets.readthedocs.io/en/stable/user_install.html\n",
      "  from .autonotebook import tqdm as notebook_tqdm\n"
     ]
    }
   ],
   "source": [
    "import matplotlib\n",
    "import matplotlib.pyplot as plt\n",
    "import matplotlib.style as style\n",
    "style.use('tableau-colorblind10')\n",
    "\n",
    "import numpy as np\n",
    "\n",
    "from astropy import units as u\n",
    "from astropy.coordinates import SkyCoord, Angle\n",
    "from astropy.time import Time\n",
    "from astroquery.simbad import Simbad\n",
    "\n",
    "import scipy\n",
    "\n",
    "\n",
    "from gammapy.data import DataStore\n",
    "from gammapy.datasets import Datasets, SpectrumDataset, SpectrumDatasetOnOff\n",
    "from gammapy.estimators import FluxPointsEstimator, LightCurveEstimator\n",
    "from gammapy.estimators.utils import (\n",
    "    compute_lightcurve_fvar,\n",
    "    compute_lightcurve_fpp,\n",
    "    compute_lightcurve_doublingtime,\n",
    "    get_rebinned_axis,\n",
    "    resample_energy_edges,\n",
    ")\n",
    "from gammapy.makers import (\n",
    "    DatasetsMaker,\n",
    "    SafeMaskMaker,\n",
    "    SpectrumDatasetMaker,\n",
    "    ReflectedRegionsBackgroundMaker,\n",
    ")\n",
    "from gammapy.makers.utils import make_theta_squared_table\n",
    "from gammapy.maps import MapAxis, RegionGeom, WcsGeom\n",
    "from gammapy.modeling import Fit\n",
    "from gammapy.modeling.models import (\n",
    "    PowerLawSpectralModel,\n",
    "    PointSpatialModel,\n",
    "    SkyModel,\n",
    ")\n",
    "from gammapy.utils import pbar\n",
    "pbar.SHOW_PROGRESS_BAR = True\n",
    "from gammapy.visualization import plot_spectrum_datasets_off_regions, plot_theta_squared_table\n",
    "\n",
    "from regions import CircleSkyRegion\n",
    "\n",
    "from IPython.display import display"
   ]
  },
  {
   "cell_type": "markdown",
   "id": "f3bbde4b-6628-4b6f-93ed-826d848dcbb7",
   "metadata": {},
   "source": [
    "We first load the relevant data set:"
   ]
  },
  {
   "cell_type": "code",
   "execution_count": 3,
   "id": "0e5840d6-9e30-48bc-87c8-3bcdd46b1bf4",
   "metadata": {
    "ExecuteTime": {
     "end_time": "2024-10-08T11:54:11.875011Z",
     "start_time": "2024-10-08T11:54:11.735661Z"
    },
    "tags": []
   },
   "outputs": [],
   "source": [
    "data_store = DataStore.from_dir(\n",
    "    f\"../../../CTA-SDC-school-20241010T210126Z-001/CTA-SDC-school\"\n",
    ")"
   ]
  },
  {
   "cell_type": "markdown",
   "id": "7c870321-c069-4dcc-8211-bcafbe22e224",
   "metadata": {},
   "source": [
    "We set the properties of the source of interest. *Bonus*: we can use Virtual Observatory services to query some other source parameters, like its redshift."
   ]
  },
  {
   "cell_type": "code",
   "execution_count": 4,
   "id": "232ed13c-a9e1-4653-9e56-ad2fe6f61e8f",
   "metadata": {
    "tags": []
   },
   "outputs": [],
   "source": [
    "src = dict()\n",
    "src['Name'] = 'Mrk 421'\n",
    "src['Position'] = SkyCoord.from_name(src['Name'])\n",
    "\n",
    "try:\n",
    "    simbad = Simbad()\n",
    "    simbad.add_votable_fields(\"z_value\")\n",
    "    query = simbad.query_object(src['Name'])\n",
    "    src['Redshift'] = query[\"Z_VALUE\"].data[0]\n",
    "except NameError:\n",
    "    print(\"Cannot use Simbad, will set the source redshift manually\")\n",
    "    src['Redshift'] = 0.030"
   ]
  },
  {
   "cell_type": "markdown",
   "id": "4f633c98-19de-44c9-9747-4fd24fb4b370",
   "metadata": {},
   "source": [
    "We select a sub-sample of data acquired on our source:"
   ]
  },
  {
   "cell_type": "code",
   "execution_count": 5,
   "id": "38dabea5-5d5c-4a7c-8feb-256812ff788a",
   "metadata": {
    "tags": []
   },
   "outputs": [
    {
     "name": "stderr",
     "output_type": "stream",
     "text": [
      "Obs Id: 100%|███████████████████████████████████████████████████████████████████████████████████████████████████████████████████████████████████████████████████████████████████████████████████████████| 50/50 [00:00<00:00, 314.91it/s]\n"
     ]
    }
   ],
   "source": [
    "selection = dict(\n",
    "    type=\"sky_circle\",\n",
    "    frame=\"icrs\",\n",
    "    lon=src['Position'].ra,\n",
    "    lat=src['Position'].dec,\n",
    "    radius=\"3 deg\",\n",
    ")\n",
    "selected_obs_table = data_store.obs_table.select_observations(selection)\n",
    "\n",
    "#selection = dict(\n",
    "#type=\"time_box\",\n",
    "#time_range=Time([\"2006-07-29T12:00\", \"2006-07-30T12:00\"]),\n",
    "#)\n",
    "#selected_obs_table = selected_obs_table.select_observations(selection)\n",
    "\n",
    "selected_obs_table = selected_obs_table[0:50]\n",
    "\n",
    "obs_ids = selected_obs_table[\"OBS_ID\"]\n",
    "observations = data_store.get_observations(obs_ids)"
   ]
  },
  {
   "cell_type": "markdown",
   "id": "cf1d8c29-a419-4b31-b1de-211a9ce9104c",
   "metadata": {},
   "source": [
    "Let's create a time intervals, for later use, and filter the observations on it:"
   ]
  },
  {
   "cell_type": "code",
   "execution_count": 6,
   "id": "aac02cd3-a393-47b5-9ed5-7602d62d6e66",
   "metadata": {
    "tags": []
   },
   "outputs": [],
   "source": [
    "t0 = observations[0].tstart\n",
    "duration = 20 * u.min\n",
    "n_time_bins = int((observations[-1].tstop-t0)/duration)+1\n",
    "times = t0 + np.arange(n_time_bins) * duration\n",
    "time_intervals = [Time([tstart, tstop]) for tstart, tstop in zip(times[:-1], times[1:])]\n",
    "time_intervals\n",
    "\n",
    "short_observations = observations.select_time(time_intervals)"
   ]
  },
  {
   "cell_type": "code",
   "execution_count": 7,
   "id": "1e665f6e-994e-41fc-97a8-aa33027d31ff",
   "metadata": {},
   "outputs": [],
   "source": [
    "# Or just observation by observation:\n",
    "#time_intervals = [Time([obs.tstart, obs.tstop]) for obs in observations]\n",
    "#short_observations = observations"
   ]
  },
  {
   "cell_type": "markdown",
   "id": "fbcef1d9-7b83-419d-823f-ff043f089016",
   "metadata": {},
   "source": [
    "# Data reduction\n",
    "\n",
    "Let's perform a 1D analysis of the data."
   ]
  },
  {
   "cell_type": "code",
   "execution_count": 8,
   "id": "512a4807-12c3-4bf5-982e-25d2272ff38d",
   "metadata": {},
   "outputs": [],
   "source": [
    "on_region_radius = Angle(\"0.1 deg\")\n",
    "\n",
    "on_region = CircleSkyRegion(center=src['Position'], radius=on_region_radius)\n",
    "exclusion_region = CircleSkyRegion(center=src['Position'],radius=0.5 * u.deg)\n",
    "geom = WcsGeom.create(\n",
    "    npix=(120, 120), binsz=0.05, skydir=src['Position'], proj=\"TAN\", frame=\"icrs\"\n",
    ")\n",
    "exclusion_mask = ~geom.region_mask([exclusion_region])"
   ]
  },
  {
   "cell_type": "code",
   "execution_count": 9,
   "id": "ca752e9c-b2b0-443b-8ad6-c7702b9ec876",
   "metadata": {},
   "outputs": [],
   "source": [
    "energy_axis = MapAxis.from_energy_bounds(0.02, 200, nbin=5, per_decade=True, unit=\"TeV\", name=\"energy\")\n",
    "energy_axis_true = MapAxis.from_energy_bounds(0.005, 300, nbin=10, per_decade=True, unit=\"TeV\", name=\"energy_true\")\n",
    "\n",
    "geom = RegionGeom.create(region=on_region, axes=[energy_axis])\n",
    "\n",
    "dataset_empty = SpectrumDataset.create(geom=geom, energy_axis_true=energy_axis_true)\n",
    "dataset_maker = SpectrumDatasetMaker(containment_correction=True, selection=[\"counts\", \"exposure\", \"edisp\"])\n",
    "\n",
    "bkg_maker = ReflectedRegionsBackgroundMaker(exclusion_mask=exclusion_mask)\n",
    "safe_mask_maker = SafeMaskMaker(methods=[\"aeff-max\"], aeff_percent=10)"
   ]
  },
  {
   "cell_type": "code",
   "execution_count": 10,
   "id": "66c7958a-fbd0-4298-9f9c-c96eaa69a7fc",
   "metadata": {},
   "outputs": [
    {
     "name": "stderr",
     "output_type": "stream",
     "text": [
      "Data reduction: 100%|█████████████████████████████████████████████████████████████████████████████████████████████████████████████████████████████████████████████████████████████████████████████████| 50/50 [00:00<00:00, 92712.29it/s]\n"
     ]
    },
    {
     "name": "stdout",
     "output_type": "stream",
     "text": [
      "CPU times: user 7.51 s, sys: 148 ms, total: 7.66 s\n",
      "Wall time: 10.8 s\n"
     ]
    }
   ],
   "source": [
    "%%time\n",
    "\n",
    "# Parallel version\n",
    "makers = [dataset_maker, bkg_maker, safe_mask_maker]  # the order matters\n",
    "datasets_maker = DatasetsMaker(makers, stack_datasets=False, n_jobs=6)\n",
    "datasets = datasets_maker.run(dataset_empty, observations)"
   ]
  },
  {
   "cell_type": "code",
   "execution_count": 11,
   "id": "27c7db06-30d6-474b-aa59-6a626e824c47",
   "metadata": {
    "tags": []
   },
   "outputs": [],
   "source": [
    "dataset_stack = datasets.stack_reduce()"
   ]
  },
  {
   "cell_type": "markdown",
   "id": "47973ee1-734c-40ba-9bd1-032a088ba8af",
   "metadata": {},
   "source": [
    "Let's find some energy at which to slice our data, to build two well-balanced sets into two energy bands:"
   ]
  },
  {
   "cell_type": "code",
   "execution_count": 12,
   "id": "faa8f6e9-23f9-4027-9083-d5b685073a61",
   "metadata": {},
   "outputs": [
    {
     "name": "stdout",
     "output_type": "stream",
     "text": [
      "Split energy: 0.632 TeV\n"
     ]
    }
   ],
   "source": [
    "excess = dataset_stack.excess.data.T[0][0]\n",
    "mask = excess > 0\n",
    "excess = excess[mask]\n",
    "energy_bins = dataset_stack.counts.geom.axes['energy'].center[mask]\n",
    "split_value = 2./3. * np.sum(excess)\n",
    "split_mask = np.cumsum(excess) > split_value\n",
    "e_split = energy_bins[split_mask][0]\n",
    "\n",
    "print(f'Split energy: {e_split:.3f}')"
   ]
  },
  {
   "cell_type": "code",
   "execution_count": 13,
   "id": "b1749b23-3920-47ff-bae1-b0bd7981f670",
   "metadata": {
    "tags": []
   },
   "outputs": [
    {
     "name": "stdout",
     "output_type": "stream",
     "text": [
      "Energy threshold: 0.200 TeV\n",
      "Maximal energy: 200.000 TeV\n"
     ]
    }
   ],
   "source": [
    "e_min = dataset_stack.energy_range_safe[0].data[0][0] * dataset_stack.energy_range_safe[0].unit\n",
    "e_max = dataset_stack.energy_range_safe[-1].data[0][0] * dataset_stack.energy_range_safe[0].unit\n",
    "print(f'Energy threshold: {e_min:.3f}')\n",
    "print(f'Maximal energy: {e_max:.3f}')"
   ]
  },
  {
   "cell_type": "markdown",
   "id": "ce98aedc-2735-4779-9581-7601ab1be5af",
   "metadata": {},
   "source": [
    "# Fit overall spectrum"
   ]
  },
  {
   "cell_type": "code",
   "execution_count": 14,
   "id": "f00fab8a-b32f-4811-8eaa-ac28bb878218",
   "metadata": {},
   "outputs": [],
   "source": [
    "spectral_model = PowerLawSpectralModel(amplitude=1.0e-11 * u.Unit(\"cm-2 s-1 TeV-1\"),\n",
    "                                       reference=e_split,\n",
    "                                       index=2.\n",
    "                                      )\n",
    "spectral_model.parameters[\"amplitude\"].frozen = False\n",
    "spectral_model.parameters[\"index\"].frozen = False"
   ]
  },
  {
   "cell_type": "code",
   "execution_count": 15,
   "id": "1ef9b550-bc97-4424-82d9-a55561e45edd",
   "metadata": {},
   "outputs": [],
   "source": [
    "source = SkyModel(spectral_model=spectral_model,\n",
    "                 name=src[\"Name\"])\n",
    "\n",
    "for ds in datasets:\n",
    "    ds.models = source"
   ]
  },
  {
   "cell_type": "code",
   "execution_count": 16,
   "id": "0f28f83c-bc1f-49ca-b064-10e0bca9348b",
   "metadata": {},
   "outputs": [
    {
     "name": "stdout",
     "output_type": "stream",
     "text": [
      "CPU times: user 3.85 s, sys: 102 ms, total: 3.96 s\n",
      "Wall time: 3.96 s\n"
     ]
    }
   ],
   "source": [
    "%%time\n",
    "\n",
    "fit_joint = Fit()\n",
    "result_joint = fit_joint.run(datasets=datasets)\n",
    "\n",
    "# we make a copy here of the optimised model for later use\n",
    "model_best_joint = source.copy(name=src[\"Name\"])"
   ]
  },
  {
   "cell_type": "code",
   "execution_count": 17,
   "id": "b1ab68a9-c910-454b-b9bf-c2eb729f0357",
   "metadata": {},
   "outputs": [
    {
     "name": "stdout",
     "output_type": "stream",
     "text": [
      "OptimizeResult\n",
      "\n",
      "\tbackend    : minuit\n",
      "\tmethod     : migrad\n",
      "\tsuccess    : True\n",
      "\tmessage    : Optimization terminated successfully.\n",
      "\tnfev       : 62\n",
      "\ttotal stat : 4491.67\n",
      "\n",
      "CovarianceResult\n",
      "\n",
      "\tbackend    : minuit\n",
      "\tmethod     : hesse\n",
      "\tsuccess    : True\n",
      "\tmessage    : Hesse terminated successfully.\n",
      "\n"
     ]
    },
    {
     "data": {
      "text/html": [
       "<div><i>Table length=3</i>\n",
       "<table id=\"table127451300858192\" class=\"table-striped table-bordered table-condensed\">\n",
       "<thead><tr><th>model</th><th>type</th><th>name</th><th>value</th><th>unit</th><th>error</th><th>min</th><th>max</th><th>frozen</th><th>is_norm</th><th>link</th><th>prior</th></tr></thead>\n",
       "<thead><tr><th>str7</th><th>str1</th><th>str9</th><th>float64</th><th>str14</th><th>float64</th><th>float64</th><th>float64</th><th>bool</th><th>bool</th><th>str1</th><th>str1</th></tr></thead>\n",
       "<tr><td>Mrk 421</td><td></td><td>index</td><td>3.0854e+00</td><td></td><td>1.775e-02</td><td>nan</td><td>nan</td><td>False</td><td>False</td><td></td><td></td></tr>\n",
       "<tr><td>Mrk 421</td><td></td><td>amplitude</td><td>7.7310e-11</td><td>TeV-1 s-1 cm-2</td><td>9.375e-13</td><td>nan</td><td>nan</td><td>False</td><td>True</td><td></td><td></td></tr>\n",
       "<tr><td>Mrk 421</td><td></td><td>reference</td><td>6.3246e-01</td><td>TeV</td><td>0.000e+00</td><td>nan</td><td>nan</td><td>True</td><td>False</td><td></td><td></td></tr>\n",
       "</table></div>"
      ],
      "text/plain": [
       "<Table length=3>\n",
       " model  type    name     value         unit      ... frozen is_norm link prior\n",
       "  str7  str1    str9    float64       str14      ...  bool    bool  str1  str1\n",
       "------- ---- --------- ---------- -------------- ... ------ ------- ---- -----\n",
       "Mrk 421          index 3.0854e+00                ...  False   False           \n",
       "Mrk 421      amplitude 7.7310e-11 TeV-1 s-1 cm-2 ...  False    True           \n",
       "Mrk 421      reference 6.3246e-01            TeV ...   True   False           "
      ]
     },
     "metadata": {},
     "output_type": "display_data"
    }
   ],
   "source": [
    "print(result_joint)\n",
    "display(result_joint.models.to_parameters_table())"
   ]
  },
  {
   "cell_type": "code",
   "execution_count": 18,
   "id": "25ab9d51-9689-4bd2-b2b4-41ced797135f",
   "metadata": {
    "tags": []
   },
   "outputs": [
    {
     "name": "stderr",
     "output_type": "stream",
     "text": [
      "Energy bins:  86%|██████████████████████████████████████████████████████████████████████████████████████████████████████████████████████████████████████████████████████████████▌                          | 6/7 [00:01<00:00,  2.62it/s]Reoptimize = False ignored for iminuit backend\n",
      "Reoptimize = False ignored for iminuit backend\n",
      "Reoptimize = False ignored for iminuit backend\n",
      "Reoptimize = False ignored for iminuit backend\n",
      "Reoptimize = False ignored for iminuit backend\n",
      "Reoptimize = False ignored for iminuit backend\n",
      "Reoptimize = False ignored for iminuit backend\n",
      "Reoptimize = False ignored for iminuit backend\n",
      "Reoptimize = False ignored for iminuit backend\n",
      "Reoptimize = False ignored for iminuit backend\n",
      "Reoptimize = False ignored for iminuit backend\n",
      "Reoptimize = False ignored for iminuit backend\n",
      "Scan values: 100%|███████████████████████████████████████████████████████████████████████████████████████████████████████████████████████████████████████████████████████████████████████████████████████| 11/11 [00:02<00:00,  5.26it/s]\n",
      "Scan values:  55%|████████████████████████████████████████████████████████████████████████████████████████████████████▎                                                                                   | 6/11 [00:00<00:00,  6.79it/s]\n",
      "Scan values: 100%|███████████████████████████████████████████████████████████████████████████████████████████████████████████████████████████████████████████████████████████████████████████████████████| 11/11 [00:01<00:00,  6.01it/s]\n",
      "Scan values: 100%|███████████████████████████████████████████████████████████████████████████████████████████████████████████████████████████████████████████████████████████████████████████████████████| 11/11 [00:01<00:00,  5.97it/s]\n",
      "Scan values: 100%|███████████████████████████████████████████████████████████████████████████████████████████████████████████████████████████████████████████████████████████████████████████████████████| 11/11 [00:01<00:00,  5.75it/s]\n",
      "Scan values: 100%|███████████████████████████████████████████████████████████████████████████████████████████████████████████████████████████████████████████████████████████████████████████████████████| 11/11 [00:02<00:00,  5.27it/s]\n",
      "Scan values: 100%|███████████████████████████████████████████████████████████████████████████████████████████████████████████████████████████████████████████████████████████████████████████████████████| 11/11 [00:01<00:00,  7.40it/s]\n",
      "Reoptimize = False ignored for iminuit backend\n",
      "Reoptimize = False ignored for iminuit backend\n",
      "Scan values: 100%|███████████████████████████████████████████████████████████████████████████████████████████████████████████████████████████████████████████████████████████████████████████████████████| 11/11 [00:00<00:00, 16.41it/s]\n"
     ]
    },
    {
     "name": "stdout",
     "output_type": "stream",
     "text": [
      "CPU times: user 2.78 s, sys: 180 ms, total: 2.96 s\n",
      "Wall time: 31.6 s\n"
     ]
    }
   ],
   "source": [
    "%%time\n",
    "\n",
    "# Compute flux points\n",
    "\n",
    "energy_edges = resample_energy_edges(dataset_stack, conditions={'sqrt_ts_min': 2.})\n",
    "\n",
    "fpe = FluxPointsEstimator(\n",
    "    energy_edges=energy_edges,\n",
    "    source=src[\"Name\"],\n",
    "    selection_optional=[\"errn-errp\", \"ul\", \"scan\"],\n",
    "    fit=fit_joint,\n",
    "    n_jobs=6,\n",
    ")\n",
    "flux_points = fpe.run(datasets)"
   ]
  },
  {
   "cell_type": "code",
   "execution_count": 19,
   "id": "897b49ff-3402-4c53-aa97-c8f8b7c04363",
   "metadata": {
    "tags": []
   },
   "outputs": [
    {
     "data": {
      "text/plain": [
       "<Axes: xlabel='Energy [$\\\\mathrm{TeV}$]', ylabel='e2dnde [$\\\\mathrm{erg\\\\,s^{-1}\\\\,cm^{-2}}$]'>"
      ]
     },
     "execution_count": 19,
     "metadata": {},
     "output_type": "execute_result"
    },
    {
     "data": {
      "image/png": "[encoded data removed]",
      "text/plain": [
       "<Figure size 800x600 with 1 Axes>"
      ]
     },
     "metadata": {},
     "output_type": "display_data"
    }
   ],
   "source": [
    "fig, ax = plt.subplots(figsize=(8, 6))\n",
    "\n",
    "plot_kwargs = {\n",
    "    \"energy_bounds\": [e_min, e_max],\n",
    "    \"sed_type\": \"e2dnde\",\n",
    "    \"yunits\": u.Unit(\"erg cm-2 s-1\"),\n",
    "    \"ax\": ax,\n",
    "}\n",
    "\n",
    "# plot joint model\n",
    "model_best_joint.spectral_model.plot(\n",
    "    **plot_kwargs, ls=\"--\"\n",
    ")\n",
    "model_best_joint.spectral_model.plot_error(facecolor=\"grey\", alpha=0.7, **plot_kwargs)\n",
    "\n",
    "flux_points.plot(ax=plot_kwargs[\"ax\"],\n",
    "                 sed_type=plot_kwargs[\"sed_type\"],\n",
    "                 )"
   ]
  },
  {
   "cell_type": "markdown",
   "id": "c6351acc-3432-4356-8b8e-ff4cf52cf817",
   "metadata": {},
   "source": [
    "# Light curve"
   ]
  },
  {
   "cell_type": "markdown",
   "id": "40c2b7e3-2e46-4d97-9e6c-a3429910407e",
   "metadata": {},
   "source": [
    "Let's compute the light curve in two energy ranges"
   ]
  },
  {
   "cell_type": "code",
   "execution_count": 20,
   "id": "2f66c174-7c48-4997-b8ad-afca0da08aac",
   "metadata": {
    "tags": []
   },
   "outputs": [],
   "source": [
    "energy_lo = [e_min.value, e_split.value] * e_min.unit\n",
    "energy_hi = [e_split.value, e_max.value] * e_max.unit\n",
    "energy_all = [e_min.value, e_max.value] * e_min.unit\n",
    "\n",
    "e_ranges = [energy_lo, energy_hi, energy_all]"
   ]
  },
  {
   "cell_type": "code",
   "execution_count": 21,
   "id": "aa8768c8-ab37-44a9-85ad-a4375a606ae5",
   "metadata": {},
   "outputs": [
    {
     "name": "stderr",
     "output_type": "stream",
     "text": [
      "Time intervals selection: 100%|██████████████████████████████████████████████████████████████████████████████████████████████████████████████████████████████████████████████████████████████████████| 5446/5446 [02:41<00:00, 33.63it/s]\n",
      "Time intervals:  29%|███████████████████████████████████████████████████▋                                                                                                                                 | 6/21 [00:00<00:01,  7.61it/s]\n",
      "Scan values: 100%|██████████████████████████████████████████████████████████████████████████████████████████████████████████████████████████████████████████████████████████████████████████████████████| 11/11 [00:00<00:00, 267.41it/s]\u001b[A\n",
      "Energy bins:  50%|████████████████████████████████████████████████████████████████████████████████████████████▌                                                                                            | 1/2 [00:00<00:00,  2.52it/s]\n",
      "Scan values: 100%|██████████████████████████████████████████████████████████████████████████████████████████████████████████████████████████████████████████████████████████████████████████████████████| 11/11 [00:00<00:00, 281.69it/s]\u001b[A\n",
      "Energy bins:  50%|████████████████████████████████████████████████████████████████████████████████████████████▌                                                                                            | 1/2 [00:00<00:00,  2.01it/s]\n",
      "Scan values: 100%|██████████████████████████████████████████████████████████████████████████████████████████████████████████████████████████████████████████████████████████████████████████████████████| 11/11 [00:00<00:00, 209.33it/s]\u001b[A\n",
      "Energy bins:   0%|                                                                                                                                                                                                 | 0/2 [00:00<?, ?it/s]\n",
      "Scan values: 100%|██████████████████████████████████████████████████████████████████████████████████████████████████████████████████████████████████████████████████████████████████████████████████████| 11/11 [00:00<00:00, 354.16it/s]\u001b[A\n",
      "Energy bins:  50%|████████████████████████████████████████████████████████████████████████████████████████████▌                                                                                            | 1/2 [00:00<00:00,  1.71it/s]\n",
      "Scan values: 100%|██████████████████████████████████████████████████████████████████████████████████████████████████████████████████████████████████████████████████████████████████████████████████████| 11/11 [00:00<00:00, 255.35it/s]\u001b[A\n",
      "Energy bins: 100%|█████████████████████████████████████████████████████████████████████████████████████████████████████████████████████████████████████████████████████████████████████████████████████████| 2/2 [00:01<00:00,  1.99it/s]\n",
      "Time intervals:  33%|████████████████████████████████████████████████████████████▎                                                                                                                        | 7/21 [00:01<00:04,  3.43it/s]\n",
      "Scan values: 100%|██████████████████████████████████████████████████████████████████████████████████████████████████████████████████████████████████████████████████████████████████████████████████████| 11/11 [00:00<00:00, 294.26it/s]\u001b[A\n",
      "Energy bins: 100%|█████████████████████████████████████████████████████████████████████████████████████████████████████████████████████████████████████████████████████████████████████████████████████████| 2/2 [00:01<00:00,  1.80it/s]\n",
      "\n",
      "Scan values: 100%|██████████████████████████████████████████████████████████████████████████████████████████████████████████████████████████████████████████████████████████████████████████████████████| 11/11 [00:00<00:00, 308.83it/s]\u001b[A\n",
      "Energy bins:  50%|████████████████████████████████████████████████████████████████████████████████████████████▌                                                                                            | 1/2 [00:00<00:00,  1.57it/s]\n",
      "Scan values: 100%|██████████████████████████████████████████████████████████████████████████████████████████████████████████████████████████████████████████████████████████████████████████████████████| 11/11 [00:00<00:00, 325.73it/s]\u001b[A\n",
      "Energy bins: 100%|█████████████████████████████████████████████████████████████████████████████████████████████████████████████████████████████████████████████████████████████████████████████████████████| 2/2 [00:01<00:00,  1.75it/s]\n",
      "Time intervals:  38%|████████████████████████████████████████████████████████████████████▉                                                                                                                | 8/21 [00:01<00:04,  3.15it/s]\n",
      "Scan values: 100%|██████████████████████████████████████████████████████████████████████████████████████████████████████████████████████████████████████████████████████████████████████████████████████| 11/11 [00:00<00:00, 148.07it/s]\u001b[A\n",
      "Energy bins:  50%|████████████████████████████████████████████████████████████████████████████████████████████▌                                                                                            | 1/2 [00:01<00:01,  1.05s/it]\n",
      "Scan values: 100%|██████████████████████████████████████████████████████████████████████████████████████████████████████████████████████████████████████████████████████████████████████████████████████| 11/11 [00:00<00:00, 155.70it/s]\u001b[A\n",
      "Energy bins: 100%|█████████████████████████████████████████████████████████████████████████████████████████████████████████████████████████████████████████████████████████████████████████████████████████| 2/2 [00:01<00:00,  1.08it/s]\n",
      "Time intervals:  43%|█████████████████████████████████████████████████████████████████████████████▌                                                                                                       | 9/21 [00:02<00:03,  3.30it/s]\n",
      "Scan values: 100%|██████████████████████████████████████████████████████████████████████████████████████████████████████████████████████████████████████████████████████████████████████████████████████| 11/11 [00:00<00:00, 299.26it/s]\n",
      "Energy bins: 100%|█████████████████████████████████████████████████████████████████████████████████████████████████████████████████████████████████████████████████████████████████████████████████████████| 2/2 [00:01<00:00,  1.61it/s]\n",
      "Time intervals:  52%|██████████████████████████████████████████████████████████████████████████████████████████████▎                                                                                     | 11/21 [00:02<00:02,  3.60it/s]\n",
      "Scan values: 100%|██████████████████████████████████████████████████████████████████████████████████████████████████████████████████████████████████████████████████████████████████████████████████████| 11/11 [00:00<00:00, 274.18it/s]\u001b[A\n",
      "Energy bins:   0%|                                                                                                                                                                                                 | 0/2 [00:00<?, ?it/s]\n",
      "Scan values: 100%|██████████████████████████████████████████████████████████████████████████████████████████████████████████████████████████████████████████████████████████████████████████████████████| 11/11 [00:00<00:00, 152.23it/s]\u001b[A\n",
      "Energy bins: 100%|█████████████████████████████████████████████████████████████████████████████████████████████████████████████████████████████████████████████████████████████████████████████████████████| 2/2 [00:02<00:00,  1.09s/it]\n",
      "\n",
      "Scan values: 100%|██████████████████████████████████████████████████████████████████████████████████████████████████████████████████████████████████████████████████████████████████████████████████████| 11/11 [00:00<00:00, 306.40it/s]\u001b[A\n",
      "Energy bins:  50%|████████████████████████████████████████████████████████████████████████████████████████████▌                                                                                            | 1/2 [00:00<00:00,  1.14it/s]\n",
      "Scan values: 100%|██████████████████████████████████████████████████████████████████████████████████████████████████████████████████████████████████████████████████████████████████████████████████████| 11/11 [00:00<00:00, 305.54it/s]\u001b[A\n",
      "Energy bins: 100%|█████████████████████████████████████████████████████████████████████████████████████████████████████████████████████████████████████████████████████████████████████████████████████████| 2/2 [00:01<00:00,  1.29it/s]\n",
      "Time intervals:  62%|███████████████████████████████████████████████████████████████████████████████████████████████████████████████▍                                                                    | 13/21 [00:03<00:02,  2.79it/s]\n",
      "Scan values: 100%|██████████████████████████████████████████████████████████████████████████████████████████████████████████████████████████████████████████████████████████████████████████████████████| 11/11 [00:00<00:00, 218.40it/s]\u001b[A\n",
      "Energy bins:  50%|████████████████████████████████████████████████████████████████████████████████████████████▌                                                                                            | 1/2 [00:00<00:00,  1.54it/s]\n",
      "Scan values: 100%|██████████████████████████████████████████████████████████████████████████████████████████████████████████████████████████████████████████████████████████████████████████████████████| 11/11 [00:00<00:00, 259.71it/s]\u001b[A\n",
      "Energy bins: 100%|█████████████████████████████████████████████████████████████████████████████████████████████████████████████████████████████████████████████████████████████████████████████████████████| 2/2 [00:01<00:00,  1.24it/s]\n",
      "\n",
      "Scan values: 100%|██████████████████████████████████████████████████████████████████████████████████████████████████████████████████████████████████████████████████████████████████████████████████████| 11/11 [00:00<00:00, 131.29it/s]\u001b[A\n",
      "Energy bins:  50%|████████████████████████████████████████████████████████████████████████████████████████████▌                                                                                            | 1/2 [00:01<00:01,  1.54s/it]\n",
      "Scan values: 100%|██████████████████████████████████████████████████████████████████████████████████████████████████████████████████████████████████████████████████████████████████████████████████████| 11/11 [00:00<00:00, 256.22it/s]\u001b[A\n",
      "Energy bins: 100%|█████████████████████████████████████████████████████████████████████████████████████████████████████████████████████████████████████████████████████████████████████████████████████████| 2/2 [00:01<00:00,  1.63it/s]\n",
      "Time intervals:  71%|████████████████████████████████████████████████████████████████████████████████████████████████████████████████████████████████▌                                                   | 15/21 [00:04<00:02,  2.67it/s]\n",
      "Scan values: 100%|██████████████████████████████████████████████████████████████████████████████████████████████████████████████████████████████████████████████████████████████████████████████████████| 11/11 [00:00<00:00, 146.01it/s]\u001b[A\n",
      "Energy bins:  50%|████████████████████████████████████████████████████████████████████████████████████████████▌                                                                                            | 1/2 [00:01<00:01,  1.46s/it]\n",
      "Scan values: 100%|██████████████████████████████████████████████████████████████████████████████████████████████████████████████████████████████████████████████████████████████████████████████████████| 11/11 [00:00<00:00, 295.59it/s]\u001b[A\n",
      "Energy bins:   0%|                                                                                                                                                                                                 | 0/2 [00:00<?, ?it/s]\n",
      "Scan values: 100%|██████████████████████████████████████████████████████████████████████████████████████████████████████████████████████████████████████████████████████████████████████████████████████| 11/11 [00:00<00:00, 155.00it/s]\u001b[A\n",
      "Energy bins:  50%|████████████████████████████████████████████████████████████████████████████████████████████▌                                                                                            | 1/2 [00:01<00:01,  1.09s/it]\n",
      "Scan values:   0%|                                                                                                                                                                                                | 0/11 [00:00<?, ?it/s]\u001b[A\n",
      "Scan values: 100%|██████████████████████████████████████████████████████████████████████████████████████████████████████████████████████████████████████████████████████████████████████████████████████| 11/11 [00:00<00:00, 311.16it/s]\u001b[A\n",
      "Scan values: 100%|██████████████████████████████████████████████████████████████████████████████████████████████████████████████████████████████████████████████████████████████████████████████████████| 11/11 [00:00<00:00, 274.62it/s]\n",
      "Energy bins: 100%|█████████████████████████████████████████████████████████████████████████████████████████████████████████████████████████████████████████████████████████████████████████████████████████| 2/2 [00:01<00:00,  1.61it/s]\n",
      "Time intervals:  76%|█████████████████████████████████████████████████████████████████████████████████████████████████████████████████████████████████████████▏                                          | 16/21 [00:05<00:02,  1.91it/s]\n",
      "Scan values: 100%|██████████████████████████████████████████████████████████████████████████████████████████████████████████████████████████████████████████████████████████████████████████████████████| 11/11 [00:00<00:00, 120.22it/s]\u001b[A\n",
      "Energy bins: 100%|█████████████████████████████████████████████████████████████████████████████████████████████████████████████████████████████████████████████████████████████████████████████████████████| 2/2 [00:02<00:00,  1.41s/it]\n",
      "\n",
      "Time intervals:  81%|█████████████████████████████████████████████████████████████████████████████████████████████████████████████████████████████████████████████████▋                                  | 17/21 [00:05<00:01,  2.21it/s]\u001b[A\n",
      "Scan values: 100%|███████████████████████████████████████████████████████████████████████████████████████████████████████████████████████████████████████████████████████████████████████████████████████| 11/11 [00:00<00:00, 98.45it/s]\u001b[A\n",
      "Energy bins: 100%|█████████████████████████████████████████████████████████████████████████████████████████████████████████████████████████████████████████████████████████████████████████████████████████| 2/2 [00:02<00:00,  1.32s/it]\n",
      "Energy bins:   0%|                                                                                                                                                                                                 | 0/2 [00:00<?, ?it/s]\n",
      "Scan values: 100%|██████████████████████████████████████████████████████████████████████████████████████████████████████████████████████████████████████████████████████████████████████████████████████| 11/11 [00:00<00:00, 392.97it/s]\u001b[A\n",
      "Energy bins: 100%|█████████████████████████████████████████████████████████████████████████████████████████████████████████████████████████████████████████████████████████████████████████████████████████| 2/2 [00:01<00:00,  1.56it/s]\n",
      "Time intervals:  86%|██████████████████████████████████████████████████████████████████████████████████████████████████████████████████████████████████████████████████████████▎                         | 18/21 [00:05<00:01,  2.48it/s]\n",
      "Energy bins:   0%|                                                                                                                                                                                                 | 0/2 [00:00<?, ?it/s]\u001b[A\n",
      "Time intervals:  90%|██████████████████████████████████████████████████████████████████████████████████████████████████████████████████████████████████████████████████████████████████▊                 | 19/21 [00:06<00:00,  2.82it/s]\n",
      "Scan values: 100%|██████████████████████████████████████████████████████████████████████████████████████████████████████████████████████████████████████████████████████████████████████████████████████| 11/11 [00:00<00:00, 147.11it/s]\u001b[A\n",
      "Energy bins: 100%|█████████████████████████████████████████████████████████████████████████████████████████████████████████████████████████████████████████████████████████████████████████████████████████| 2/2 [00:02<00:00,  1.16s/it]\n",
      "\n",
      "Scan values: 100%|██████████████████████████████████████████████████████████████████████████████████████████████████████████████████████████████████████████████████████████████████████████████████████| 11/11 [00:00<00:00, 233.64it/s]\u001b[A\n",
      "Time intervals:  95%|███████████████████████████████████████████████████████████████████████████████████████████████████████████████████████████████████████████████████████████████████████████▍        | 20/21 [00:06<00:00,  2.94it/s]\n",
      "Scan values: 100%|██████████████████████████████████████████████████████████████████████████████████████████████████████████████████████████████████████████████████████████████████████████████████████| 11/11 [00:00<00:00, 302.67it/s]\u001b[A\n",
      "Energy bins:   0%|                                                                                                                                                                                                 | 0/2 [00:00<?, ?it/s]\n",
      "Scan values:   0%|                                                                                                                                                                                                | 0/11 [00:00<?, ?it/s]\u001b[A\n",
      "Scan values: 100%|██████████████████████████████████████████████████████████████████████████████████████████████████████████████████████████████████████████████████████████████████████████████████████| 11/11 [00:00<00:00, 286.26it/s]\u001b[A\n",
      "Scan values: 100%|██████████████████████████████████████████████████████████████████████████████████████████████████████████████████████████████████████████████████████████████████████████████████████| 11/11 [00:00<00:00, 165.01it/s]\n",
      "Energy bins: 100%|█████████████████████████████████████████████████████████████████████████████████████████████████████████████████████████████████████████████████████████████████████████████████████████| 2/2 [00:01<00:00,  1.52it/s]\n",
      "Energy bins: 100%|█████████████████████████████████████████████████████████████████████████████████████████████████████████████████████████████████████████████████████████████████████████████████████████| 2/2 [00:02<00:00,  1.09s/it]\n",
      "Time intervals: 100%|████████████████████████████████████████████████████████████████████████████████████████████████████████████████████████████████████████████████████████████████████████████████████| 21/21 [00:07<00:00,  2.95it/s]\n",
      "Scan values: 100%|██████████████████████████████████████████████████████████████████████████████████████████████████████████████████████████████████████████████████████████████████████████████████████| 11/11 [00:00<00:00, 301.78it/s]\u001b[A\n",
      "Energy bins: 100%|█████████████████████████████████████████████████████████████████████████████████████████████████████████████████████████████████████████████████████████████████████████████████████████| 2/2 [00:01<00:00,  1.56it/s]\n",
      "\n",
      "\n",
      "Scan values: 100%|██████████████████████████████████████████████████████████████████████████████████████████████████████████████████████████████████████████████████████████████████████████████████████| 11/11 [00:00<00:00, 414.99it/s]\u001b[A\n",
      "Energy bins:  50%|████████████████████████████████████████████████████████████████████████████████████████████▌                                                                                            | 1/2 [00:00<00:00,  1.88it/s]\n",
      "Scan values: 100%|██████████████████████████████████████████████████████████████████████████████████████████████████████████████████████████████████████████████████████████████████████████████████████| 11/11 [00:00<00:00, 226.68it/s]\u001b[A\n",
      "Energy bins:   0%|                                                                                                                                                                                                 | 0/2 [00:00<?, ?it/s]\n",
      "Scan values:   0%|                                                                                                                                                                                                | 0/11 [00:00<?, ?it/s]\u001b[A\n",
      "Scan values: 100%|██████████████████████████████████████████████████████████████████████████████████████████████████████████████████████████████████████████████████████████████████████████████████████| 11/11 [00:00<00:00, 377.27it/s]\u001b[A\n",
      "Energy bins: 100%|█████████████████████████████████████████████████████████████████████████████████████████████████████████████████████████████████████████████████████████████████████████████████████████| 2/2 [00:00<00:00,  2.04it/s]\n",
      "\n",
      "Scan values: 100%|███████████████████████████████████████████████████████████████████████████████████████████████████████████████████████████████████████████████████████████████████████████████████████| 11/11 [00:00<00:00, 97.69it/s]\u001b[A\n",
      "Energy bins:  50%|████████████████████████████████████████████████████████████████████████████████████████████▌                                                                                            | 1/2 [00:01<00:01,  1.50s/it]\n",
      "Scan values: 100%|██████████████████████████████████████████████████████████████████████████████████████████████████████████████████████████████████████████████████████████████████████████████████████| 11/11 [00:00<00:00, 346.54it/s]\u001b[A\n",
      "Energy bins:  50%|████████████████████████████████████████████████████████████████████████████████████████████▌                                                                                            | 1/2 [00:00<00:00,  2.14it/s]\n",
      "Scan values: 100%|██████████████████████████████████████████████████████████████████████████████████████████████████████████████████████████████████████████████████████████████████████████████████████| 11/11 [00:00<00:00, 262.04it/s]\u001b[A\n",
      "Energy bins: 100%|█████████████████████████████████████████████████████████████████████████████████████████████████████████████████████████████████████████████████████████████████████████████████████████| 2/2 [00:01<00:00,  1.17it/s]\n",
      "\n",
      "Scan values: 100%|██████████████████████████████████████████████████████████████████████████████████████████████████████████████████████████████████████████████████████████████████████████████████████| 11/11 [00:00<00:00, 515.17it/s]\u001b[A\n",
      "Energy bins: 100%|█████████████████████████████████████████████████████████████████████████████████████████████████████████████████████████████████████████████████████████████████████████████████████████| 2/2 [00:00<00:00,  2.42it/s]\n",
      "\n",
      "Scan values: 100%|██████████████████████████████████████████████████████████████████████████████████████████████████████████████████████████████████████████████████████████████████████████████████████| 11/11 [00:00<00:00, 205.81it/s]\u001b[A\n",
      "Energy bins: 100%|█████████████████████████████████████████████████████████████████████████████████████████████████████████████████████████████████████████████████████████████████████████████████████████| 2/2 [00:02<00:00,  1.18s/it]\n"
     ]
    }
   ],
   "source": [
    "lc_maker = LightCurveEstimator(energy_edges=[e_min, e_split, e_max],\n",
    "                               source=model_best_joint.name,\n",
    "                               time_intervals=time_intervals,\n",
    "                               selection_optional=[\"errn-errp\", \"ul\", \"scan\"],\n",
    "                               n_jobs=6,\n",
    "                              )\n",
    "lc = lc_maker.run(datasets)"
   ]
  },
  {
   "cell_type": "code",
   "execution_count": 22,
   "id": "ab5dd193-1f06-4f2e-b95f-8a7ffd0406b0",
   "metadata": {},
   "outputs": [
    {
     "data": {
      "text/plain": [
       "<Axes: xlabel='Time [mjd]', ylabel='flux [$\\\\mathrm{s^{-1}\\\\,cm^{-2}}$]'>"
      ]
     },
     "execution_count": 22,
     "metadata": {},
     "output_type": "execute_result"
    },
    {
     "data": {
      "image/png": "[encoded data removed]",
      "text/plain": [
       "<Figure size 640x480 with 1 Axes>"
      ]
     },
     "metadata": {},
     "output_type": "display_data"
    }
   ],
   "source": [
    "lc.plot(sed_type=\"flux\", time_format=\"mjd\", axis_name=\"time\")"
   ]
  },
  {
   "cell_type": "markdown",
   "id": "253ebe2a-a497-490e-8fc3-36357b091a90",
   "metadata": {},
   "source": [
    "We can also rebin the light curve to larger, fixed time bins, or requesting a minimum TS:"
   ]
  },
  {
   "cell_type": "code",
   "execution_count": 23,
   "id": "7ee0faad-36cd-447a-9dcc-2d78baa3d050",
   "metadata": {
    "tags": []
   },
   "outputs": [
    {
     "name": "stderr",
     "output_type": "stream",
     "text": [
      "Time intervals selection: 100%|██████████████████████████████████████████████████████████████████████████████████████████████████████████████████████████████████████████████████████████████████████| 5446/5446 [02:41<00:00, 33.82it/s]\n",
      "Energy bins:   0%|                                                                                                                                                                                                 | 0/1 [00:00<?, ?it/s]\n",
      "Scan values: 100%|██████████████████████████████████████████████████████████████████████████████████████████████████████████████████████████████████████████████████████████████████████████████████████| 11/11 [00:00<00:00, 341.20it/s]\u001b[A\n",
      "Energy bins: 100%|█████████████████████████████████████████████████████████████████████████████████████████████████████████████████████████████████████████████████████████████████████████████████████████| 1/1 [00:00<00:00,  2.60it/s]\n",
      "\n",
      "Scan values: 100%|██████████████████████████████████████████████████████████████████████████████████████████████████████████████████████████████████████████████████████████████████████████████████████| 11/11 [00:00<00:00, 351.22it/s]\u001b[A\n",
      "Energy bins: 100%|█████████████████████████████████████████████████████████████████████████████████████████████████████████████████████████████████████████████████████████████████████████████████████████| 1/1 [00:00<00:00,  2.21it/s]\n",
      "\n",
      "Scan values: 100%|██████████████████████████████████████████████████████████████████████████████████████████████████████████████████████████████████████████████████████████████████████████████████████| 11/11 [00:00<00:00, 163.87it/s]\u001b[A\n",
      "Energy bins: 100%|█████████████████████████████████████████████████████████████████████████████████████████████████████████████████████████████████████████████████████████████████████████████████████████| 1/1 [00:00<00:00,  1.33it/s]\n",
      "\n",
      "Scan values: 100%|██████████████████████████████████████████████████████████████████████████████████████████████████████████████████████████████████████████████████████████████████████████████████████| 11/11 [00:00<00:00, 359.45it/s]\u001b[A\n",
      "Energy bins: 100%|█████████████████████████████████████████████████████████████████████████████████████████████████████████████████████████████████████████████████████████████████████████████████████████| 1/1 [00:00<00:00,  2.05it/s]\n",
      "Time intervals:  43%|█████████████████████████████████████████████████████████████████████████████▌                                                                                                       | 9/21 [00:01<00:02,  5.26it/s]\n",
      "Scan values: 100%|██████████████████████████████████████████████████████████████████████████████████████████████████████████████████████████████████████████████████████████████████████████████████████| 11/11 [00:00<00:00, 312.10it/s]\u001b[A\n",
      "Energy bins: 100%|█████████████████████████████████████████████████████████████████████████████████████████████████████████████████████████████████████████████████████████████████████████████████████████| 1/1 [00:00<00:00,  2.06it/s]\n",
      "Time intervals:  52%|██████████████████████████████████████████████████████████████████████████████████████████████▎                                                                                     | 11/21 [00:01<00:02,  4.72it/s]\n",
      "Scan values: 100%|██████████████████████████████████████████████████████████████████████████████████████████████████████████████████████████████████████████████████████████████████████████████████████| 11/11 [00:00<00:00, 146.96it/s]\u001b[A\n",
      "Energy bins: 100%|█████████████████████████████████████████████████████████████████████████████████████████████████████████████████████████████████████████████████████████████████████████████████████████| 1/1 [00:00<00:00,  1.09it/s]\n",
      "Time intervals:  57%|██████████████████████████████████████████████████████████████████████████████████████████████████████▊                                                                             | 12/21 [00:02<00:02,  4.35it/s]\n",
      "Scan values: 100%|██████████████████████████████████████████████████████████████████████████████████████████████████████████████████████████████████████████████████████████████████████████████████████| 11/11 [00:00<00:00, 349.40it/s]\u001b[A\n",
      "Energy bins: 100%|█████████████████████████████████████████████████████████████████████████████████████████████████████████████████████████████████████████████████████████████████████████████████████████| 1/1 [00:00<00:00,  1.73it/s]\n",
      "Energy bins:   0%|                                                                                                                                                                                                 | 0/1 [00:00<?, ?it/s]\n",
      "Scan values: 100%|██████████████████████████████████████████████████████████████████████████████████████████████████████████████████████████████████████████████████████████████████████████████████████| 11/11 [00:00<00:00, 309.82it/s]\u001b[A\n",
      "Energy bins: 100%|█████████████████████████████████████████████████████████████████████████████████████████████████████████████████████████████████████████████████████████████████████████████████████████| 1/1 [00:00<00:00,  1.46it/s]\n",
      "Energy bins:   0%|                                                                                                                                                                                                 | 0/1 [00:00<?, ?it/s]\n",
      "Scan values: 100%|██████████████████████████████████████████████████████████████████████████████████████████████████████████████████████████████████████████████████████████████████████████████████████| 11/11 [00:00<00:00, 222.82it/s]\u001b[A\n",
      "Energy bins: 100%|█████████████████████████████████████████████████████████████████████████████████████████████████████████████████████████████████████████████████████████████████████████████████████████| 1/1 [00:00<00:00,  1.42it/s]\n",
      "Energy bins:   0%|                                                                                                                                                                                                 | 0/1 [00:00<?, ?it/s]\n",
      "Scan values: 100%|██████████████████████████████████████████████████████████████████████████████████████████████████████████████████████████████████████████████████████████████████████████████████████| 11/11 [00:00<00:00, 146.93it/s]\u001b[A\n",
      "Energy bins: 100%|█████████████████████████████████████████████████████████████████████████████████████████████████████████████████████████████████████████████████████████████████████████████████████████| 1/1 [00:01<00:00,  1.30s/it]\n",
      "Time intervals:  76%|█████████████████████████████████████████████████████████████████████████████████████████████████████████████████████████████████████████▏                                          | 16/21 [00:03<00:01,  3.23it/s]\n",
      "Scan values: 100%|██████████████████████████████████████████████████████████████████████████████████████████████████████████████████████████████████████████████████████████████████████████████████████| 11/11 [00:00<00:00, 270.88it/s]\u001b[A\n",
      "Energy bins: 100%|█████████████████████████████████████████████████████████████████████████████████████████████████████████████████████████████████████████████████████████████████████████████████████████| 1/1 [00:00<00:00,  1.60it/s]\n",
      "Time intervals:  81%|█████████████████████████████████████████████████████████████████████████████████████████████████████████████████████████████████████████████████▋                                  | 17/21 [00:03<00:01,  3.26it/s]\n",
      "Scan values:   0%|                                                                                                                                                                                                | 0/11 [00:00<?, ?it/s]\u001b[A\n",
      "Scan values:   0%|                                                                                                                                                                                                | 0/11 [00:00<?, ?it/s]\u001b[A\n",
      "Scan values: 100%|██████████████████████████████████████████████████████████████████████████████████████████████████████████████████████████████████████████████████████████████████████████████████████| 11/11 [00:00<00:00, 266.45it/s]\u001b[A\n",
      "Energy bins: 100%|█████████████████████████████████████████████████████████████████████████████████████████████████████████████████████████████████████████████████████████████████████████████████████████| 1/1 [00:00<00:00,  1.46it/s]\n",
      "Scan values: 100%|██████████████████████████████████████████████████████████████████████████████████████████████████████████████████████████████████████████████████████████████████████████████████████| 11/11 [00:00<00:00, 144.57it/s]\n",
      "Energy bins: 100%|█████████████████████████████████████████████████████████████████████████████████████████████████████████████████████████████████████████████████████████████████████████████████████████| 1/1 [00:01<00:00,  1.24s/it]\n",
      "Scan values: 100%|██████████████████████████████████████████████████████████████████████████████████████████████████████████████████████████████████████████████████████████████████████████████████████| 11/11 [00:00<00:00, 123.23it/s]\n",
      "Energy bins: 100%|█████████████████████████████████████████████████████████████████████████████████████████████████████████████████████████████████████████████████████████████████████████████████████████| 1/1 [00:01<00:00,  1.13s/it]\n",
      "Time intervals:  95%|███████████████████████████████████████████████████████████████████████████████████████████████████████████████████████████████████████████████████████████████████████████▍        | 20/21 [00:04<00:00,  3.93it/s]\n",
      "Scan values: 100%|██████████████████████████████████████████████████████████████████████████████████████████████████████████████████████████████████████████████████████████████████████████████████████| 11/11 [00:00<00:00, 293.92it/s]\u001b[A\n",
      "Energy bins: 100%|█████████████████████████████████████████████████████████████████████████████████████████████████████████████████████████████████████████████████████████████████████████████████████████| 1/1 [00:00<00:00,  1.58it/s]\n",
      "\n",
      "Scan values: 100%|██████████████████████████████████████████████████████████████████████████████████████████████████████████████████████████████████████████████████████████████████████████████████████| 11/11 [00:00<00:00, 137.79it/s]\u001b[A\n",
      "Energy bins: 100%|█████████████████████████████████████████████████████████████████████████████████████████████████████████████████████████████████████████████████████████████████████████████████████████| 1/1 [00:01<00:00,  1.10s/it]\n",
      "\n",
      "Scan values: 100%|██████████████████████████████████████████████████████████████████████████████████████████████████████████████████████████████████████████████████████████████████████████████████████| 11/11 [00:00<00:00, 379.55it/s]\u001b[A\n",
      "Energy bins: 100%|█████████████████████████████████████████████████████████████████████████████████████████████████████████████████████████████████████████████████████████████████████████████████████████| 1/1 [00:00<00:00,  1.70it/s]\n",
      "Energy bins:   0%|                                                                                                                                                                                                 | 0/1 [00:00<?, ?it/s]\n",
      "\n",
      "Scan values: 100%|██████████████████████████████████████████████████████████████████████████████████████████████████████████████████████████████████████████████████████████████████████████████████████| 11/11 [00:00<00:00, 308.63it/s]\u001b[A\n",
      "Energy bins: 100%|█████████████████████████████████████████████████████████████████████████████████████████████████████████████████████████████████████████████████████████████████████████████████████████| 1/1 [00:00<00:00,  2.37it/s]\n",
      "Energy bins:   0%|                                                                                                                                                                                                 | 0/1 [00:00<?, ?it/s]\n",
      "Scan values: 100%|██████████████████████████████████████████████████████████████████████████████████████████████████████████████████████████████████████████████████████████████████████████████████████| 11/11 [00:00<00:00, 263.81it/s]\u001b[A\n",
      "Energy bins: 100%|█████████████████████████████████████████████████████████████████████████████████████████████████████████████████████████████████████████████████████████████████████████████████████████| 1/1 [00:00<00:00,  1.00it/s]\n",
      "\n",
      "Scan values: 100%|██████████████████████████████████████████████████████████████████████████████████████████████████████████████████████████████████████████████████████████████████████████████████████| 11/11 [00:00<00:00, 459.01it/s]\u001b[A\n",
      "Energy bins: 100%|█████████████████████████████████████████████████████████████████████████████████████████████████████████████████████████████████████████████████████████████████████████████████████████| 1/1 [00:00<00:00,  2.80it/s]\n",
      "\n",
      "Scan values: 100%|██████████████████████████████████████████████████████████████████████████████████████████████████████████████████████████████████████████████████████████████████████████████████████| 11/11 [00:00<00:00, 185.55it/s]\u001b[A\n",
      "Energy bins: 100%|█████████████████████████████████████████████████████████████████████████████████████████████████████████████████████████████████████████████████████████████████████████████████████████| 1/1 [00:01<00:00,  1.22s/it]\n"
     ]
    }
   ],
   "source": [
    "lc_maker_new = LightCurveEstimator(energy_edges=[e_min, e_max],\n",
    "                                   source=model_best_joint.name,\n",
    "                                   time_intervals=time_intervals,\n",
    "                                   selection_optional=\"all\",\n",
    "                                   n_jobs=6,\n",
    "                              )\n",
    "lc_all = lc_maker_new.run(datasets)"
   ]
  },
  {
   "cell_type": "code",
   "execution_count": 24,
   "id": "e759d4c8-db25-486d-a611-25ee147802e2",
   "metadata": {
    "tags": []
   },
   "outputs": [
    {
     "name": "stdout",
     "output_type": "stream",
     "text": [
      "TimeMapAxis\n",
      "-----------\n",
      "\n",
      "  name           : time      \n",
      "  nbins          : 7         \n",
      "  reference time : 2028-01-04 06:05:01.174\n",
      "  scale          : tt        \n",
      "  time min.      : 2028-01-04 06:05:01.174\n",
      "  time max.      : 2028-03-19 21:25:01.174\n",
      "  total time     : 1266.6666666666667 h\n",
      "\n"
     ]
    },
    {
     "data": {
      "image/png": "[encoded data removed]",
      "text/plain": [
       "<Figure size 800x600 with 1 Axes>"
      ]
     },
     "metadata": {},
     "output_type": "display_data"
    }
   ],
   "source": [
    "# axis_new = get_rebinned_axis(lc_all, method=\"min-ts\", ts_threshold=3000, axis_name=\"time\")\n",
    "axis_new = get_rebinned_axis(lc_all, method=\"fixed-bins\", group_size=3, axis_name=\"time\")\n",
    "print(axis_new)\n",
    "\n",
    "\n",
    "lc_new = lc_all.resample_axis(axis_new)\n",
    "\n",
    "plt.figure(figsize=(8, 6))\n",
    "ax = lc_all.plot(label=\"original\")\n",
    "lc_new.plot(ax=ax, label=\"rebinned\")\n",
    "plt.legend()\n",
    "plt.show()"
   ]
  },
  {
   "cell_type": "markdown",
   "id": "d3a07513-8e41-4162-9261-be213e8c6d28",
   "metadata": {},
   "source": [
    "# Fractional and point-to-point variability"
   ]
  },
  {
   "cell_type": "code",
   "execution_count": 25,
   "id": "97b3700d-564b-4a59-b189-7bf2c8257301",
   "metadata": {
    "tags": []
   },
   "outputs": [
    {
     "name": "stdout",
     "output_type": "stream",
     "text": [
      "    min_energy         max_energy            fvar              fvar_err         significance   \n",
      "       TeV                TeV                                                                  \n",
      "------------------ ------------------ ------------------ ------------------- ------------------\n",
      "               0.2 0.7962143411069947 0.6808250830990236 0.01861692412110442  36.57022388178669\n",
      "0.7962143411069947 199.99999999999991 0.9471406253608344 0.03413567029071025 27.746360838814148\n"
     ]
    }
   ],
   "source": [
    "compute_lightcurve_fvar(lc, flux_quantity='flux').pprint_all()"
   ]
  },
  {
   "cell_type": "code",
   "execution_count": 26,
   "id": "e5808ad4-8010-49a4-b1ab-3f73f200ed04",
   "metadata": {
    "tags": []
   },
   "outputs": [
    {
     "name": "stdout",
     "output_type": "stream",
     "text": [
      "    min_energy         max_energy            fpp               fpp_err           significance   \n",
      "       TeV                TeV                                                                   \n",
      "------------------ ------------------ ------------------ -------------------- ------------------\n",
      "               0.2 0.7962143411069947 0.6940185772793053  0.01861421409133327  37.28433410478708\n",
      "0.7962143411069947 199.99999999999991 0.8717657106633362 0.034176532528774554 25.507728437030956\n"
     ]
    }
   ],
   "source": [
    "compute_lightcurve_fpp(lc, flux_quantity='flux').pprint_all()"
   ]
  },
  {
   "cell_type": "code",
   "execution_count": 27,
   "id": "a77097b2-9acb-494f-b78b-86cd5ce66902",
   "metadata": {
    "tags": []
   },
   "outputs": [
    {
     "name": "stdout",
     "output_type": "stream",
     "text": [
      "    min_energy         max_energy        doublingtime       doubling_err      doubling_coord     halvingtime        halving_err       halving_coord   \n",
      "       TeV                TeV                 s                  s                                    s                  s                            \n",
      "------------------ ------------------ ------------------ ------------------ ----------------- ------------------ ------------------ ------------------\n",
      "               0.2 0.7962143411069947  2123.354003139139 31.977994379722382 61827.94098581018  9642.385379697469 1.1751460619061047 61800.010430254624\n",
      "0.7962143411069947 199.99999999999991 1316.7534316264307  166.8318515553324 61806.21876358796 2028.8270495123797  38.12498734759326  61849.87154136574\n"
     ]
    }
   ],
   "source": [
    "compute_lightcurve_doublingtime(lc, flux_quantity='flux').pprint_all()"
   ]
  },
  {
   "cell_type": "markdown",
   "id": "b790cd2b-8de6-4806-a895-1f3c8ca61807",
   "metadata": {},
   "source": [
    "# Hardness ratio diagrams\n",
    "\n",
    "Let's compute the flux ratio of our two light curves, plot them against time, and against the overall flux (i.e. hardness ratio diagram)."
   ]
  },
  {
   "cell_type": "markdown",
   "id": "52581c1b-2586-4f1d-afee-047956b91891",
   "metadata": {},
   "source": [
    "Access the low-energy and high-energy light curves.\n",
    "\n",
    "**Tip**: Remember that `RegionNDMap` holds quantities of `numpy.ndarray`s."
   ]
  },
  {
   "cell_type": "code",
   "execution_count": 28,
   "id": "7707ae52-e08c-404b-a62e-04293022b632",
   "metadata": {
    "tags": []
   },
   "outputs": [],
   "source": [
    "lc_lo = lc.flux.quantity[:, [0]].flatten()\n",
    "lc_lo_err = lc.flux_err.quantity[:, [0]].flatten()\n",
    "\n",
    "lc_hi = lc.flux.quantity[:, [1]].flatten()\n",
    "lc_hi_err = lc.flux_err.quantity[:, [1]].flatten()\n",
    "\n",
    "lc_tot = lc_lo+lc_hi\n",
    "lc_tot_err = np.sqrt(lc_hi_err**2 + lc_lo_err**2)"
   ]
  },
  {
   "cell_type": "code",
   "execution_count": 29,
   "id": "5a7d606d-1872-4a16-9b31-5954e2dc7552",
   "metadata": {
    "tags": []
   },
   "outputs": [],
   "source": [
    "flux_ratio = lc_hi/lc_lo"
   ]
  },
  {
   "cell_type": "code",
   "execution_count": 30,
   "id": "ee54af55-2b20-412b-aabd-9d13e9019bdd",
   "metadata": {
    "tags": []
   },
   "outputs": [],
   "source": [
    "flux_ratio_err = flux_ratio * np.sqrt((lc_hi_err/lc_hi)**2+(lc_lo_err/lc_lo)**2)"
   ]
  },
  {
   "cell_type": "code",
   "execution_count": 31,
   "id": "2ebe9e88-d120-4905-bce7-a07bce52738b",
   "metadata": {
    "tags": []
   },
   "outputs": [
    {
     "data": {
      "text/plain": [
       "Text(0, 0.5, 'Hardness ratio (0.6 TeV-200.0 TeV/0.2 TeV-0.6 TeV)')"
      ]
     },
     "execution_count": 31,
     "metadata": {},
     "output_type": "execute_result"
    },
    {
     "data": {
      "image/png": "[encoded data removed]",
      "text/plain": [
       "<Figure size 640x480 with 1 Axes>"
      ]
     },
     "metadata": {},
     "output_type": "display_data"
    }
   ],
   "source": [
    "plt.errorbar(x=lc.geom.axes[\"time\"].time_mid.mjd, y=flux_ratio, yerr=flux_ratio_err, fmt='o')\n",
    "plt.xlabel(\"Time (MJD)\")\n",
    "plt.ylabel(f\"Hardness ratio ({e_ranges[1][0]:.1f}-{e_ranges[1][1]:.1f}/{e_ranges[0][0]:.1f}-{e_ranges[0][1]:.1f})\")"
   ]
  },
  {
   "cell_type": "code",
   "execution_count": 32,
   "id": "4afb01b9-dde2-4061-a749-34ac1c0a1df1",
   "metadata": {
    "tags": []
   },
   "outputs": [
    {
     "data": {
      "text/plain": [
       "<matplotlib.colorbar.Colorbar at 0x73ea2fb06b10>"
      ]
     },
     "execution_count": 32,
     "metadata": {},
     "output_type": "execute_result"
    },
    {
     "data": {
      "image/png": "[encoded data removed]",
      "text/plain": [
       "<Figure size 800x600 with 2 Axes>"
      ]
     },
     "metadata": {},
     "output_type": "display_data"
    }
   ],
   "source": [
    "fig, ax = plt.subplots(figsize=(8,6))\n",
    "\n",
    "t = ((lc.geom.axes[\"time\"].time_mid.mjd-lc.geom.axes[\"time\"].time_mid.mjd[0]) * u.d).to(u.h)\n",
    "\n",
    "cmap_norm = matplotlib.colors.Normalize(vmin=min(t.value), vmax=max(t.value))\n",
    "mapper = matplotlib.cm.ScalarMappable(norm=cmap_norm, cmap='cividis')\n",
    "time_colors = np.array([(mapper.to_rgba(_)) for _ in t.value])\n",
    "\n",
    "for _x, _y, _ex, _ey, _color in zip(flux_ratio, lc_tot, flux_ratio_err, lc_tot_err, time_colors):\n",
    "    ax.plot(_x, _y, 'o', color=_color)\n",
    "    ax.errorbar(x=_x,\n",
    "                xerr=_ex,\n",
    "                y=_y,\n",
    "                yerr=_ey,\n",
    "                color=_color,\n",
    "               )\n",
    "ax.set_xlabel(f\"Hardness ratio ({e_ranges[1][0]:.1f}-{e_ranges[1][1]:.1f}/{e_ranges[0][0]:.1f}-{e_ranges[0][1]:.1f})\")\n",
    "ax.set_ylabel(f\"Flux ({e_ranges[2][0]:.1f}-{e_ranges[2][1]:.1f})\")\n",
    "fig.colorbar(mapper, ax=ax, orientation='vertical', label=\"Time (h)\")"
   ]
  },
  {
   "cell_type": "code",
   "execution_count": null,
   "id": "5febab1a-a48c-499e-8734-4d9a471957b5",
   "metadata": {},
   "outputs": [],
   "source": []
  }
 ],
 "metadata": {
  "kernelspec": {
   "display_name": "Python (cads-2024)",
   "language": "python",
   "name": "cads-2024"
  },
  "language_info": {
   "codemirror_mode": {
    "name": "ipython",
    "version": 3
   },
   "file_extension": ".py",
   "mimetype": "text/x-python",
   "name": "python",
   "nbconvert_exporter": "python",
   "pygments_lexer": "ipython3",
   "version": "3.12.7"
  }
 },
 "nbformat": 4,
 "nbformat_minor": 5
}
