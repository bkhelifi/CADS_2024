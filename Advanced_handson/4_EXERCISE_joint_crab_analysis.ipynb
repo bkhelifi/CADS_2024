{
 "cells": [
  {
   "cell_type": "code",
   "execution_count": 1,
   "metadata": {},
   "outputs": [],
   "source": [
    "%matplotlib inline"
   ]
  },
  {
   "cell_type": "markdown",
   "metadata": {},
   "source": [
    "\n",
    "# Multi-instrument joint analysis\n",
    "\n",
    "\n",
    "## Introduction\n",
    "\n",
    "\n",
    "We are goind to reproduce the analysis of the public Crab datasets from [Nigro et al. 2019](https://www.aanda.org/articles/aa/full_html/2019/05/aa34938-18/aa34938-18.html). \\\n",
    "In practice, we have to:\n",
    "\n",
    "- Read a DL4 datasets file\n",
    "- Define the `~gammapy.modeling.models.Models` to apply to the datasets from a list of `~gammapy.modeling.models.SkyModel`.\n",
    "- Create a `~gammapy.modeling.Fit` object and run it to fit the model parameters\n",
    "- Plot the spectrum obtained from the joint fit together with the ones obtained for each instrument fit in their respective validity range.\n",
    "\n"
   ]
  },
  {
   "cell_type": "code",
   "execution_count": 2,
   "metadata": {},
   "outputs": [],
   "source": [
    "from IPython.display import display\n",
    "\n",
    "from pathlib import Path\n",
    "\n",
    "import numpy as np\n",
    "import astropy.units as u\n",
    "from astropy.coordinates import SkyCoord\n",
    "\n",
    "import matplotlib.pyplot as plt\n",
    "\n",
    "from gammapy.datasets import Datasets\n",
    "\n",
    "from gammapy.modeling import Fit\n",
    "from gammapy.modeling.models import Models\n",
    "\n"
   ]
  },
  {
   "cell_type": "markdown",
   "metadata": {},
   "source": [
    "## Define models"
   ]
  },
  {
   "cell_type": "code",
   "execution_count": 5,
   "metadata": {},
   "outputs": [],
   "source": [
    "target_postion = SkyCoord.from_name(\"Crab Nebula\")\n",
    "spatial_model = PointSpatialModel.from_position(target_postion)\n",
    "spatial_model.freeze() # frozen for 1D analysis\n",
    "\n",
    "# we can set some limit on the parameters\n",
    "# for example on the source position\n",
    "shift_max = 0.2 \n",
    "spatial_model.lon_0.max = spatial_model.lon_0.value + shift_max\n",
    "spatial_model.lon_0.min = spatial_model.lon_0.value - shift_max\n",
    "spatial_model.lat_0.max = spatial_model.lat_0.value + shift_max\n",
    "spatial_model.lat_0.min = spatial_model.lat_0.value - shift_max\n",
    "\n",
    "spectral_model = LogParabolaSpectralModel(\n",
    "    amplitude=1e-12 * u.Unit(\"cm-2 s-1 TeV-1\"),\n",
    "    index=2.,\n",
    "    beta=0.,\n",
    "    reference=1 * u.TeV,\n",
    ")\n",
    "model = SkyModel(spatial_model=spatial_model, spectral_model=spectral_model, name=\"crab\")\n",
    "#model = SkyModel(spectral_model=spectral_model, name=\"crab\")\n",
    "\n",
    "models = Models([model])\n"
   ]
  },
  {
   "cell_type": "markdown",
   "metadata": {},
   "source": [
    "Models can be saved to file :"
   ]
  },
  {
   "cell_type": "code",
   "execution_count": 6,
   "metadata": {},
   "outputs": [],
   "source": [
    "path = Path(\"models\")\n",
    "path.mkdir(exist_ok=True)\n",
    "\n",
    "filename = path / \"models_crab.yaml\"\n",
    "models.write(filename, overwrite=True)"
   ]
  },
  {
   "cell_type": "markdown",
   "metadata": {},
   "source": [
    "Alternatively you can read the models from file "
   ]
  },
  {
   "cell_type": "code",
   "execution_count": 7,
   "metadata": {},
   "outputs": [],
   "source": [
    "filename = path / \"models_crab.yaml\"\n",
    "models = Models.read(filename)"
   ]
  },
  {
   "cell_type": "code",
   "execution_count": 8,
   "metadata": {},
   "outputs": [
    {
     "data": {
      "text/html": [
       "<pre>LogParabolaSpectralModel\n",
       "\n",
       "type    name     value         unit      ... frozen is_norm link prior\n",
       "---- --------- ---------- -------------- ... ------ ------- ---- -----\n",
       "     amplitude 1.0000e-12 cm-2 s-1 TeV-1 ...  False    True           \n",
       "     reference 1.0000e+00            TeV ...   True   False           \n",
       "         alpha 2.0000e+00                ...  False   False           \n",
       "          beta 0.0000e+00                ...  False   False           </pre>"
      ],
      "text/plain": [
       "<gammapy.modeling.models.spectral.LogParabolaSpectralModel at 0x14fc9ed90>"
      ]
     },
     "execution_count": 8,
     "metadata": {},
     "output_type": "execute_result"
    }
   ],
   "source": [
    "models[0].spectral_model"
   ]
  },
  {
   "cell_type": "code",
   "execution_count": 9,
   "metadata": {},
   "outputs": [
    {
     "data": {
      "text/plain": [
       "<Axes: xlabel='Energy [$\\\\mathrm{TeV}$]', ylabel='dnde [$\\\\mathrm{TeV^{-1}\\\\,s^{-1}\\\\,cm^{-2}}$]'>"
      ]
     },
     "execution_count": 9,
     "metadata": {},
     "output_type": "execute_result"
    },
    {
     "data": {
      "image/png": "[encoded data removed]",
      "text/plain": [
       "<Figure size 640x480 with 1 Axes>"
      ]
     },
     "metadata": {},
     "output_type": "display_data"
    }
   ],
   "source": [
    "models[0].spectral_model.plot([1, 30]*u.TeV)"
   ]
  },
  {
   "cell_type": "code",
   "execution_count": 3,
   "metadata": {},
   "outputs": [],
   "source": []
  },
  {
   "cell_type": "markdown",
   "metadata": {},
   "source": [
    "## Read the datasets\n",
    "\n",
    "We read all the public datasets from the Crab and attach them the models"
   ]
  },
  {
   "cell_type": "code",
   "execution_count": null,
   "metadata": {},
   "outputs": [],
   "source": []
  },
  {
   "cell_type": "markdown",
   "metadata": {},
   "source": [
    "# Joint fit"
   ]
  },
  {
   "cell_type": "markdown",
   "metadata": {},
   "source": [
    "Define the fit instance"
   ]
  },
  {
   "cell_type": "code",
   "execution_count": 5,
   "metadata": {},
   "outputs": [],
   "source": []
  },
  {
   "cell_type": "markdown",
   "metadata": {},
   "source": [
    "Let's start to fit the data from each instrument indepently\n",
    "\n",
    "Think about how to determine the energy range for each dataset!\n",
    "\n",
    "Save the results for each instrument into a dictionary"
   ]
  },
  {
   "cell_type": "code",
   "execution_count": null,
   "metadata": {},
   "outputs": [],
   "source": []
  },
  {
   "cell_type": "markdown",
   "metadata": {},
   "source": [
    "Now we do the joint fit"
   ]
  },
  {
   "cell_type": "code",
   "execution_count": null,
   "metadata": {},
   "outputs": [],
   "source": []
  },
  {
   "cell_type": "code",
   "execution_count": null,
   "metadata": {},
   "outputs": [],
   "source": []
  },
  {
   "cell_type": "markdown",
   "metadata": {},
   "source": [
    "and compare the results by plotting them all together"
   ]
  },
  {
   "cell_type": "code",
   "execution_count": null,
   "metadata": {},
   "outputs": [],
   "source": []
  },
  {
   "cell_type": "markdown",
   "metadata": {},
   "source": [
    "## Likelihood contours\n",
    "\n",
    "In order to compute likelihhod contours of the fitted parameters \n",
    "we copy some code from the documentation https://docs.gammapy.org/1.2/tutorials/api/fitting.html#computing-contours-using-stat-contour"
   ]
  },
  {
   "cell_type": "code",
   "execution_count": null,
   "metadata": {},
   "outputs": [],
   "source": []
  },
  {
   "cell_type": "markdown",
   "metadata": {},
   "source": [
    "and we apply use it with our datasets and the previous fit results"
   ]
  },
  {
   "cell_type": "code",
   "execution_count": null,
   "metadata": {},
   "outputs": [],
   "source": []
  },
  {
   "cell_type": "code",
   "execution_count": null,
   "metadata": {},
   "outputs": [],
   "source": []
  }
 ],
 "metadata": {
  "kernelspec": {
   "display_name": "Python 3 (ipykernel)",
   "language": "python",
   "name": "python3"
  },
  "language_info": {
   "codemirror_mode": {
    "name": "ipython",
    "version": 3
   },
   "file_extension": ".py",
   "mimetype": "text/x-python",
   "name": "python",
   "nbconvert_exporter": "python",
   "pygments_lexer": "ipython3",
   "version": "3.11.3"
  }
 },
 "nbformat": 4,
 "nbformat_minor": 4
}
