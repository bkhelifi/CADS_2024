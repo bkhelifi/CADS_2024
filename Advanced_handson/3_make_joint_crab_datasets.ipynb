{
 "cells": [
  {
   "cell_type": "code",
   "execution_count": 1,
   "id": "78613c92",
   "metadata": {},
   "outputs": [],
   "source": [
    "%matplotlib inline"
   ]
  },
  {
   "cell_type": "markdown",
   "id": "efb8ba4b",
   "metadata": {},
   "source": [
    "# Make joint Crab dataset \n"
   ]
  },
  {
   "cell_type": "code",
   "execution_count": 2,
   "id": "89b80b42",
   "metadata": {},
   "outputs": [],
   "source": [
    "import os\n",
    "from pathlib import Path\n",
    "from gammapy.datasets import Datasets, SpectrumDatasetOnOff"
   ]
  },
  {
   "cell_type": "markdown",
   "id": "6896b79b",
   "metadata": {},
   "source": [
    "Read the public Crab datasets from [Nigro et al. 2019](https://www.aanda.org/articles/aa/full_html/2019/05/aa34938-18/aa34938-18.html) available in `GAMMAPY_DATA`"
   ]
  },
  {
   "cell_type": "code",
   "execution_count": 3,
   "id": "e13db25b",
   "metadata": {},
   "outputs": [
    {
     "name": "stdout",
     "output_type": "stream",
     "text": [
      "_fermi_obs0\n",
      "_fact_stacked\n",
      "_magic_obs5029747\n",
      "_magic_obs5029748\n",
      "_veritas_obs54809\n",
      "_veritas_obs57993\n"
     ]
    }
   ],
   "source": [
    "instruments = [\"fermi\", \"fact\", \"magic\", \"veritas\"] #not HESS because we generated it separately\n",
    "\n",
    "path = Path(os.environ[\"GAMMAPY_DATA\"])/ \"joint-crab/spectra\"\n",
    "\n",
    "paths = list(path.rglob(\"*.fits\"))\n",
    "datasets = Datasets()\n",
    "\n",
    "for instrument in instruments:\n",
    "    files = list(path.rglob(f\"{instrument}/pha_*.fits\"))\n",
    "    for filename in files:\n",
    "        name=f\"_{instrument}_{filename.stem.split('_')[-1]}\"\n",
    "        print(name)\n",
    "        dataset = SpectrumDatasetOnOff.read(filename).copy(name=name)\n",
    "        datasets.append(dataset)\n"
   ]
  },
  {
   "cell_type": "markdown",
   "id": "8e40b771",
   "metadata": {},
   "source": [
    "Read the HESS dataset we have created in the previous tutorial"
   ]
  },
  {
   "cell_type": "code",
   "execution_count": 4,
   "id": "eb9cf46d",
   "metadata": {},
   "outputs": [
    {
     "name": "stderr",
     "output_type": "stream",
     "text": [
      "/Users/qremy/Work/GitHub/gammapy/gammapy/utils/scripts.py:65: UserWarning: Checksum verification failed for datasets/crab_1d/datasets_crab_1d.yaml.\n",
      "  warnings.warn(f\"Checksum verification failed for {filename}.\", UserWarning)\n"
     ]
    }
   ],
   "source": [
    "filename = \"./datasets/crab_1d/datasets_crab_1d.yaml\"\n",
    "datasets_hess = datasets.read(filename)"
   ]
  },
  {
   "cell_type": "markdown",
   "id": "61f962c6-c268-4ac2-9c8a-6d708fac097f",
   "metadata": {},
   "source": [
    "Read the HAWC datasets provided"
   ]
  },
  {
   "cell_type": "code",
   "execution_count": 5,
   "id": "7d81146c-8018-445c-a6b0-71125ad1fcad",
   "metadata": {},
   "outputs": [
    {
     "name": "stderr",
     "output_type": "stream",
     "text": [
      "/Users/qremy/Work/GitHub/gammapy/gammapy/utils/scripts.py:65: UserWarning: Checksum verification failed for datasets/hawc_datasets/HAWC_pass4_public_Crab.yaml.\n",
      "  warnings.warn(f\"Checksum verification failed for {filename}.\", UserWarning)\n"
     ]
    }
   ],
   "source": [
    "filename = \"./datasets/hawc_datasets/HAWC_pass4_public_Crab.yaml\"\n",
    "datasets_hawc = datasets.read(filename)\n",
    "datasets_hawc = [d.copy(name=\"_hawc_\"+d.name) for d in datasets_hawc]"
   ]
  },
  {
   "cell_type": "markdown",
   "id": "fc05cead-5bb2-4b84-94e0-3181b9b59f6b",
   "metadata": {},
   "source": [
    "add them to the list"
   ]
  },
  {
   "cell_type": "code",
   "execution_count": 6,
   "id": "2b4ff2fd-8fce-46e2-aa39-92ab684ba20a",
   "metadata": {},
   "outputs": [],
   "source": [
    "datasets.extend(datasets_hess)\n",
    "datasets.extend(datasets_hawc)"
   ]
  },
  {
   "cell_type": "code",
   "execution_count": 7,
   "id": "06499499",
   "metadata": {},
   "outputs": [
    {
     "name": "stdout",
     "output_type": "stream",
     "text": [
      "Datasets\n",
      "--------\n",
      "\n",
      "Dataset 0: \n",
      "\n",
      "  Type       : SpectrumDatasetOnOff\n",
      "  Name       : _fermi_obs0\n",
      "  Instrument : \n",
      "  Models     : \n",
      "\n",
      "Dataset 1: \n",
      "\n",
      "  Type       : SpectrumDatasetOnOff\n",
      "  Name       : _fact_stacked\n",
      "  Instrument : \n",
      "  Models     : \n",
      "\n",
      "Dataset 2: \n",
      "\n",
      "  Type       : SpectrumDatasetOnOff\n",
      "  Name       : _magic_obs5029747\n",
      "  Instrument : \n",
      "  Models     : \n",
      "\n",
      "Dataset 3: \n",
      "\n",
      "  Type       : SpectrumDatasetOnOff\n",
      "  Name       : _magic_obs5029748\n",
      "  Instrument : \n",
      "  Models     : \n",
      "\n",
      "Dataset 4: \n",
      "\n",
      "  Type       : SpectrumDatasetOnOff\n",
      "  Name       : _veritas_obs54809\n",
      "  Instrument : \n",
      "  Models     : \n",
      "\n",
      "Dataset 5: \n",
      "\n",
      "  Type       : SpectrumDatasetOnOff\n",
      "  Name       : _veritas_obs57993\n",
      "  Instrument : \n",
      "  Models     : \n",
      "\n",
      "Dataset 6: \n",
      "\n",
      "  Type       : SpectrumDatasetOnOff\n",
      "  Name       : _hess_obs23523\n",
      "  Instrument : \n",
      "  Models     : \n",
      "\n",
      "Dataset 7: \n",
      "\n",
      "  Type       : SpectrumDatasetOnOff\n",
      "  Name       : _hess_obs23526\n",
      "  Instrument : \n",
      "  Models     : \n",
      "\n",
      "Dataset 8: \n",
      "\n",
      "  Type       : SpectrumDatasetOnOff\n",
      "  Name       : _hess_obs23559\n",
      "  Instrument : \n",
      "  Models     : \n",
      "\n",
      "Dataset 9: \n",
      "\n",
      "  Type       : SpectrumDatasetOnOff\n",
      "  Name       : _hess_obs23592\n",
      "  Instrument : \n",
      "  Models     : \n",
      "\n",
      "Dataset 10: \n",
      "\n",
      "  Type       : MapDataset\n",
      "  Name       : _hawc_nHit-1\n",
      "  Instrument : \n",
      "  Models     : \n",
      "\n",
      "Dataset 11: \n",
      "\n",
      "  Type       : MapDataset\n",
      "  Name       : _hawc_nHit-2\n",
      "  Instrument : \n",
      "  Models     : \n",
      "\n",
      "Dataset 12: \n",
      "\n",
      "  Type       : MapDataset\n",
      "  Name       : _hawc_nHit-3\n",
      "  Instrument : \n",
      "  Models     : \n",
      "\n",
      "Dataset 13: \n",
      "\n",
      "  Type       : MapDataset\n",
      "  Name       : _hawc_nHit-4\n",
      "  Instrument : \n",
      "  Models     : \n",
      "\n",
      "Dataset 14: \n",
      "\n",
      "  Type       : MapDataset\n",
      "  Name       : _hawc_nHit-5\n",
      "  Instrument : \n",
      "  Models     : \n",
      "\n",
      "Dataset 15: \n",
      "\n",
      "  Type       : MapDataset\n",
      "  Name       : _hawc_nHit-6\n",
      "  Instrument : \n",
      "  Models     : \n",
      "\n",
      "Dataset 16: \n",
      "\n",
      "  Type       : MapDataset\n",
      "  Name       : _hawc_nHit-7\n",
      "  Instrument : \n",
      "  Models     : \n",
      "\n",
      "Dataset 17: \n",
      "\n",
      "  Type       : MapDataset\n",
      "  Name       : _hawc_nHit-8\n",
      "  Instrument : \n",
      "  Models     : \n",
      "\n",
      "Dataset 18: \n",
      "\n",
      "  Type       : MapDataset\n",
      "  Name       : _hawc_nHit-9\n",
      "  Instrument : \n",
      "  Models     : \n",
      "\n",
      "\n"
     ]
    }
   ],
   "source": [
    "print(datasets)"
   ]
  },
  {
   "cell_type": "markdown",
   "id": "e5cbfca8",
   "metadata": {},
   "source": [
    "and write everything in our working directory"
   ]
  },
  {
   "cell_type": "code",
   "execution_count": 8,
   "id": "9facdea9",
   "metadata": {},
   "outputs": [
    {
     "name": "stderr",
     "output_type": "stream",
     "text": [
      "HDU 'MASK_FIT' not found\n",
      "HDU 'MASK_FIT' not found\n",
      "HDU 'MASK_FIT' not found\n",
      "HDU 'MASK_FIT' not found\n",
      "HDU 'MASK_FIT' not found\n",
      "HDU 'MASK_FIT' not found\n",
      "HDU 'MASK_FIT' not found\n",
      "HDU 'MASK_FIT' not found\n",
      "HDU 'MASK_FIT' not found\n"
     ]
    }
   ],
   "source": [
    "path = Path(\"./datasets/joint_crab/\")\n",
    "path.mkdir(exist_ok=True)\n",
    "\n",
    "filename = path / \"datasets_joint_crab_1d.yaml\"\n",
    "datasets.write(filename, overwrite=True)"
   ]
  },
  {
   "cell_type": "code",
   "execution_count": null,
   "id": "deb6dd14",
   "metadata": {},
   "outputs": [],
   "source": []
  },
  {
   "cell_type": "code",
   "execution_count": null,
   "id": "d9f2f1a8",
   "metadata": {},
   "outputs": [],
   "source": []
  }
 ],
 "metadata": {
  "kernelspec": {
   "display_name": "Python 3 (ipykernel)",
   "language": "python",
   "name": "python3"
  },
  "language_info": {
   "codemirror_mode": {
    "name": "ipython",
    "version": 3
   },
   "file_extension": ".py",
   "mimetype": "text/x-python",
   "name": "python",
   "nbconvert_exporter": "python",
   "pygments_lexer": "ipython3",
   "version": "3.11.3"
  }
 },
 "nbformat": 4,
 "nbformat_minor": 5
}
